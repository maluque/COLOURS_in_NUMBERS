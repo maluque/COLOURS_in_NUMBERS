{
 "cells": [
  {
   "cell_type": "markdown",
   "id": "40cb8143",
   "metadata": {},
   "source": [
    "## 9. Machine Learning to predict clothing prices\n",
    "\n",
    "https://www.data-to-viz.com/\n",
    "\n",
    "https://github.com/cristianpjensen/stock-market-prediction-via-google-trends#data_collection\n",
    "https://github.com/le0x99/DailyTrends  "
   ]
  },
  {
   "cell_type": "markdown",
   "id": "99decdff",
   "metadata": {},
   "source": [
    "### 0. Import modules and load data"
   ]
  },
  {
   "cell_type": "code",
   "execution_count": 1,
   "id": "4a2f9801",
   "metadata": {},
   "outputs": [],
   "source": [
    "# data manipualtion and basics\n",
    "import pandas as pd\n",
    "import numpy as np\n",
    "import time\n",
    "from datetime import date\n",
    "\n",
    "\n",
    "import warnings\n",
    "warnings.filterwarnings('ignore') # ignorar warnings\n",
    "\n",
    "# For plotting\n",
    "import seaborn as sns  # esta basada en matplotlib\n",
    "import pylab as plt  # libreria basica para pintar\n",
    "#import matplotlib.pyplot as plt\n",
    "from matplotlib_venn import venn2\n",
    "\n",
    "plt.rcParams['figure.figsize']=(8, 6)  # tamaño por defecto, decenas de pixeles\n",
    "\n",
    "%matplotlib inline\n",
    "\n",
    "## my own functions\n",
    "from src import dataanalysis_fun1 as eda # Import my module\n"
   ]
  },
  {
   "cell_type": "code",
   "execution_count": 2,
   "id": "73751e1c",
   "metadata": {},
   "outputs": [],
   "source": [
    "# machine learning\n",
    "\n",
    "from sklearn.preprocessing import LabelEncoder  \n",
    "\n",
    "from sklearn.model_selection import train_test_split as tts\n",
    "from sklearn.model_selection import cross_validate\n",
    "from sklearn.model_selection import cross_val_score\n",
    "from sklearn.model_selection import train_test_split\n",
    "from sklearn.model_selection import GridSearchCV\n",
    "\n",
    "from sklearn.tree import DecisionTreeRegressor\n",
    "from sklearn.tree import plot_tree\n",
    "\n",
    "from sklearn.neighbors import KNeighborsRegressor\n",
    "\n",
    "from sklearn.ensemble import RandomForestRegressor\n",
    "from sklearn.ensemble import GradientBoostingRegressor\n",
    "\n",
    "\n",
    "from sklearn.metrics import mean_squared_log_error, mean_squared_error, r2_score, mean_absolute_error\n",
    "from sklearn.metrics import make_scorer\n",
    "from sklearn.metrics import mean_squared_error\n",
    "\n",
    "from sklearn.pipeline import Pipeline\n",
    "\n",
    "from sklearn.linear_model import LinearRegression \n",
    "from sklearn.linear_model import Lasso        # regularizacion L1\n",
    "from sklearn.linear_model import Ridge        # regularizacion L2\n",
    "from sklearn.linear_model import BayesianRidge\n",
    "\n",
    "from sklearn.svm import SVR \n",
    "\n",
    "from sklearn.neural_network import MLPRegressor\n",
    "\n",
    "from sklearn.decomposition import PCA  "
   ]
  },
  {
   "cell_type": "code",
   "execution_count": 3,
   "id": "7f2f7610",
   "metadata": {},
   "outputs": [],
   "source": [
    "ML_models_short = {\n",
    "    \"linear_regression\": LinearRegression(),\n",
    "    \"ridge_regression\": Ridge(),\n",
    "    \"lasso_regression\": Lasso(),\n",
    "    \"decision_tree_regressor\": DecisionTreeRegressor(),\n",
    "    \"random_forest_regressor\": RandomForestRegressor(),\n",
    "    \"gradient_boosting_regressor\": GradientBoostingRegressor(),\n",
    "    \"svr_rbf\": SVR(kernel = \"rbf\"),\n",
    "    \"svr_linear\": SVR(kernel = \"linear\"),\n",
    "    \"knn_regressor\": KNeighborsRegressor(),\n",
    "    \"mlp_regressor\": MLPRegressor(),\n",
    "    \"bayesian_ridge\": BayesianRidge()\n",
    "\n",
    "}\n",
    "\n",
    "\n",
    "def ML_fit_and_score(models, X_train, X_test, y_train, y_test):\n",
    "    \"\"\"\n",
    "    Fits the given machine learning models to the training data and evaluates their performance on the test data.    Parameters:\n",
    "    - models (dict): A dictionary where keys are model names and values are the corresponding machine learning models.\n",
    "    - X_train (array-like): Feature matrix of the training set.\n",
    "    - X_test (array-like): Feature matrix of the test set.\n",
    "    - y_train (array-like): True labels of the training set.\n",
    "    - y_test (array-like): True labels of the test set.   \n",
    "    Returns:\n",
    "    dict: A dictionary where keys are model names and values are their corresponding accuracy scores on the test set.    \n",
    "    This function takes a dictionary of machine learning models and fits each model to the training data.\n",
    "    It then evaluates the performance of each model on the provided test data using the `score` method,\n",
    "    and returns a dictionary of model names and their corresponding accuracy scores.\n",
    "    \"\"\"\n",
    "    #model_scores = {}\n",
    "    model_rmse = {}\n",
    "    for name, model in models.items():\n",
    "        model.fit(X_train, y_train)\n",
    "        \n",
    "        y_pred = model.predict(X_test)\n",
    " \n",
    "        # Calculate RMSE from the mean of y_test\n",
    "        baseline_predictions = np.full_like(y_test, y_test.mean())  # Create an array with mean values\n",
    "        baseline_rmse = round(mean_squared_error(y_test, baseline_predictions, squared=False), ndigits=2)\n",
    "\n",
    "\n",
    "        # Calculate RMSE from your model's predictions\n",
    "        model_rmse = round(mean_squared_error(y_test, y_pred, squared=False), ndigits=2)\n",
    "\n",
    "        # Calculate the model's score (if applicable)\n",
    "        model_score = round(model.score(X_test, y_test), 2)  # Assuming 'model' is your trained model\n",
    "\n",
    "        # Create a dictionary to store the metrics\n",
    "        metrics = {\n",
    "            'Model Score': model_score,\n",
    "            'Model RMSE': model_rmse,\n",
    "            'Baseline RMSE': baseline_rmse\n",
    "        }\n",
    "\n",
    "\n",
    "    return metrics"
   ]
  },
  {
   "cell_type": "code",
   "execution_count": 4,
   "id": "d0b77a48",
   "metadata": {},
   "outputs": [],
   "source": [
    "def ML_fit_and_score(models, X_train, X_test, y_train, y_test):\n",
    "    model_metrics = {}  # Dictionary to store metrics for each model\n",
    "    for name, model in models.items():\n",
    "        model.fit(X_train, y_train)\n",
    "        y_pred = model.predict(X_test)\n",
    "\n",
    "        # Calculate RMSE from the mean of y_test\n",
    "        baseline_predictions = np.full_like(y_test, y_test.mean())\n",
    "        baseline_rmse = round(mean_squared_error(y_test, baseline_predictions, squared=False), ndigits=2)\n",
    "\n",
    "        # Calculate RMSE from your model's predictions\n",
    "        model_rmse = round(mean_squared_error(y_test, y_pred, squared=False), ndigits=2)\n",
    "\n",
    "        # Calculate the model's score (if applicable)\n",
    "        model_score = round(model.score(X_test, y_test), 2)\n",
    "\n",
    "        # Store metrics in a dictionary for each model\n",
    "        model_metrics[name] = {\n",
    "            'Model Score': model_score,\n",
    "            'Model RMSE': model_rmse,\n",
    "            'Baseline RMSE': baseline_rmse\n",
    "        }\n",
    "\n",
    "    return model_metrics"
   ]
  },
  {
   "cell_type": "markdown",
   "id": "841b57c1",
   "metadata": {},
   "source": [
    "### 0. Load dataset for machine learning"
   ]
  },
  {
   "cell_type": "code",
   "execution_count": 5,
   "id": "c3a41319",
   "metadata": {},
   "outputs": [],
   "source": [
    "#clothes_dum=pd.read_csv(\"../data/clean/clothes_dum.csv\")\n",
    "clothes_sim=pd.read_csv(\"../data/clean/clothes_simple.csv\")\n",
    "#clothes_comp=pd.read_csv(\"../data/clean/clothes_complete.csv\")"
   ]
  },
  {
   "cell_type": "markdown",
   "id": "26d379b7",
   "metadata": {},
   "source": [
    "#### Assign colors to catgories"
   ]
  },
  {
   "cell_type": "code",
   "execution_count": 11,
   "id": "aaec3c0c",
   "metadata": {},
   "outputs": [],
   "source": [
    "## COLOR CODES MATCH THE COLOR LABEL\n",
    "colors_dict = {\n",
    "    'brown': '#800000',\n",
    "    'red': '#FF0000',\n",
    "    'yellow': '#FFFF00',\n",
    "    'blue': '#0000FF',\n",
    "    'beige': '#F5F5DC',\n",
    "    'white': '#FFFFFF',\n",
    "    'gray': '#808080',\n",
    "    'purple': '#800080',\n",
    "    'multicolor': '#FF00FF',  # Specifying a different color for 'multicolor'\n",
    "    'orange': '#FFA500',\n",
    "    'black': '#000000',\n",
    "    'pink': '#FFC0CB',\n",
    "    'green': '#008000',\n",
    "    'turquoise': '#40E0D0',\n",
    "    'gold': '#FFD700'\n",
    "}\n",
    "\n",
    "types_dict = {\n",
    "    'sweater': '#FF0000',\n",
    "    'sweatshirt': '#0000FF',\n",
    "    'top': '#808080',\n",
    "    'dress': '#FFA500',\n",
    "    'tshirt': '#000000',\n",
    "    'shirt': '#008000'\n",
    "}\n",
    "\n",
    "class_dict = {\"low\": \"grey\", \"middle\": \"orange\", \"high\":\"red\"}\n",
    "\n",
    "# Map color labels to their respective color codes\n",
    "clothes_sim['colour_colorcode'] = clothes_sim['colour'].map(colors_dict)\n",
    "clothes_sim['type_colorcode'] = clothes_sim['type'].map(types_dict)\n",
    "clothes_sim['class_colorcode'] = clothes_sim['brand_class'].map(class_dict)\n",
    "\n",
    "##\n",
    "\n",
    "clothes_comp['colour_colorcode'] = clothes_comp['colour'].map(colors_dict)\n",
    "clothes_comp['type_colorcode'] = clothes_comp['type'].map(types_dict)\n",
    "clothes_comp['class_colorcode'] = clothes_comp['brand_class'].map(class_dict)\n"
   ]
  },
  {
   "cell_type": "code",
   "execution_count": 12,
   "id": "5e36e43c",
   "metadata": {},
   "outputs": [],
   "source": [
    "types_list=list(types_dict.keys())\n",
    "type_df=clothes_sim[clothes_sim[\"type\"]==types_list[0]]"
   ]
  },
  {
   "cell_type": "code",
   "execution_count": 13,
   "id": "78f8530b",
   "metadata": {},
   "outputs": [
    {
     "data": {
      "image/png": "[encoded data removed]",
      "text/plain": [
       "<Figure size 1000x400 with 4 Axes>"
      ]
     },
     "metadata": {},
     "output_type": "display_data"
    }
   ],
   "source": [
    "df=type_df\n",
    "categorical_columns = ['brand_class', 'gender', 'colour', 'type']\n",
    "\n",
    "fig, axes = plt.subplots(1, 4, figsize=(10, 4))  # 1 row, 2 columns for side-by-side plots\n",
    "\n",
    "for i, column in enumerate(categorical_columns):\n",
    "    sns.boxplot(x=column, y='price_pack', data=df, ax=axes[i], fliersize=1, linewidth=0.5)\n",
    "    axes[i].set_title(f'Price Distribution by {column}')\n",
    "    axes[i].set_xlabel(column)\n",
    "    axes[i].set_ylabel('Price')\n",
    "    axes[i].tick_params(axis='x', rotation=45)\n",
    "\n",
    "plt.tight_layout()\n",
    "plt.show()"
   ]
  },
  {
   "cell_type": "markdown",
   "id": "4305258a",
   "metadata": {},
   "source": [
    "### General pipeline to find the best ML predictor model\n",
    "\n",
    "   * One hot encoding - Dummy variables <br/>\n",
    "    \n",
    "* Divide X and y\n",
    "\n",
    "    * Using all types together or not <br/>\n",
    "    * Incuding or excluding outliers <br/>\n",
    "    * With our without PCA <br/>\n",
    "\n",
    "* Divide train/test set\n",
    "\n",
    "* Evaluate multiple supervised models\n",
    "* Select the best (highest) R2\n",
    "* Fit/Predict on the data - Eval the RMSE"
   ]
  },
  {
   "cell_type": "code",
   "execution_count": 8,
   "id": "ef522317",
   "metadata": {},
   "outputs": [],
   "source": [
    "def var_to_dum(df_dum, dum_vars):\n",
    "    \n",
    "    for col_dum in dum_vars:\n",
    "        dummies_temp = pd.get_dummies(df_dum[col_dum], drop_first=False)\n",
    "        df_dum = pd.concat([df_dum, dummies_temp], axis=1) # Concatenate the dummies \n",
    "        df_dum.drop(col_dum, axis=1, inplace=True) # Drop the original column \n",
    "    \n",
    "    return df_dum"
   ]
  },
  {
   "cell_type": "markdown",
   "id": "d4fbb3d7",
   "metadata": {},
   "source": [
    "## Try 1. Eval each clothing type separately, use brands classes - including potential outliers"
   ]
  },
  {
   "cell_type": "code",
   "execution_count": 33,
   "id": "1257254d",
   "metadata": {},
   "outputs": [],
   "source": [
    "types_list=list(types_dict.keys())\n",
    "\n",
    "models_sumdf=pd.DataFrame()\n",
    "\n",
    "for typ in types_list:\n",
    "    \n",
    "    type_df=clothes_sim[clothes_sim[\"type\"]==typ]\n",
    "    type_df=type_df.iloc[:, [1,2,3,5]]\n",
    "    \n",
    "    ### One-Hot encoding - dummy variables\n",
    "    \n",
    "    df_dum = type_df[[\"gender\", \"colour\", \"brand_class\", \"price_pack\"]]\n",
    "    dum_vars=[\"gender\", \"colour\", \"brand_class\"]\n",
    "\n",
    "    df_dum=var_to_dum(df_dum, dum_vars)\n",
    "\n",
    "    ### X/y, \n",
    "    \n",
    "    indep_var=\"price_pack\"\n",
    "    X = df_dum.drop([indep_var], axis=1)\n",
    "    y = df_dum[indep_var]   \n",
    "    \n",
    "    ### without PCA\n",
    "    ### Train/Test\n",
    "    \n",
    "    X_train, X_test, y_train, y_test = tts(X, y, test_size=0.2, random_state=42)\n",
    "\n",
    "    ### construct models - w/o PCA\n",
    "    type_models1=ML_fit_and_score(ML_models_short, X_train, X_test, y_train, y_test)\n",
    "    \n",
    "    models_sumdf1=pd.DataFrame(type_models1.values()).T\n",
    "    models_sumdf1[\"type\"]=typ\n",
    "    models_sumdf1[\"PCA\"]=0\n",
    "    \n",
    "    ### with PCA\n",
    "    \n",
    "    pca = PCA()\n",
    "    thefit_pca = pca.fit(X) # fitting of the PCA model \n",
    "    # to select # PC's: index at which the %variance explained > 0.7\n",
    "    cutoff =0.7\n",
    "    num_PC=len(np.cumsum(thefit_pca.explained_variance_ratio_)) - sum(np.cumsum(thefit_pca.explained_variance_ratio_)>=cutoff)\n",
    "    \n",
    "    ### PCA with optimal number of PC's\n",
    "    pca = PCA(n_components=num_PC)\n",
    "    thefit_pca = pca.fit(X) # fitting of the PCA model \n",
    "    X_PCs = pd.DataFrame(thefit_pca.transform(X)) # transformation of the data into principal components \n",
    "    \n",
    "    ### Train/Test\n",
    "    X_train, X_test, y_train, y_test = tts(X_PCs, y, test_size=0.2, random_state=42)\n",
    "    \n",
    "    ### construct models - with PCA\n",
    "    type_models1=ML_fit_and_score(ML_models_short, X_train, X_test, y_train, y_test)\n",
    "    \n",
    "    models_sumdf2=pd.DataFrame(type_models1.values()).T\n",
    "    models_sumdf2[\"type\"]=typ\n",
    "    models_sumdf2[\"PCA\"]=num_PC\n",
    "\n",
    "    models_sumdf0=pd.concat([models_sumdf1, models_sumdf2], axis=0)\n",
    "    models_sumdf=models_sumdf.append(models_sumdf0)\n",
    "    \n",
    "models_sumdf_try1=models_sumdf\n",
    "models_sumdf_try1[\"outlier\"]=\"including\""
   ]
  },
  {
   "cell_type": "markdown",
   "id": "b9905761",
   "metadata": {},
   "source": [
    "## Try 2. Eval each clothing type separately, use brands classes \n",
    "Excluding outliers >4 Z score"
   ]
  },
  {
   "cell_type": "code",
   "execution_count": 34,
   "id": "8daf9189",
   "metadata": {},
   "outputs": [],
   "source": [
    "types_list=list(types_dict.keys())\n",
    "\n",
    "models_sumdf=pd.DataFrame()\n",
    "\n",
    "for typ in types_list:\n",
    "    \n",
    "    type_df=clothes_sim[clothes_sim[\"type\"]==typ]\n",
    "    type_df=type_df.iloc[:, [1,2,3,5]]\n",
    "    \n",
    "    # Exclude outliers \n",
    "    \n",
    "    data=type_df[\"price_pack\"]\n",
    "    z_scores = (data - data.mean()) / data.std() #Calculate Z-Scores for numerical columns\n",
    "    threshold = 4 # Define a threshold (4 standard deviations)\n",
    "    outliers = np.abs(z_scores) > threshold\n",
    "    type_df=type_df[np.abs(z_scores) < threshold] # Exclude outliers\n",
    "    \n",
    "    ### One-Hot encoding - dummy variables\n",
    "    \n",
    "    df_dum = type_df[[\"gender\", \"colour\", \"brand_class\", \"price_pack\"]]\n",
    "    dum_vars=[\"gender\", \"colour\", \"brand_class\"]\n",
    "\n",
    "    df_dum=var_to_dum(df_dum, dum_vars)\n",
    "\n",
    "    ### X/y, \n",
    "    \n",
    "    indep_var=\"price_pack\"\n",
    "    X = df_dum.drop([indep_var], axis=1)\n",
    "    y = df_dum[indep_var]   \n",
    "    \n",
    "    ### without PCA\n",
    "    ### Train/Test\n",
    "    \n",
    "    X_train, X_test, y_train, y_test = tts(X, y, test_size=0.2, random_state=42)\n",
    "\n",
    "    ### construct models - w/o PCA\n",
    "    type_models1=ML_fit_and_score(ML_models_short,  X_train, X_test, y_train, y_test)\n",
    "    \n",
    "    models_sumdf1=pd.DataFrame(type_models1.values()).T\n",
    "    models_sumdf1[\"type\"]=typ\n",
    "    models_sumdf1[\"PCA\"]=0\n",
    "    \n",
    "    \n",
    "    ### with PCA\n",
    "    \n",
    "    pca = PCA()\n",
    "    thefit_pca = pca.fit(X) # fitting of the PCA model \n",
    "    # to select # PC's: index at which the %variance explained > 0.7\n",
    "    cutoff =0.7\n",
    "    num_PC=len(np.cumsum(thefit_pca.explained_variance_ratio_)) - sum(np.cumsum(thefit_pca.explained_variance_ratio_)>=cutoff)\n",
    "    \n",
    "    ### PCA with optimal number of PC's\n",
    "    pca = PCA(n_components=num_PC)\n",
    "    thefit_pca = pca.fit(X) # fitting of the PCA model \n",
    "    X_PCs = pd.DataFrame(thefit_pca.transform(X)) # transformation of the data into principal components \n",
    "    \n",
    "    ### Train/Test\n",
    "    X_train, X_test, y_train, y_test = tts(X_PCs, y, test_size=0.2, random_state=42)\n",
    "    \n",
    "    ### construct models - with PCA\n",
    "    type_models1=ML_fit_and_score(ML_models_short,  X_train, X_test, y_train, y_test)\n",
    "    \n",
    "    models_sumdf2=pd.DataFrame(type_models1.values()).T\n",
    "    models_sumdf2[\"type\"]=typ\n",
    "    models_sumdf2[\"PCA\"]=num_PC\n",
    "\n",
    "    models_sumdf0=pd.concat([models_sumdf1, models_sumdf2], axis=0)\n",
    "    models_sumdf=models_sumdf.append(models_sumdf0)\n",
    "    \n",
    "models_sumdf_try2=models_sumdf\n",
    "models_sumdf_try2[\"outlier\"]=\"excluding4\""
   ]
  },
  {
   "cell_type": "markdown",
   "id": "eb8250ed",
   "metadata": {},
   "source": [
    "## Try 3. Eval each clothing type separately, use brands classes \n",
    "Excluding outliers >3 Z score"
   ]
  },
  {
   "cell_type": "code",
   "execution_count": 35,
   "id": "d7c89d74",
   "metadata": {},
   "outputs": [],
   "source": [
    "types_list=list(types_dict.keys())\n",
    "\n",
    "models_sumdf=pd.DataFrame()\n",
    "\n",
    "for typ in types_list:\n",
    "    \n",
    "    type_df=clothes_sim[clothes_sim[\"type\"]==typ]\n",
    "    type_df=type_df.iloc[:, [1,2,3,5]]\n",
    "    \n",
    "    # Exclude outliers \n",
    "    \n",
    "    data=type_df[\"price_pack\"]\n",
    "    z_scores = (data - data.mean()) / data.std() #Calculate Z-Scores for numerical columns\n",
    "    threshold = 3 # Define a threshold (X standard deviations)\n",
    "    outliers = np.abs(z_scores) > threshold\n",
    "    type_df=type_df[np.abs(z_scores) < threshold] # Exclude outliers\n",
    "    \n",
    "    ### One-Hot encoding - dummy variables\n",
    "    \n",
    "    df_dum = type_df[[\"gender\", \"colour\", \"brand_class\", \"price_pack\"]]\n",
    "    dum_vars=[\"gender\", \"colour\", \"brand_class\"]\n",
    "\n",
    "    df_dum=var_to_dum(df_dum, dum_vars)\n",
    "\n",
    "    ### X/y, \n",
    "    \n",
    "    indep_var=\"price_pack\"\n",
    "    X = df_dum.drop([indep_var], axis=1)\n",
    "    y = df_dum[indep_var]   \n",
    "    \n",
    "    ### without PCA\n",
    "    ### Train/Test\n",
    "    \n",
    "    X_train, X_test, y_train, y_test = tts(X, y, test_size=0.2, random_state=42)\n",
    "\n",
    "    ### construct models - w/o PCA\n",
    "    type_models1=ML_fit_and_score(ML_models_short,  X_train, X_test, y_train, y_test)\n",
    "    \n",
    "    models_sumdf1=pd.DataFrame(type_models1.values()).T\n",
    "    models_sumdf1[\"type\"]=typ\n",
    "    models_sumdf1[\"PCA\"]=0\n",
    "    \n",
    "    \n",
    "    ### with PCA\n",
    "    \n",
    "    pca = PCA()\n",
    "    thefit_pca = pca.fit(X) # fitting of the PCA model \n",
    "    # to select # PC's: index at which the %variance explained > 0.7\n",
    "    cutoff =0.7\n",
    "    num_PC=len(np.cumsum(thefit_pca.explained_variance_ratio_)) - sum(np.cumsum(thefit_pca.explained_variance_ratio_)>=cutoff)\n",
    "    \n",
    "    ### PCA with optimal number of PC's\n",
    "    pca = PCA(n_components=num_PC)\n",
    "    thefit_pca = pca.fit(X) # fitting of the PCA model \n",
    "    X_PCs = pd.DataFrame(thefit_pca.transform(X)) # transformation of the data into principal components \n",
    "    \n",
    "    ### Train/Test\n",
    "    X_train, X_test, y_train, y_test = tts(X_PCs, y, test_size=0.2, random_state=42)\n",
    "    \n",
    "    ### construct models - with PCA\n",
    "    type_models1=ML_fit_and_score(ML_models_short,  X_train, X_test, y_train, y_test)\n",
    "    \n",
    "    models_sumdf2=pd.DataFrame(type_models1.values()).T\n",
    "    models_sumdf2[\"type\"]=typ\n",
    "    models_sumdf2[\"PCA\"]=num_PC\n",
    "\n",
    "    models_sumdf0=pd.concat([models_sumdf1, models_sumdf2], axis=0)\n",
    "    models_sumdf=models_sumdf.append(models_sumdf0)\n",
    "    \n",
    "models_sumdf_try3=models_sumdf\n",
    "models_sumdf_try3[\"outlier\"]=\"excluding3\""
   ]
  },
  {
   "cell_type": "markdown",
   "id": "51a14c58",
   "metadata": {},
   "source": [
    "## Try 4. Eval all clothing types together, use brands classes \n",
    "Excluding outliers >3 Z score"
   ]
  },
  {
   "cell_type": "code",
   "execution_count": 36,
   "id": "855b96c6",
   "metadata": {},
   "outputs": [],
   "source": [
    "types_list=list(types_dict.keys())\n",
    "\n",
    "models_sumdf=pd.DataFrame()\n",
    "\n",
    "for i in range(1): # to to avoid the re-indexing\n",
    "    \n",
    "    type_df=clothes_sim\n",
    "    type_df=type_df.iloc[:, [1,2,3,4,5]]\n",
    "    \n",
    "    # Exclude outliers \n",
    "    \n",
    "    data=type_df[\"price_pack\"]\n",
    "    z_scores = (data - data.mean()) / data.std() #Calculate Z-Scores for numerical columns\n",
    "    threshold = 3 # Define a threshold (X standard deviations)\n",
    "    outliers = np.abs(z_scores) > threshold\n",
    "    type_df=type_df[np.abs(z_scores) < threshold] # Exclude outliers\n",
    "    \n",
    "    ### One-Hot encoding - dummy variables\n",
    "    \n",
    "    df_dum = type_df[[\"gender\", \"type\", \"colour\", \"brand_class\", \"price_pack\"]]\n",
    "    dum_vars=[\"gender\",\"type\", \"colour\", \"brand_class\"]\n",
    "\n",
    "    df_dum=var_to_dum(df_dum, dum_vars)\n",
    "\n",
    "    ### X/y, \n",
    "    \n",
    "    indep_var=\"price_pack\"\n",
    "    X = df_dum.drop([indep_var], axis=1)\n",
    "    y = df_dum[indep_var]   \n",
    "    \n",
    "    ### without PCA\n",
    "    ### Train/Test\n",
    "    \n",
    "    X_train, X_test, y_train, y_test = tts(X, y, test_size=0.2, random_state=42)\n",
    "\n",
    "    ### construct models - w/o PCA\n",
    "    type_models1=ML_fit_and_score(ML_models_short,  X_train, X_test, y_train, y_test)\n",
    "    \n",
    "    models_sumdf1=pd.DataFrame(type_models1.values()).T\n",
    "    models_sumdf1[\"type\"]=\"all\"\n",
    "    models_sumdf1[\"PCA\"]=0    \n",
    "    \n",
    "    ### with PCA\n",
    "    \n",
    "    pca = PCA()\n",
    "    thefit_pca = pca.fit(X) # fitting of the PCA model \n",
    "    # to select # PC's: index at which the %variance explained > 0.7\n",
    "    cutoff =0.7\n",
    "    num_PC=len(np.cumsum(thefit_pca.explained_variance_ratio_)) - sum(np.cumsum(thefit_pca.explained_variance_ratio_)>=cutoff)\n",
    "    \n",
    "    ### PCA with optimal number of PC's\n",
    "    pca = PCA(n_components=num_PC)\n",
    "    thefit_pca = pca.fit(X) # fitting of the PCA model \n",
    "    X_PCs = pd.DataFrame(thefit_pca.transform(X)) # transformation of the data into principal components \n",
    "    \n",
    "    ### Train/Test\n",
    "    X_train, X_test, y_train, y_test = tts(X_PCs, y, test_size=0.2, random_state=42)\n",
    "    \n",
    "    ### construct models - with PCA\n",
    "    type_models1=ML_fit_and_score(ML_models_short, X_train, X_test, y_train, y_test)\n",
    "    \n",
    "    models_sumdf2=pd.DataFrame(type_models1.values()).T\n",
    "    models_sumdf2[\"type\"]=\"all\"\n",
    "    models_sumdf2[\"PCA\"]=num_PC\n",
    "\n",
    "    models_sumdf0=pd.concat([models_sumdf1, models_sumdf2], axis=0)\n",
    "    models_sumdf=models_sumdf.append(models_sumdf0)\n",
    "\n",
    "    \n",
    "models_sumdf_try4=models_sumdf\n",
    "models_sumdf_try4[\"outlier\"]=\"excluding3\""
   ]
  },
  {
   "cell_type": "markdown",
   "id": "7a3d110f",
   "metadata": {},
   "source": [
    "### Concat the 38 types of models we constructed and then filter the best models\n",
    "\n",
    "Overall, Best models:\n",
    "* did not used PC's,<br/>\n",
    "* excluded outliers defined above 3 times standard deviation\n",
    "* mlp_regressor and gradient_boosting_regressor"
   ]
  },
  {
   "cell_type": "code",
   "execution_count": 37,
   "id": "970698d9",
   "metadata": {},
   "outputs": [],
   "source": [
    "models_sumdf_try1234=pd.concat([models_sumdf_try1, models_sumdf_try2, models_sumdf_try3, models_sumdf_try4], axis=0)\n",
    "models_sumdf_try1234.columns=[\"R2\", \"model_RMSE\", \"base_RMSE\", \"type\", \"PCA\", \"outlier\"]"
   ]
  },
  {
   "cell_type": "code",
   "execution_count": 40,
   "id": "082c95cc",
   "metadata": {},
   "outputs": [],
   "source": [
    "TOPmodels_sumdf_try1234=pd.DataFrame()\n",
    "\n",
    "for typ in types_list + [\"all\"]:\n",
    "    temp=models_sumdf_try1234[models_sumdf_try1234[\"type\"]==typ].sort_values(\"model_RMSE\", ascending=True)\n",
    "    TOPmodels_sumdf_try1234=TOPmodels_sumdf_try1234.append(temp.iloc[:2])\n"
   ]
  },
  {
   "cell_type": "markdown",
   "id": "8f047cf3",
   "metadata": {},
   "source": [
    "## Eval the model perfomance by comparing error metrics\n",
    "\n",
    "* Calculate Model's Error Metrics: Compute MAE, MSE, and RMSE for the **model's predictions**. <br/>\n",
    "* Calculate Errors Against the Mean: Calculate MAE, MSE, and RMSE using **the mean value** as predictions.<br/>\n",
    "\n",
    "This allows you to **assess how well the model performs compared to simply using the mean as a prediction**. Lower error metrics indicate better model performance compared to using the mean value alone for prediction. <br/>\n",
    "\n",
    "If the model's error metrics (MAE, MSE, RMSE) are consistently lower than the errors against the mean, it suggests that the model outperforms a naive model that always predicts the mean value.\n",
    "\n",
    "\n",
    "#### All the models retrieved better predictions than just calculating the product average price\n",
    "\n",
    "* For the exception `sweatshirt`, the model including `all types of clothing` together returned better predictions. <br/>\n",
    "\n",
    "* The model not using PCA and using 7 PC's returned similar outcomes thus, for simplicity use the `mlp_regressor` that does not requires PCA"
   ]
  },
  {
   "cell_type": "markdown",
   "id": "7003343e",
   "metadata": {},
   "source": [
    "#### Our model reduced almost 5€ the error we would have when using the product average price to predict new product prices"
   ]
  },
  {
   "cell_type": "code",
   "execution_count": 42,
   "id": "cf1b87dc",
   "metadata": {},
   "outputs": [
    {
     "data": {
      "text/plain": [
       "-4.570000000000002"
      ]
     },
     "execution_count": 42,
     "metadata": {},
     "output_type": "execute_result"
    }
   ],
   "source": [
    "TOPmodels_sumdf_try1234.iloc[-1][\"model_RMSE\"]-TOPmodels_sumdf_try1234.iloc[-1][\"base_RMSE\"]"
   ]
  },
  {
   "cell_type": "markdown",
   "id": "44cc2b79",
   "metadata": {},
   "source": [
    "### Save/Load the summary of all ML models "
   ]
  },
  {
   "cell_type": "code",
   "execution_count": 43,
   "id": "08e323ad",
   "metadata": {},
   "outputs": [],
   "source": [
    "#models_sumdf_try1234.to_csv('../data/clean/MLmodels_summary.csv')"
   ]
  },
  {
   "cell_type": "markdown",
   "id": "bd1f9faf",
   "metadata": {},
   "source": [
    "### Code to predict the definitive data using the best models"
   ]
  },
  {
   "cell_type": "markdown",
   "id": "70dc4db9",
   "metadata": {},
   "source": [
    "**Create all the 540 possible combinations to predict the values ad-hoc**"
   ]
  },
  {
   "cell_type": "code",
   "execution_count": 6,
   "id": "c641f34d",
   "metadata": {},
   "outputs": [
    {
     "data": {
      "text/plain": [
       "540"
      ]
     },
     "execution_count": 6,
     "metadata": {},
     "output_type": "execute_result"
    }
   ],
   "source": [
    "from itertools import product\n",
    "\n",
    "levels = {\n",
    "    'brand_class': ['middle', 'high', 'low'],\n",
    "    'colour': ['beige', 'brown', 'red', 'yellow', 'blue', 'white', 'gray', 'purple', 'multicolor', 'orange', 'black', 'pink', 'green', 'turquoise', 'gold'],\n",
    "    'type': ['sweater', 'sweatshirt', 'top', 'dress', 'tshirt', 'shirt'],\n",
    "    'gender': ['men', 'women']\n",
    "}\n",
    "\n",
    "# Generate combinations\n",
    "all_combinations = list(product(*levels.values()))\n",
    "\n",
    "len(pd.DataFrame(all_combinations))"
   ]
  },
  {
   "cell_type": "code",
   "execution_count": 314,
   "id": "f0959636",
   "metadata": {},
   "outputs": [
    {
     "name": "stdout",
     "output_type": "stream",
     "text": [
      "Price Range?fvr\n",
      "Color?fwe\n",
      "Type of clothing?vs\n",
      "Gender?v e\n"
     ]
    }
   ],
   "source": [
    "AA=input(\"Price Range?\")\n",
    "BB=input(\"Color?\")\n",
    "CC=input(\"Type of clothing?\")\n",
    "DD=input(\"Gender?\")"
   ]
  },
  {
   "cell_type": "code",
   "execution_count": 175,
   "id": "b8e54251",
   "metadata": {},
   "outputs": [],
   "source": [
    "AA, BB, CC, DD = all_combinations[0]"
   ]
  },
  {
   "cell_type": "markdown",
   "id": "d4179788",
   "metadata": {},
   "source": [
    "#### The best model was: mlp_regressor , outliers > 3 standard deviations"
   ]
  },
  {
   "cell_type": "code",
   "execution_count": null,
   "id": "d84466b1",
   "metadata": {},
   "outputs": [],
   "source": [
    "clothes_MLres=pd.DataFrame()\n",
    "\n",
    "#for i in range(len(all_combinations)):\n",
    "for i in range(451, 540):   \n",
    "    # transform the user input to df\n",
    "    AA, BB, CC, DD = all_combinations[i]\n",
    "    user_input=[AA, BB, CC, DD, 0]\n",
    "    \n",
    "    user_df=pd.DataFrame(user_input).T\n",
    "    user_df.columns=[\"brand_class\", \"colour\", \"gender\", \"type\", \"price_pack\"]\n",
    "\n",
    "    # transform our df and append user info\n",
    "    type_df=clothes_sim\n",
    "    type_df=type_df.iloc[:, [1,2,3,4,5]]\n",
    "\n",
    "    # Exclude outliers \n",
    "\n",
    "    data=type_df[\"price_pack\"]\n",
    "    z_scores = (data - data.mean()) / data.std() #Calculate Z-Scores for numerical columns\n",
    "    threshold = 3      # Define a threshold (X standard deviations)\n",
    "    outliers = np.abs(z_scores) > threshold\n",
    "    type_df=type_df[np.abs(z_scores) < threshold] # Exclude outliers\n",
    "\n",
    "    ### One-Hot encoding - dummy variables\n",
    "\n",
    "    df_dum = type_df[[\"gender\", \"type\", \"colour\", \"brand_class\", \"price_pack\"]]\n",
    "    dum_vars=[\"gender\",\"type\", \"colour\", \"brand_class\"]\n",
    "\n",
    "    df_dum=var_to_dum(df_dum, dum_vars)\n",
    "\n",
    "    # X/y\n",
    "    indep_var=\"price_pack\"\n",
    "    X = df_dum.drop([indep_var], axis=1)\n",
    "    y = df_dum[indep_var]   \n",
    "\n",
    "    # train/test - Now we fit the model with all the data and use the last column as test\n",
    "    # Train/test split\n",
    "    X_train = X.iloc[:-1]\n",
    "    X_test = X.iloc[-1:]\n",
    "\n",
    "    y_train = y.iloc[:-1]\n",
    "    y_test = y.iloc[-1:]\n",
    "\n",
    "    # X_train.shape, X_test.shape, y_train.shape , y_test.shape\n",
    "\n",
    "\n",
    "    model = MLPRegressor()\n",
    "    model.fit(X_train, y_train)\n",
    "    y_pred = model.predict(X_test)\n",
    "    \n",
    "    clothes_MLres0 = pd.DataFrame([all_combinations[i]], columns=levels.keys())\n",
    "    clothes_MLres0['price_pack'] = y_pred\n",
    "    \n",
    "    clothes_MLres=clothes_MLres.append(clothes_MLres0)\n",
    "    \n",
    "    if i==100:\n",
    "        clothes_MLres.to_csv(f'../data/raw/clothes_MLres{i}.csv')\n",
    "        \n",
    "    if i==200:\n",
    "        clothes_MLres.to_csv(f'../data/raw/clothes_MLres{i}.csv')\n",
    "        \n",
    "    if i==300:\n",
    "        clothes_MLres.to_csv(f'../data/raw/clothes_MLres{i}.csv')\n",
    "        \n",
    "    if i==400:\n",
    "        clothes_MLres.to_csv(f'../data/raw/clothes_MLres{i}.csv')\n",
    "        \n",
    "    print(i)\n",
    "\n",
    "#202"
   ]
  },
  {
   "cell_type": "code",
   "execution_count": 139,
   "id": "fa24f4c5",
   "metadata": {},
   "outputs": [],
   "source": [
    "## save ML results"
   ]
  },
  {
   "cell_type": "code",
   "execution_count": 140,
   "id": "c7ba91c6",
   "metadata": {},
   "outputs": [],
   "source": [
    "clothes_comp=pd.read_csv(\"../data/clean/clothes_complete.csv\")\n",
    "with pd.ExcelWriter('../data/clean/clothes_ML.xlsx') as writer:\n",
    "    \n",
    "    clothes_comp.to_excel(writer, sheet_name='clothes', index=False)\n",
    "\n",
    "    clothes_MLres.to_excel(writer, sheet_name='clothes_MLres', index=False)"
   ]
  },
  {
   "cell_type": "code",
   "execution_count": null,
   "id": "0aae9d13",
   "metadata": {},
   "outputs": [],
   "source": []
  },
  {
   "cell_type": "markdown",
   "id": "0c57861c",
   "metadata": {},
   "source": [
    "#### Define the optimal number of PCs"
   ]
  },
  {
   "cell_type": "code",
   "execution_count": 31,
   "id": "b77e0810",
   "metadata": {
    "scrolled": false
   },
   "outputs": [
    {
     "data": {
      "image/png": "[encoded data removed]",
      "text/plain": [
       "<Figure size 300x200 with 1 Axes>"
      ]
     },
     "metadata": {},
     "output_type": "display_data"
    }
   ],
   "source": [
    "pca = PCA()\n",
    "thefit_pca = pca.fit(X) # fitting of the PCA model \n",
    "\n",
    "# to select # PC's: index at which the %variance explained > 0.7\n",
    "cutoff =0.7\n",
    "num_PC=len(np.cumsum(thefit_pca.explained_variance_ratio_)) - sum(np.cumsum(thefit_pca.explained_variance_ratio_)>=cutoff)\n",
    "\n",
    "plt.figure(figsize=(3, 2))\n",
    "\n",
    "plt.plot(np.cumsum(thefit_pca.explained_variance_ratio_))\n",
    "plt.axvline(x=num_PC, color='r', linestyle='--')  # Red dashed line at component 10\n",
    "plt.axhline(y=cutoff, color='r', linestyle='--')  # Red dashed line at component 10\n",
    "plt.xlabel('Numero de componentes')\n",
    "plt.ylabel('% varianza')\n",
    "plt.ylim([0, 1.01]);"
   ]
  },
  {
   "cell_type": "markdown",
   "id": "06285762",
   "metadata": {},
   "source": [
    "### T-SNE - Bonus analysis on the data"
   ]
  },
  {
   "cell_type": "code",
   "execution_count": 52,
   "id": "e17d91c8",
   "metadata": {},
   "outputs": [
    {
     "data": {
      "text/html": [
       "<div>\n",
       "<style scoped>\n",
       "    .dataframe tbody tr th:only-of-type {\n",
       "        vertical-align: middle;\n",
       "    }\n",
       "\n",
       "    .dataframe tbody tr th {\n",
       "        vertical-align: top;\n",
       "    }\n",
       "\n",
       "    .dataframe thead th {\n",
       "        text-align: right;\n",
       "    }\n",
       "</style>\n",
       "<table border=\"1\" class=\"dataframe\">\n",
       "  <thead>\n",
       "    <tr style=\"text-align: right;\">\n",
       "      <th></th>\n",
       "      <th>e1</th>\n",
       "      <th>e2</th>\n",
       "    </tr>\n",
       "  </thead>\n",
       "  <tbody>\n",
       "    <tr>\n",
       "      <th>0</th>\n",
       "      <td>-8.300722</td>\n",
       "      <td>-24.396269</td>\n",
       "    </tr>\n",
       "    <tr>\n",
       "      <th>1</th>\n",
       "      <td>-8.300722</td>\n",
       "      <td>-24.396269</td>\n",
       "    </tr>\n",
       "    <tr>\n",
       "      <th>2</th>\n",
       "      <td>-8.300722</td>\n",
       "      <td>-24.396269</td>\n",
       "    </tr>\n",
       "    <tr>\n",
       "      <th>3</th>\n",
       "      <td>-23.682760</td>\n",
       "      <td>2.062716</td>\n",
       "    </tr>\n",
       "    <tr>\n",
       "      <th>4</th>\n",
       "      <td>18.625515</td>\n",
       "      <td>-56.666191</td>\n",
       "    </tr>\n",
       "  </tbody>\n",
       "</table>\n",
       "</div>"
      ],
      "text/plain": [
       "          e1         e2\n",
       "0  -8.300722 -24.396269\n",
       "1  -8.300722 -24.396269\n",
       "2  -8.300722 -24.396269\n",
       "3 -23.682760   2.062716\n",
       "4  18.625515 -56.666191"
      ]
     },
     "execution_count": 52,
     "metadata": {},
     "output_type": "execute_result"
    }
   ],
   "source": [
    "tsne = TSNE(n_components=2, perplexity=20)\n",
    "\n",
    "\n",
    "emb = tsne.fit_transform(X)\n",
    "\n",
    "emb = pd.DataFrame(emb, columns=['e1', 'e2'])\n",
    "\n",
    "emb.head()"
   ]
  },
  {
   "cell_type": "code",
   "execution_count": 53,
   "id": "7a96dbd0",
   "metadata": {},
   "outputs": [
    {
     "data": {
      "text/plain": [
       "((37783, 2), (37783, 22), (37783, 6))"
      ]
     },
     "execution_count": 53,
     "metadata": {},
     "output_type": "execute_result"
    }
   ],
   "source": [
    "emb.shape, X.shape, clothes_sim.shape"
   ]
  },
  {
   "cell_type": "code",
   "execution_count": 89,
   "id": "91a7f700",
   "metadata": {},
   "outputs": [],
   "source": [
    "## COLOR CODES MATCH THE COLOR LABEL\n",
    "colors_dict = {\n",
    "    'brown': '#800000',\n",
    "    'red': '#FF0000',\n",
    "    'yellow': '#FFFF00',\n",
    "    'blue': '#0000FF',\n",
    "    'beige': '#F5F5DC',\n",
    "    'white': '#FFFFFF',\n",
    "    'gray': '#808080',\n",
    "    'purple': '#800080',\n",
    "    'multicolor': '#FF00FF',  # Specifying a different color for 'multicolor'\n",
    "    'orange': '#FFA500',\n",
    "    'black': '#000000',\n",
    "    'pink': '#FFC0CB',\n",
    "    'green': '#008000',\n",
    "    'turquoise': '#40E0D0',\n",
    "    'gold': '#FFD700'\n",
    "}\n",
    "\n",
    "types_dict = {\n",
    "    'sweater': '#FF0000',\n",
    "    'sweatshirt': '#0000FF',\n",
    "    'top': '#808080',\n",
    "    'dress': '#FFA500',\n",
    "    'tshirt': '#000000',\n",
    "    'shirt': '#008000'\n",
    "}\n",
    "\n",
    "class_dict = {\"low\": \"grey\", \"middle\": \"orange\", \"high\":\"red\"}\n",
    "\n",
    "# Map color labels to their respective color codes\n",
    "clothes_sim['colour_colorcode'] = clothes_sim['colour'].map(colors_dict)\n",
    "clothes_sim['type_colorcode'] = clothes_sim['type'].map(types_dict)\n",
    "clothes_sim['class_colorcode'] = clothes_sim['brand_class'].map(class_dict)\n"
   ]
  },
  {
   "cell_type": "code",
   "execution_count": 109,
   "id": "de3b1de8",
   "metadata": {
    "scrolled": true
   },
   "outputs": [
    {
     "data": {
      "image/png": "[encoded data removed]",
      "text/plain": [
       "<Figure size 1200x400 with 3 Axes>"
      ]
     },
     "metadata": {},
     "output_type": "display_data"
    }
   ],
   "source": [
    "fig, axes = plt.subplots(1, 3, figsize=(12, 4))  # 1 row, 2 columns for side-by-side plots\n",
    "\n",
    "\n",
    "# Replace 'e1' and 'e2' with the column names of the t-SNE embeddings DataFrame\n",
    "e1 = emb['e1']\n",
    "e2 = emb['e2']\n",
    "\n",
    "emb.plot.scatter(x='e1', \n",
    "                 y='e2', \n",
    "                 c=clothes_sim['type_colorcode'], ax=axes[0])\n",
    "axes[0].set_title('t-SNE - Type')\n",
    "\n",
    "emb.plot.scatter(x='e1', \n",
    "                 y='e2', \n",
    "                 c=clothes_sim['colour_colorcode'], ax=axes[1])\n",
    "axes[1].set_title('t-SNE - Color')\n",
    "\n",
    "emb.plot.scatter(x='e1', \n",
    "                 y='e2', \n",
    "                 c=clothes_sim['class_colorcode'], ax=axes[2])\n",
    "axes[2].set_title('t-SNE - Brand Class Price')\n",
    "\n",
    "plt.tight_layout()\n",
    "plt.show()"
   ]
  },
  {
   "cell_type": "markdown",
   "id": "dbbe653a",
   "metadata": {},
   "source": [
    "### Hyperparameter tuning -  Grid search and Random Grid search"
   ]
  },
  {
   "cell_type": "code",
   "execution_count": 14,
   "id": "b7032c64",
   "metadata": {},
   "outputs": [],
   "source": [
    "import warnings\n",
    "warnings.simplefilter('ignore')\n",
    "\n",
    "import numpy as np\n",
    "\n",
    "\n",
    "from sklearn.datasets import make_circles, make_regression\n",
    "\n",
    "from sklearn.model_selection import train_test_split as tts\n",
    "\n",
    "\n",
    "from sklearn.ensemble import RandomForestRegressor\n",
    "#from sklearn.ensemble import RandomForestClassifier as RFC\n",
    "\n",
    "\n",
    "from sklearn.model_selection import GridSearchCV        # por fuerza bruta"
   ]
  },
  {
   "cell_type": "markdown",
   "id": "4592ae82",
   "metadata": {},
   "source": [
    "###  grid with random forest"
   ]
  },
  {
   "cell_type": "code",
   "execution_count": 15,
   "id": "189866e0",
   "metadata": {},
   "outputs": [
    {
     "name": "stdout",
     "output_type": "stream",
     "text": [
      "Train:  0.4283828163124389\n",
      "Test:  0.4212764295052547\n"
     ]
    }
   ],
   "source": [
    "modelo = RandomForestRegressor()\n",
    "\n",
    "modelo.fit(X_train, y_train)\n",
    "\n",
    "#R2\n",
    "train_score=modelo.score(X_train, y_train)\n",
    "test_score=modelo.score(X_test, y_test)\n",
    "\n",
    "print ('Train: ',train_score)\n",
    "print('Test: ', test_score)"
   ]
  },
  {
   "cell_type": "code",
   "execution_count": 16,
   "id": "18da6039",
   "metadata": {},
   "outputs": [],
   "source": [
    "params = {'n_estimators': [10, 20, 50, 100, 150, 200, 500],\n",
    "          'max_depth': [5, 10, 20, 25]}"
   ]
  },
  {
   "cell_type": "code",
   "execution_count": 19,
   "id": "906d385e",
   "metadata": {},
   "outputs": [],
   "source": [
    "def grid(modelo, params):\n",
    "\n",
    "    g = GridSearchCV(modelo,     # modelo de ML de sklearn\n",
    "                     params,     # dictio de params a probar\n",
    "                     cv=5,       # cv=cross-validation\n",
    "                     return_train_score=True,   # error de entrenamiento\n",
    "                    )\n",
    "\n",
    "\n",
    "    g.fit(X, y)\n",
    "\n",
    "    # ajuste de todos los modelos y combinaciones\n",
    "    print('Acierto test: {:.2f}'.format(g.score(X_test, y_test)))\n",
    "    print('Acierto train: {:.2f}'.format(g.score(X_train, y_train)))\n",
    "    print('Mejores parametros: {}'.format(g.best_params_))\n",
    "    print('Mejor acierto cv: {:.2f}'.format(g.best_score_))\n",
    "\n",
    "\n",
    "    return g.best_estimator_.fit(X_train, y_train)"
   ]
  },
  {
   "cell_type": "code",
   "execution_count": 20,
   "id": "e7a4dd48",
   "metadata": {
    "scrolled": true
   },
   "outputs": [
    {
     "name": "stdout",
     "output_type": "stream",
     "text": [
      "Acierto test: 0.44\n",
      "Acierto train: 0.42\n",
      "Mejores parametros: {'max_depth': 10, 'n_estimators': 150}\n",
      "Mejor acierto cv: 0.38\n",
      "CPU times: user 7min 15s, sys: 2.73 s, total: 7min 18s\n",
      "Wall time: 7min 20s\n"
     ]
    }
   ],
   "source": [
    "%%time\n",
    "\n",
    "modelo_grid = grid(RandomForestRegressor(), params)"
   ]
  },
  {
   "cell_type": "code",
   "execution_count": 24,
   "id": "c96443c3",
   "metadata": {
    "scrolled": true
   },
   "outputs": [
    {
     "name": "stdout",
     "output_type": "stream",
     "text": [
      "Train:  0.42313259043977014\n",
      "Test:  0.4273325647289168\n"
     ]
    },
    {
     "data": {
      "text/plain": [
       "18.04137134201087"
      ]
     },
     "execution_count": 24,
     "metadata": {},
     "output_type": "execute_result"
    }
   ],
   "source": [
    "modelo = RandomForestRegressor(max_depth=10, n_estimators=150)\n",
    "\n",
    "modelo.fit(X_train, y_train)\n",
    "\n",
    "#R2\n",
    "train_score=modelo.score(X_train, y_train)\n",
    "test_score=modelo.score(X_test, y_test)\n",
    "\n",
    "print ('Train: ',train_score)\n",
    "print('Test: ', test_score)\n",
    "\n",
    "y_pred = modelo.predict(X_test)\n",
    "mse(y_test, y_pred, squared=False) "
   ]
  }
 ],
 "metadata": {
  "kernelspec": {
   "display_name": "env37",
   "language": "python",
   "name": "env37"
  },
  "language_info": {
   "codemirror_mode": {
    "name": "ipython",
    "version": 3
   },
   "file_extension": ".py",
   "mimetype": "text/x-python",
   "name": "python",
   "nbconvert_exporter": "python",
   "pygments_lexer": "ipython3",
   "version": "3.7.16"
  }
 },
 "nbformat": 4,
 "nbformat_minor": 5
}
