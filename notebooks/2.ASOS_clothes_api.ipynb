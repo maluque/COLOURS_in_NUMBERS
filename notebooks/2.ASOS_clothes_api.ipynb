{
 "cells": [
  {
   "cell_type": "markdown",
   "id": "c71216bc",
   "metadata": {},
   "source": [
    "# EXTRACT\n",
    "# Scraping Women t-shirts from ASOS API (2)\n",
    "\n",
    "\n",
    "(2) Extract more products similar to tshirt category"
   ]
  },
  {
   "cell_type": "markdown",
   "id": "b1eb1576",
   "metadata": {},
   "source": [
    "### 0. Import modules"
   ]
  },
  {
   "cell_type": "code",
   "execution_count": 3,
   "id": "645ccd3d",
   "metadata": {},
   "outputs": [],
   "source": [
    "import requests\n",
    "import time\n",
    "import pandas as pd\n",
    "import pickle"
   ]
  },
  {
   "cell_type": "code",
   "execution_count": 4,
   "id": "3e2d11f2",
   "metadata": {},
   "outputs": [],
   "source": [
    "from logs.PASSES import RAPID ## my TOKEN"
   ]
  },
  {
   "cell_type": "code",
   "execution_count": 5,
   "id": "15c20ebc",
   "metadata": {},
   "outputs": [
    {
     "data": {
      "text/plain": [
       "50"
      ]
     },
     "execution_count": 5,
     "metadata": {},
     "output_type": "execute_result"
    }
   ],
   "source": [
    "len(RAPID)"
   ]
  },
  {
   "cell_type": "markdown",
   "id": "5484b0b5",
   "metadata": {},
   "source": [
    "## RapidAPI - Asos\n",
    "\n",
    "RapidAPI is an API Marketplace for developers to find, connect, and manage their API connections. \n",
    "https://rapidapi.com/apidojo/api/zappos1"
   ]
  },
  {
   "cell_type": "code",
   "execution_count": 7,
   "id": "961ed5bd",
   "metadata": {},
   "outputs": [],
   "source": [
    "headers = {\n",
    "    \"X-RapidAPI-Key\": RAPID,\n",
    "    \"X-RapidAPI-Host\": \"asos2.p.rapidapi.com\"\n",
    "}"
   ]
  },
  {
   "cell_type": "markdown",
   "id": "70c3130a",
   "metadata": {},
   "source": [
    "### Get countries available to get ASOS data from\n",
    "\n",
    "Extract the relevant info for **SPAIN**"
   ]
  },
  {
   "cell_type": "code",
   "execution_count": 8,
   "id": "b6189a30",
   "metadata": {},
   "outputs": [],
   "source": [
    "url = \"https://asos2.p.rapidapi.com/countries/list\"\n",
    "\n",
    "response = requests.get(url, headers=headers)\n",
    "\n",
    "countries_res=response.json()"
   ]
  },
  {
   "cell_type": "code",
   "execution_count": 9,
   "id": "d85db3fb",
   "metadata": {},
   "outputs": [
    {
     "data": {
      "text/plain": [
       "'Spain'"
      ]
     },
     "metadata": {},
     "output_type": "display_data"
    },
    {
     "data": {
      "text/plain": [
       "'ES'"
      ]
     },
     "metadata": {},
     "output_type": "display_data"
    },
    {
     "data": {
      "text/plain": [
       "'es-ES'"
      ]
     },
     "metadata": {},
     "output_type": "display_data"
    },
    {
     "data": {
      "text/plain": [
       "'EUR'"
      ]
     },
     "metadata": {},
     "output_type": "display_data"
    }
   ],
   "source": [
    "ES_index = [index for index, countries in enumerate(countries_res) if countries.get(\"country\") == \"ES\"]\n",
    "nombre_pais=countries_res[ES_index[0]][\"name\"]\n",
    "pais=countries_res[ES_index[0]][\"country\"]\n",
    "idioma=countries_res[ES_index[0]][\"languages\"][0][\"language\"]\n",
    "moneda=countries_res[ES_index[0]][\"currencies\"][0][\"currency\"]\n",
    "\n",
    "display(nombre_pais, pais, idioma, moneda)"
   ]
  },
  {
   "cell_type": "markdown",
   "id": "0a01ece1",
   "metadata": {},
   "source": [
    "### Get data directly from `category_id`"
   ]
  },
  {
   "cell_type": "code",
   "execution_count": 15,
   "id": "9a9e7fa3",
   "metadata": {},
   "outputs": [],
   "source": [
    "url = \"https://asos2.p.rapidapi.com/categories/list\"\n",
    "\n",
    "querystring = {\"country\":\"pais\", \"lang\":\"idioma\"}\n",
    "\n",
    "response = requests.get(url, headers=headers, params=querystring)\n",
    "\n",
    "res=response.json()"
   ]
  },
  {
   "cell_type": "code",
   "execution_count": 16,
   "id": "608f2b0a",
   "metadata": {},
   "outputs": [],
   "source": [
    "res[\"navigation\"][0] #men\n",
    "res[\"navigation\"][1] #women\n",
    "resWomen=res[\"navigation\"][1]"
   ]
  },
  {
   "cell_type": "code",
   "execution_count": null,
   "id": "b336c187",
   "metadata": {},
   "outputs": [],
   "source": [
    "# resWomen"
   ]
  },
  {
   "cell_type": "markdown",
   "id": "a2c64808",
   "metadata": {},
   "source": [
    "### Create a list containing the type of items and their `category_id`"
   ]
  },
  {
   "cell_type": "code",
   "execution_count": 18,
   "id": "c22bbda3",
   "metadata": {},
   "outputs": [],
   "source": [
    "category_list=[]\n",
    "for RESW in resWomen[\"children\"]:\n",
    "   # display(RESW[\"children\"])\n",
    "    for i in range(len(RESW[\"children\"])):\n",
    "        RESW2=RESW[\"children\"][i][\"children\"]\n",
    "        for j in RESW2:\n",
    "            RESW3=j[\"children\"]\n",
    "            for n in RESW3:\n",
    "                #display(n[\"link\"][\"categoryId\"])\n",
    "                #display(n[\"link\"][\"webUrl\"])\n",
    "                category_list.append(n[\"link\"][\"webUrl\"])"
   ]
  },
  {
   "cell_type": "code",
   "execution_count": 19,
   "id": "8f5ef8ed",
   "metadata": {
    "scrolled": true
   },
   "outputs": [],
   "source": [
    "category_list2=[CAT.split(\"cid=\") for CAT in category_list]\n",
    "category_list2=[CAT for CAT in category_list2 if len(CAT)==2]"
   ]
  },
  {
   "cell_type": "code",
   "execution_count": 1,
   "id": "d8054e37",
   "metadata": {},
   "outputs": [],
   "source": [
    "#category_list2"
   ]
  },
  {
   "cell_type": "markdown",
   "id": "b670c742",
   "metadata": {},
   "source": [
    "### `category_id` of Woman T-shirts is # 20581"
   ]
  },
  {
   "cell_type": "code",
   "execution_count": null,
   "id": "e7c239d2",
   "metadata": {},
   "outputs": [],
   "source": [
    "#find_category=\"t-shirt\"\n",
    "#find_category=\"top\"\n",
    "find_category=\"shirt\"\n",
    "\n",
    "\n",
    "category_listx=[]\n",
    "for CAT in category_list2:\n",
    "    if(find_category in CAT[0]):\n",
    "        category_listx.append(CAT)\n",
    "        \n",
    "category_listx"
   ]
  },
  {
   "cell_type": "markdown",
   "id": "de11c575",
   "metadata": {},
   "source": [
    "### \"shirts\" `category_id` "
   ]
  },
  {
   "cell_type": "code",
   "execution_count": null,
   "id": "7d101ba1",
   "metadata": {},
   "outputs": [],
   "source": [
    "#find_category=\"t-shirt\"\n",
    "#find_category=\"top\"\n",
    "find_category=\"shirt\"\n",
    "\n",
    "category_listx=[]\n",
    "for CAT in category_list2:\n",
    "    if(find_category in CAT[0]):\n",
    "        category_listx.append(CAT)\n",
    "        \n",
    "category_listx"
   ]
  },
  {
   "cell_type": "code",
   "execution_count": 78,
   "id": "a5b49566",
   "metadata": {},
   "outputs": [
    {
     "data": {
      "text/plain": [
       "['15200', '20581', '13053', '27423', '11321', '20580']"
      ]
     },
     "execution_count": 78,
     "metadata": {},
     "output_type": "execute_result"
    }
   ],
   "source": [
    "categories=[VALS[1] for VALS in category_listx]\n",
    "categories=list(set(categories))\n",
    "categories_shirt=categories"
   ]
  },
  {
   "cell_type": "markdown",
   "id": "847b816b",
   "metadata": {},
   "source": [
    "### \"tops\" `category_id` "
   ]
  },
  {
   "cell_type": "code",
   "execution_count": 130,
   "id": "27b7deae",
   "metadata": {},
   "outputs": [
    {
     "data": {
      "text/plain": [
       "['20581', '4167', '4167', '20581', '4169', '27167', '9581', '9581', '27421']"
      ]
     },
     "execution_count": 130,
     "metadata": {},
     "output_type": "execute_result"
    }
   ],
   "source": [
    "#find_category=\"t-shirt\"\n",
    "find_category=\"top\"\n",
    "#find_category=\"shirt\"\n",
    "\n",
    "category_listx=[]\n",
    "for CAT in category_list2:\n",
    "    if(find_category in CAT[0]):\n",
    "        category_listx.append(CAT)\n",
    "\n",
    "category_listx=[VALS for VALS in category_listx if \"brands\" not in  VALS[0]]\n",
    "category_listx=[VALS[1] for VALS in category_listx]\n",
    "categories=[VALS.split(\"&\")[0] for VALS in category_listx]\n",
    "categories_top=categories\n",
    "categories_top"
   ]
  },
  {
   "cell_type": "code",
   "execution_count": 117,
   "id": "ea199c4a",
   "metadata": {},
   "outputs": [
    {
     "data": {
      "text/plain": [
       "[['https://www.asos.com/us/women/sale/tops/t-shirts-tank-tops/cat/?', '20581'],\n",
       " ['https://www.asos.com/us/women/sale/tops/t-shirts-tank-tops/cat/?', '20581']]"
      ]
     },
     "execution_count": 117,
     "metadata": {},
     "output_type": "execute_result"
    }
   ],
   "source": [
    "find_category=\"t-shirt\"\n",
    "#find_category=\"top\"\n",
    "#find_category=\"shirt\"\n",
    "\n",
    "category_listx=[]\n",
    "for CAT in category_list2:\n",
    "    if(find_category in CAT[0]):\n",
    "        category_listx.append(CAT)\n",
    "category_listx     "
   ]
  },
  {
   "cell_type": "code",
   "execution_count": 99,
   "id": "ec53419e",
   "metadata": {},
   "outputs": [],
   "source": [
    "categories=[VALS[1] for VALS in category_listx]\n",
    "categories=list(set(categories))\n",
    "categories=[VALS.split(\"&\")[0] for VALS in categories]\n",
    "categories_top=categories"
   ]
  },
  {
   "cell_type": "markdown",
   "id": "efc8a5e9",
   "metadata": {},
   "source": [
    "### dresses `category_id` "
   ]
  },
  {
   "cell_type": "code",
   "execution_count": null,
   "id": "c08ddf0e",
   "metadata": {},
   "outputs": [],
   "source": [
    "#find_category=\"t-shirt\"\n",
    "find_category=\"dresses\"\n",
    "#find_category=\"shirt\"\n",
    "\n",
    "category_listx=[]\n",
    "for CAT in category_list2:\n",
    "    if(find_category in CAT[0]):\n",
    "        category_listx.append(CAT)\n",
    "\n",
    "category_listx=[VALS for VALS in category_listx if \"brands\" not in  VALS[0]]\n",
    "category_listx=[VALS[1] for VALS in category_listx]\n",
    "categories=[VALS.split(\"&\")[0] for VALS in category_listx]\n",
    "categories_dress=categories\n"
   ]
  },
  {
   "cell_type": "markdown",
   "id": "5d302e6e",
   "metadata": {},
   "source": [
    "### ITERATE THE SEARCH TO GET ALL THE PRODUCTS \n",
    "\n",
    "Change the category id's to find different types of products"
   ]
  },
  {
   "cell_type": "code",
   "execution_count": 143,
   "id": "c1680d50",
   "metadata": {
    "scrolled": true
   },
   "outputs": [],
   "source": [
    "url = \"https://asos2.p.rapidapi.com/products/v2/list\"\n",
    "headers = {\n",
    "    \"X-RapidAPI-Key\": RAPID,\n",
    "    \"X-RapidAPI-Host\": \"asos2.p.rapidapi.com\"\n",
    "}\n",
    "\n",
    "# categories_dress\n",
    "# \"20581\" #only t-shirt\n",
    "# categories_top\n",
    "# categories_shirt\n",
    "\n",
    "\n",
    "category_id = categories_dress # \"20581\"\n",
    "limit = 48\n",
    "offset = 0\n",
    "results = []\n",
    "\n",
    "while True:\n",
    "    querystring = {\n",
    "        \"categoryId\": categories_dress, #\"20581\",\n",
    "        \"lang\":{idioma},\"currency\":{moneda},\"store\":{pais},\"country\":{pais},\n",
    "        \"limit\": str(limit),\n",
    "        \"offset\": str(offset),\n",
    "        \"sort\": \"freshness\"\n",
    "    }\n",
    "\n",
    "    response = requests.get(url, headers=headers, params=querystring)\n",
    "\n",
    "    if response.status_code == 200:\n",
    "        data = response.json()\n",
    "        results.extend(data['products'])  # Append the products from the current page to results\n",
    "        offset += limit  # Increment the offset to get the next page\n",
    "        if len(data['products']) < limit:\n",
    "            break  # Break the loop if the current page has fewer than the limit\n",
    "    else:\n",
    "        print(f\"Error: {response.status_code}\")\n",
    "        break  # Exit the loop on error\n",
    "\n"
   ]
  },
  {
   "cell_type": "code",
   "execution_count": 148,
   "id": "b1d9b267",
   "metadata": {},
   "outputs": [
    {
     "data": {
      "text/html": [
       "<div>\n",
       "<style scoped>\n",
       "    .dataframe tbody tr th:only-of-type {\n",
       "        vertical-align: middle;\n",
       "    }\n",
       "\n",
       "    .dataframe tbody tr th {\n",
       "        vertical-align: top;\n",
       "    }\n",
       "\n",
       "    .dataframe thead th {\n",
       "        text-align: right;\n",
       "    }\n",
       "</style>\n",
       "<table border=\"1\" class=\"dataframe\">\n",
       "  <thead>\n",
       "    <tr style=\"text-align: right;\">\n",
       "      <th></th>\n",
       "      <th>brand</th>\n",
       "      <th>description</th>\n",
       "      <th>price</th>\n",
       "      <th>colour</th>\n",
       "    </tr>\n",
       "  </thead>\n",
       "  <tbody>\n",
       "    <tr>\n",
       "      <th>0</th>\n",
       "      <td>Threadbare</td>\n",
       "      <td>Vestido blanco y negro 2 en 1 estilo jersey co...</td>\n",
       "      <td>29,99 €</td>\n",
       "      <td>Negro/blanco</td>\n",
       "    </tr>\n",
       "    <tr>\n",
       "      <th>1</th>\n",
       "      <td>In Wear</td>\n",
       "      <td>Vestido midi marrón con mangas abullonadas de ...</td>\n",
       "      <td>108,99 €</td>\n",
       "      <td>Negro</td>\n",
       "    </tr>\n",
       "    <tr>\n",
       "      <th>2</th>\n",
       "      <td>Gilli</td>\n",
       "      <td>Vestido midi color oliva con escote corazón de...</td>\n",
       "      <td>33,99 €</td>\n",
       "      <td>Oliva</td>\n",
       "    </tr>\n",
       "    <tr>\n",
       "      <th>3</th>\n",
       "      <td>QED London</td>\n",
       "      <td>Vestido corto a cuadros vichy azules de corte ...</td>\n",
       "      <td>34,99 €</td>\n",
       "      <td>Azul/blanco</td>\n",
       "    </tr>\n",
       "    <tr>\n",
       "      <th>4</th>\n",
       "      <td>Vero Moda</td>\n",
       "      <td>Vestido corto verde estilo jersey de manga lar...</td>\n",
       "      <td>42,99 €</td>\n",
       "      <td>Dark forest</td>\n",
       "    </tr>\n",
       "    <tr>\n",
       "      <th>...</th>\n",
       "      <td>...</td>\n",
       "      <td>...</td>\n",
       "      <td>...</td>\n",
       "      <td>...</td>\n",
       "    </tr>\n",
       "    <tr>\n",
       "      <th>7433</th>\n",
       "      <td>Liquorish</td>\n",
       "      <td>Vestido midi cruzado con bajo tipo pañuelo y e...</td>\n",
       "      <td>34,95 €</td>\n",
       "      <td>Multicolor</td>\n",
       "    </tr>\n",
       "    <tr>\n",
       "      <th>7434</th>\n",
       "      <td>&amp; Other Stories</td>\n",
       "      <td>Minivestido negro con manga abullonada de &amp; Ot...</td>\n",
       "      <td>35,05 €</td>\n",
       "      <td>NEGRO</td>\n",
       "    </tr>\n",
       "    <tr>\n",
       "      <th>7435</th>\n",
       "      <td>Selected</td>\n",
       "      <td>Vestido de cambray a rayas con detalle de punt...</td>\n",
       "      <td>23,00 €</td>\n",
       "      <td>Blanco</td>\n",
       "    </tr>\n",
       "    <tr>\n",
       "      <th>7436</th>\n",
       "      <td>ASOS Tall</td>\n",
       "      <td>Vestido estilo peto denim en negro desgastado ...</td>\n",
       "      <td>18,49 €</td>\n",
       "      <td>WASHED BLACK</td>\n",
       "    </tr>\n",
       "    <tr>\n",
       "      <th>7437</th>\n",
       "      <td>Parisian Tall</td>\n",
       "      <td>Vestido con mangas voluminosas de Parisian Tall</td>\n",
       "      <td>9,99 €</td>\n",
       "      <td>GRIS</td>\n",
       "    </tr>\n",
       "  </tbody>\n",
       "</table>\n",
       "<p>7438 rows × 4 columns</p>\n",
       "</div>"
      ],
      "text/plain": [
       "                brand                                        description  \\\n",
       "0          Threadbare  Vestido blanco y negro 2 en 1 estilo jersey co...   \n",
       "1             In Wear  Vestido midi marrón con mangas abullonadas de ...   \n",
       "2               Gilli  Vestido midi color oliva con escote corazón de...   \n",
       "3          QED London  Vestido corto a cuadros vichy azules de corte ...   \n",
       "4           Vero Moda  Vestido corto verde estilo jersey de manga lar...   \n",
       "...               ...                                                ...   \n",
       "7433        Liquorish  Vestido midi cruzado con bajo tipo pañuelo y e...   \n",
       "7434  & Other Stories  Minivestido negro con manga abullonada de & Ot...   \n",
       "7435         Selected  Vestido de cambray a rayas con detalle de punt...   \n",
       "7436        ASOS Tall  Vestido estilo peto denim en negro desgastado ...   \n",
       "7437    Parisian Tall    Vestido con mangas voluminosas de Parisian Tall   \n",
       "\n",
       "         price        colour  \n",
       "0      29,99 €  Negro/blanco  \n",
       "1     108,99 €         Negro  \n",
       "2      33,99 €         Oliva  \n",
       "3      34,99 €   Azul/blanco  \n",
       "4      42,99 €   Dark forest  \n",
       "...        ...           ...  \n",
       "7433   34,95 €    Multicolor  \n",
       "7434   35,05 €         NEGRO  \n",
       "7435   23,00 €        Blanco  \n",
       "7436   18,49 €  WASHED BLACK  \n",
       "7437    9,99 €          GRIS  \n",
       "\n",
       "[7438 rows x 4 columns]"
      ]
     },
     "execution_count": 148,
     "metadata": {},
     "output_type": "execute_result"
    }
   ],
   "source": [
    "thedf=[[row[\"brandName\"], row[\"name\"],  row[\"price\"][\"current\"][\"text\"], row[\"colour\"]] for row in results]\n",
    "tets_df=pd.DataFrame(thedf,columns=[\"brand\", \"description\", \"price\", \"colour\"])\n",
    "tets_df"
   ]
  },
  {
   "cell_type": "code",
   "execution_count": 144,
   "id": "ba33fed5",
   "metadata": {
    "scrolled": false
   },
   "outputs": [],
   "source": [
    "#asos_womendress_data=results #only t-shirts\n",
    "## asos_womentshirt_data=results #only t-shirts\n",
    "## asos_womenshirt2_data=results # all \"shirts\"\n",
    "#asos_womentop_data=results # all \"shirts\""
   ]
  },
  {
   "cell_type": "code",
   "execution_count": 145,
   "id": "6be23a05",
   "metadata": {},
   "outputs": [
    {
     "data": {
      "text/plain": [
       "7438"
      ]
     },
     "execution_count": 145,
     "metadata": {},
     "output_type": "execute_result"
    }
   ],
   "source": [
    "len(asos_womendress_data)"
   ]
  },
  {
   "cell_type": "markdown",
   "id": "c646298a",
   "metadata": {},
   "source": [
    "### Save the data using pickle\n",
    "\n",
    "Comment the lines to avoid overwriting"
   ]
  },
  {
   "cell_type": "code",
   "execution_count": 146,
   "id": "f72fd7df",
   "metadata": {},
   "outputs": [],
   "source": [
    "### Save the object to a file using pickle\n",
    "#with open('asos_womendress_data.pkl', 'wb') as file:\n",
    "#    pickle.dump(asos_womendress_data, file)\n",
    "\n",
    "### Save the object to a file using pickle\n",
    "#with open('asos_womentop_data.pkl', 'wb') as file:\n",
    "#    pickle.dump(asos_womentop_data, file)\n",
    "\n",
    "### Save the object to a file using pickle\n",
    "#with open('asos_womenshirt2_data.pkl', 'wb') as file:\n",
    "#    pickle.dump(asos_womenshirt2_data, file)\n",
    "    \n",
    "### Save the object to a file using pickle\n",
    "#with open('asos_womentshirt_data.pkl', 'wb') as file:\n",
    "#    pickle.dump(asos_womentshirt_data, file)"
   ]
  },
  {
   "cell_type": "markdown",
   "id": "7c8b096b",
   "metadata": {},
   "source": [
    "# Now the same for men"
   ]
  },
  {
   "cell_type": "markdown",
   "id": "4e596775",
   "metadata": {},
   "source": [
    "### Create a list containing the type of items and their `category_id`"
   ]
  },
  {
   "cell_type": "code",
   "execution_count": null,
   "id": "55dfa2e4",
   "metadata": {},
   "outputs": [],
   "source": [
    "category_list=[]\n",
    "for RESW in resMen[\"children\"]:\n",
    "   # display(RESW[\"children\"])\n",
    "    for i in range(len(RESW[\"children\"])):\n",
    "        RESW2=RESW[\"children\"][i][\"children\"]\n",
    "        for j in RESW2:\n",
    "            RESW3=j[\"children\"]\n",
    "            for n in RESW3:\n",
    "                #display(n[\"link\"][\"categoryId\"])\n",
    "                #display(n[\"link\"][\"webUrl\"])\n",
    "                category_list.append(n[\"link\"][\"webUrl\"])"
   ]
  },
  {
   "cell_type": "code",
   "execution_count": null,
   "id": "27672027",
   "metadata": {},
   "outputs": [],
   "source": [
    "category_list2=[CAT.split(\"cid=\") for CAT in category_list]\n",
    "category_list2=[CAT for CAT in category_list2 if len(CAT)==2]"
   ]
  },
  {
   "cell_type": "markdown",
   "id": "dc637268",
   "metadata": {},
   "source": [
    "### `category_id` of Men T-shirts"
   ]
  },
  {
   "cell_type": "code",
   "execution_count": null,
   "id": "f610f580",
   "metadata": {},
   "outputs": [],
   "source": [
    "find_category=\"t-shirt\"\n",
    "\n",
    "category_listx=[]\n",
    "for CAT in category_list2:\n",
    "    if(find_category in CAT[0]):\n",
    "        category_listx.append(CAT)\n",
    "        \n",
    "categories=[VALS[1] for VALS in category_listx]\n",
    "categories=list(set(categories))\n",
    "categories_Tshirt=categories"
   ]
  },
  {
   "cell_type": "markdown",
   "id": "39c29a06",
   "metadata": {},
   "source": [
    "### ITERATE THE SEARCH TO GET ALL THE PRODUCTS \n",
    "\n",
    "Change the category id's to find different types of products"
   ]
  },
  {
   "cell_type": "code",
   "execution_count": null,
   "id": "524d94bb",
   "metadata": {},
   "outputs": [],
   "source": [
    "url = \"https://asos2.p.rapidapi.com/products/v2/list\"\n",
    "headers = {\n",
    "    \"X-RapidAPI-Key\": RAPID,\n",
    "    \"X-RapidAPI-Host\": \"asos2.p.rapidapi.com\"\n",
    "}\n",
    "\n",
    "# categories_Tshirt\n",
    "\n",
    "\n",
    "category_id = categories_Tshirt #\n",
    "limit = 48\n",
    "offset = 0\n",
    "results = []\n",
    "\n",
    "while True:\n",
    "    querystring = {\n",
    "        \"categoryId\": \"27449\", #\"20581\",\n",
    "        \"lang\":{idioma},\"currency\":{moneda},\"store\":{pais},\"country\":{pais},\n",
    "        \"limit\": str(limit),\n",
    "        \"offset\": str(offset),\n",
    "        \"sort\": \"freshness\"\n",
    "    }\n",
    "\n",
    "    response = requests.get(url, headers=headers, params=querystring)\n",
    "\n",
    "    if response.status_code == 200:\n",
    "        data = response.json()\n",
    "        results.extend(data['products'])  # Append the products from the current page to results\n",
    "        offset += limit  # Increment the offset to get the next page\n",
    "        if len(data['products']) < limit:\n",
    "            break  # Break the loop if the current page has fewer than the limit\n",
    "    else:\n",
    "        print(f\"Error: {response.status_code}\")\n",
    "        break  # Exit the loop on error\n",
    "\n"
   ]
  },
  {
   "cell_type": "code",
   "execution_count": null,
   "id": "c8d87801",
   "metadata": {},
   "outputs": [],
   "source": [
    "thedf=[[row[\"brandName\"], row[\"name\"],  row[\"price\"][\"current\"][\"text\"], row[\"colour\"]] for row in results]\n",
    "tets_df=pd.DataFrame(thedf,columns=[\"brand\", \"description\", \"price\", \"colour\"])\n",
    "tets_df"
   ]
  },
  {
   "cell_type": "code",
   "execution_count": null,
   "id": "3dde6b06",
   "metadata": {},
   "outputs": [],
   "source": [
    "#asos_mentshirt_data1=results #only t-shirts\n",
    "#asos_mentshirt_data2=results #only t-shirts"
   ]
  },
  {
   "cell_type": "markdown",
   "id": "8764d8b2",
   "metadata": {},
   "source": [
    "### Save the data using pickle\n",
    "\n",
    "Comment the lines to avoid overwriting"
   ]
  },
  {
   "cell_type": "code",
   "execution_count": null,
   "id": "0dc90c17",
   "metadata": {},
   "outputs": [],
   "source": [
    "### Save the object to a file using pickle\n",
    "#with open('../data/raw/asos_mentshirt_data1.pkl', 'wb') as file:\n",
    "#   pickle.dump(asos_mentshirt_data1, file)\n",
    "\n",
    "### Save the object to a file using pickle\n",
    "#with open('../data/raw/asos_mentshirt_data2.pkl', 'wb') as file:\n",
    "#    pickle.dump(asos_mentshirt_data2, file)"
   ]
  }
 ],
 "metadata": {
  "kernelspec": {
   "display_name": "env37",
   "language": "python",
   "name": "env37"
  },
  "language_info": {
   "codemirror_mode": {
    "name": "ipython",
    "version": 3
   },
   "file_extension": ".py",
   "mimetype": "text/x-python",
   "name": "python",
   "nbconvert_exporter": "python",
   "pygments_lexer": "ipython3",
   "version": "3.7.16"
  }
 },
 "nbformat": 4,
 "nbformat_minor": 5
}
