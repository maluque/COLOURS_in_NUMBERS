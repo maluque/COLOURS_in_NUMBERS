{
 "cells": [
  {
   "cell_type": "markdown",
   "id": "41e71f7f",
   "metadata": {},
   "source": [
    "# TRANSFORM\n",
    "# Cleaning raw data from ASOS\n",
    "\n",
    "Data was accessed through an API between 2023-11-04 and 2023-11-09. <br/> \n",
    "Now the data must be cleaned and transformed to comply with the DDBB standards.\n",
    "\n",
    "\n",
    "The raw datasets have the following **structure**: <br/>\n",
    "* JSON files with a very complex structure <br/>\n",
    "\n",
    "The raw datasets have the following **issues to amend**:\n",
    "\n",
    "1. Keep only **brand, product description and price €**  <br/>\n",
    "2. ASOS dataset **486 names** for colours\n",
    "    * Normalize the color names using `mlg.namvector_clean`\n",
    "    * Simplify colour names according to the colors used by Amazon.es\n",
    "    * Use `color_simplification.pkl` - A chatGPT generated dictionary to simplifify the colors returned by ASOS\n",
    "    * Transform rows with multiple color values transform to \"multicolor\" <br/>\n",
    "<br/>\n",
    "3. Clean `price` column\n",
    "    * Take out € symbol\n",
    "    * Replace , for .\n",
    "    * Transform to float <br/>\n",
    "<br/>\n",
    "4. Normalize brand names\n"
   ]
  },
  {
   "cell_type": "markdown",
   "id": "4b0693e1",
   "metadata": {},
   "source": [
    "### 0. Import the modules"
   ]
  },
  {
   "cell_type": "code",
   "execution_count": 175,
   "id": "645ccd3d",
   "metadata": {},
   "outputs": [],
   "source": [
    "import requests\n",
    "import time\n",
    "import pandas as pd\n",
    "import pickle\n",
    "import numpy as np\n",
    "import warnings\n",
    "warnings.filterwarnings('ignore') # ignorar warnings\n",
    "\n",
    "\n",
    "from src import ETL_functions as etl\n",
    "from src import dataanalysis_fun1 as eda  #Import my module"
   ]
  },
  {
   "cell_type": "markdown",
   "id": "76d8b386",
   "metadata": {},
   "source": [
    "Reload my module if neccessary"
   ]
  },
  {
   "cell_type": "code",
   "execution_count": 176,
   "id": "d37ad064",
   "metadata": {},
   "outputs": [],
   "source": [
    "import importlib\n",
    "from src import dataanalysis_fun1 as mlg # Import the module\n",
    "#importlib.reload(mlg)  # Reload the module\n",
    "\n",
    "# Suppress warning when reloading the module\n",
    "with warnings.catch_warnings():\n",
    "    warnings.simplefilter(\"ignore\") \n",
    "    importlib.reload(mlg)  # Reload the module"
   ]
  },
  {
   "cell_type": "markdown",
   "id": "8729e08e",
   "metadata": {},
   "source": [
    "## 1. Load the data using pickle\n"
   ]
  },
  {
   "cell_type": "code",
   "execution_count": 177,
   "id": "a6a904e2",
   "metadata": {},
   "outputs": [],
   "source": [
    "with open('../data/raw/collapsed_dict2.pkl', 'rb') as file:\n",
    "    collapsed_dict2 = pickle.load(file)"
   ]
  },
  {
   "cell_type": "code",
   "execution_count": 178,
   "id": "6909971d",
   "metadata": {},
   "outputs": [],
   "source": [
    "with open('../data/raw/asos_womentshirt_data.pkl', 'rb') as file:\n",
    "    asos_womentshirt_data = pickle.load(file)\n",
    "    \n",
    "with open('../data/raw/asos_womendress_data.pkl', 'rb') as file:\n",
    "    asos_womendress_data = pickle.load(file)\n",
    "\n",
    "with open('../data/raw/asos_womentop_data.pkl', 'rb') as file:\n",
    "    asos_womentop_data = pickle.load(file)\n",
    "    \n",
    "with open('../data/raw/asos_womentop_data.pkl', 'rb') as file:\n",
    "    asos_womentop_data = pickle.load(file)\n",
    "\n",
    "asos_woman_list=[asos_womentshirt_data, asos_womendress_data, asos_womentop_data, asos_womentop_data]"
   ]
  },
  {
   "cell_type": "code",
   "execution_count": 179,
   "id": "81abb8dc",
   "metadata": {},
   "outputs": [],
   "source": [
    "with open('../data/raw/asos_mentshirt_data1.pkl', 'rb') as file:\n",
    "    asos_men1_data = pickle.load(file)\n",
    "    \n",
    "with open('../data/raw/asos_mentshirt_data2.pkl', 'rb') as file:\n",
    "    asos_men2_data = pickle.load(file)\n",
    "    \n",
    "asos_men_list=[asos_men1_data, asos_men2_data]"
   ]
  },
  {
   "cell_type": "markdown",
   "id": "b10f4675",
   "metadata": {},
   "source": [
    "## 2. Transform/clean the data\n",
    "\n",
    "First for women clothes, then for men dataset"
   ]
  },
  {
   "cell_type": "code",
   "execution_count": 180,
   "id": "d805a687",
   "metadata": {},
   "outputs": [],
   "source": [
    "asos_raw_list=asos_woman_list"
   ]
  },
  {
   "cell_type": "markdown",
   "id": "b9bf79a0",
   "metadata": {},
   "source": [
    "## 2.1 Join the datasets and parse them into DataFrame"
   ]
  },
  {
   "cell_type": "code",
   "execution_count": 181,
   "id": "d3740360",
   "metadata": {},
   "outputs": [
    {
     "data": {
      "text/html": [
       "<div>\n",
       "<style scoped>\n",
       "    .dataframe tbody tr th:only-of-type {\n",
       "        vertical-align: middle;\n",
       "    }\n",
       "\n",
       "    .dataframe tbody tr th {\n",
       "        vertical-align: top;\n",
       "    }\n",
       "\n",
       "    .dataframe thead th {\n",
       "        text-align: right;\n",
       "    }\n",
       "</style>\n",
       "<table border=\"1\" class=\"dataframe\">\n",
       "  <thead>\n",
       "    <tr style=\"text-align: right;\">\n",
       "      <th></th>\n",
       "      <th>index</th>\n",
       "      <th>brand</th>\n",
       "      <th>description</th>\n",
       "      <th>price</th>\n",
       "      <th>colour</th>\n",
       "    </tr>\n",
       "  </thead>\n",
       "  <tbody>\n",
       "    <tr>\n",
       "      <th>0</th>\n",
       "      <td>0</td>\n",
       "      <td>New Look</td>\n",
       "      <td>Top negro escalonado de manga larga con estamp...</td>\n",
       "      <td>16,99 €</td>\n",
       "      <td>Negro</td>\n",
       "    </tr>\n",
       "    <tr>\n",
       "      <th>1</th>\n",
       "      <td>1</td>\n",
       "      <td>Mama.licious</td>\n",
       "      <td>Top color ámbar dorado de manga larga con cuel...</td>\n",
       "      <td>45,99 €</td>\n",
       "      <td>Dorado ámbar</td>\n",
       "    </tr>\n",
       "    <tr>\n",
       "      <th>2</th>\n",
       "      <td>2</td>\n",
       "      <td>Mama.licious</td>\n",
       "      <td>Top amarillo de manga larga con cuello ancho d...</td>\n",
       "      <td>21,99 €</td>\n",
       "      <td>Dorado ámbar</td>\n",
       "    </tr>\n",
       "    <tr>\n",
       "      <th>3</th>\n",
       "      <td>3</td>\n",
       "      <td>Selected</td>\n",
       "      <td>Top marrón de manga larga con cuello alto de S...</td>\n",
       "      <td>31,99 €</td>\n",
       "      <td>Tierra oscura</td>\n",
       "    </tr>\n",
       "    <tr>\n",
       "      <th>4</th>\n",
       "      <td>4</td>\n",
       "      <td>Mama.licious</td>\n",
       "      <td>Top multicolor a rayas con cuello alto de punt...</td>\n",
       "      <td>40,99 €</td>\n",
       "      <td>MULTICOLOR</td>\n",
       "    </tr>\n",
       "    <tr>\n",
       "      <th>...</th>\n",
       "      <td>...</td>\n",
       "      <td>...</td>\n",
       "      <td>...</td>\n",
       "      <td>...</td>\n",
       "      <td>...</td>\n",
       "    </tr>\n",
       "    <tr>\n",
       "      <th>10555</th>\n",
       "      <td>13007</td>\n",
       "      <td>Vans</td>\n",
       "      <td>Camiseta naranja con logo en la parte izquierd...</td>\n",
       "      <td>12,00 €</td>\n",
       "      <td>Naranja</td>\n",
       "    </tr>\n",
       "    <tr>\n",
       "      <th>10556</th>\n",
       "      <td>13013</td>\n",
       "      <td>adidas performance</td>\n",
       "      <td>Top rosa con capas en la espalda de adidas Tra...</td>\n",
       "      <td>35,75 €</td>\n",
       "      <td>Rosa</td>\n",
       "    </tr>\n",
       "    <tr>\n",
       "      <th>10557</th>\n",
       "      <td>13019</td>\n",
       "      <td>Urban Bliss</td>\n",
       "      <td>Camiseta negra con lateral fruncido de Urban B...</td>\n",
       "      <td>4,00 €</td>\n",
       "      <td>Negro</td>\n",
       "    </tr>\n",
       "    <tr>\n",
       "      <th>10558</th>\n",
       "      <td>13024</td>\n",
       "      <td>ASOS DESIGN</td>\n",
       "      <td>Camiseta blanca de corte cuadrado sin mangas d...</td>\n",
       "      <td>9,49 €</td>\n",
       "      <td>Blanco</td>\n",
       "    </tr>\n",
       "    <tr>\n",
       "      <th>10559</th>\n",
       "      <td>13041</td>\n",
       "      <td>Blend She</td>\n",
       "      <td>Camiseta negra con eslogan Rock de Blend She</td>\n",
       "      <td>18,35 €</td>\n",
       "      <td>BLACK WASHED</td>\n",
       "    </tr>\n",
       "  </tbody>\n",
       "</table>\n",
       "<p>10560 rows × 5 columns</p>\n",
       "</div>"
      ],
      "text/plain": [
       "       index               brand  \\\n",
       "0          0            New Look   \n",
       "1          1        Mama.licious   \n",
       "2          2        Mama.licious   \n",
       "3          3            Selected   \n",
       "4          4        Mama.licious   \n",
       "...      ...                 ...   \n",
       "10555  13007                Vans   \n",
       "10556  13013  adidas performance   \n",
       "10557  13019         Urban Bliss   \n",
       "10558  13024         ASOS DESIGN   \n",
       "10559  13041           Blend She   \n",
       "\n",
       "                                             description    price  \\\n",
       "0      Top negro escalonado de manga larga con estamp...  16,99 €   \n",
       "1      Top color ámbar dorado de manga larga con cuel...  45,99 €   \n",
       "2      Top amarillo de manga larga con cuello ancho d...  21,99 €   \n",
       "3      Top marrón de manga larga con cuello alto de S...  31,99 €   \n",
       "4      Top multicolor a rayas con cuello alto de punt...  40,99 €   \n",
       "...                                                  ...      ...   \n",
       "10555  Camiseta naranja con logo en la parte izquierd...  12,00 €   \n",
       "10556  Top rosa con capas en la espalda de adidas Tra...  35,75 €   \n",
       "10557  Camiseta negra con lateral fruncido de Urban B...   4,00 €   \n",
       "10558  Camiseta blanca de corte cuadrado sin mangas d...   9,49 €   \n",
       "10559       Camiseta negra con eslogan Rock de Blend She  18,35 €   \n",
       "\n",
       "              colour  \n",
       "0              Negro  \n",
       "1       Dorado ámbar  \n",
       "2       Dorado ámbar  \n",
       "3      Tierra oscura  \n",
       "4         MULTICOLOR  \n",
       "...              ...  \n",
       "10555        Naranja  \n",
       "10556           Rosa  \n",
       "10557          Negro  \n",
       "10558         Blanco  \n",
       "10559   BLACK WASHED  \n",
       "\n",
       "[10560 rows x 5 columns]"
      ]
     },
     "execution_count": 181,
     "metadata": {},
     "output_type": "execute_result"
    }
   ],
   "source": [
    "color_df_list=[]\n",
    "for ASOS in asos_raw_list:\n",
    "    thedf1=[[row[\"brandName\"], row[\"name\"],  row[\"price\"][\"current\"][\"text\"], row[\"colour\"]] for row in ASOS]\n",
    "    color_df=pd.DataFrame(thedf1,columns=[\"brand\", \"description\", \"price\", \"colour\"])\n",
    "    color_df_list.append(color_df)\n",
    "    \n",
    "ASOS_df = pd.concat(color_df_list, ignore_index=True)\n",
    "\n",
    "# delete duplicated rows \n",
    "ASOS_df1=ASOS_df[~ASOS_df[\"description\"].duplicated()]\n",
    "ASOS_df1.reset_index()"
   ]
  },
  {
   "cell_type": "markdown",
   "id": "ddcbed5e",
   "metadata": {},
   "source": [
    "## 2.2 Normalize the color names using `mlg.namvector_clean`"
   ]
  },
  {
   "cell_type": "code",
   "execution_count": 182,
   "id": "1f2dd1c0",
   "metadata": {},
   "outputs": [],
   "source": [
    "ASOS_df1=ASOS_df1.copy()\n",
    "ASOS_df1[\"colour\"]=eda.namvector_clean(ASOS_df1[\"colour\"])\n",
    "ASOS_df1[\"colour\"]=[col.replace(\"_\", \" \") for col in ASOS_df1[\"colour\"]]"
   ]
  },
  {
   "cell_type": "markdown",
   "id": "8981fe6f",
   "metadata": {},
   "source": [
    "### 2.3 Simplify colour names according to the color categories used by Amazon.es"
   ]
  },
  {
   "cell_type": "code",
   "execution_count": 183,
   "id": "764a23e0",
   "metadata": {
    "scrolled": true
   },
   "outputs": [
    {
     "name": "stdout",
     "output_type": "stream",
     "text": [
      "{'black': 'negro', 'gray': 'gris', 'white': 'blanco', 'brown': 'marron', 'beige': 'beis', 'red': 'rojo', 'pink': 'rosa', 'orange': 'naranja', 'yellow': 'amarillo', 'ivory': 'marfil', 'green': 'verde', 'turquoise': 'turquesa', 'blue': 'azul', 'purple': 'morado', 'gold': 'dorado'}\n"
     ]
    }
   ],
   "source": [
    "amz_colors=['negro', 'gris', 'blanco', 'marron', 'beis', 'rojo', 'rosa',\n",
    "       'naranja', 'amarillo', 'marfil', 'verde', 'turquesa', 'azul',\n",
    "       'morado', 'dorado']\n",
    "\n",
    "english_colors = ['black', 'gray', 'white', 'brown', 'beige', 'red', 'pink', 'orange', 'yellow', 'ivory', 'green', 'turquoise', 'blue', 'purple', 'gold']\n",
    "amz_colors_dict = dict(zip(english_colors, amz_colors))\n",
    "\n",
    "print(amz_colors_dict)"
   ]
  },
  {
   "cell_type": "markdown",
   "id": "595c6035",
   "metadata": {},
   "source": [
    "### 2.3 a - 16 SPANISH NAMES"
   ]
  },
  {
   "cell_type": "code",
   "execution_count": 184,
   "id": "599a4bcc",
   "metadata": {},
   "outputs": [],
   "source": [
    "ASOS_df2=ASOS_df1.copy()\n",
    "ASOS_df2[\"colour_simp\"]=\"\"\n",
    "\n",
    "for color in amz_colors:\n",
    "    '''\n",
    "    check in original color nomenclature if a simplest color is present\n",
    "    some nomenclatures contain multiple words, i need doble comprehension to eval all the words by cell\n",
    "    '''\n",
    "    matches = [any(word in color for word in cell.split())\n",
    "               for cell in ASOS_df2[\"colour\"].values]\n",
    "    \n",
    "    ASOS_df2.loc[matches, \"colour_simp\"] = color"
   ]
  },
  {
   "cell_type": "markdown",
   "id": "e7be1818",
   "metadata": {},
   "source": [
    "### 2.3 b -16 ENGLISH NAMES"
   ]
  },
  {
   "cell_type": "code",
   "execution_count": 185,
   "id": "4682f4af",
   "metadata": {},
   "outputs": [],
   "source": [
    "ASOS_df2.head()\n",
    "\n",
    "for dict_key, dict_value in amz_colors_dict.items(): \n",
    "    matches = [cell in dict_key for cell in ASOS_df2[\"colour\"].values]\n",
    "    \n",
    "    '''\n",
    "    check in original color nomenclature if a simplest color is present\n",
    "    some nomenclatures contain multiple words, i need doble comprehension to eval all the words by cell\n",
    "    '''\n",
    "    matches = [any(word in dict_key for word in cell.split())\n",
    "               for cell in ASOS_df2[\"colour\"].values]\n",
    "    \n",
    "    ASOS_df2.loc[matches, \"colour_simp\"] = dict_value\n"
   ]
  },
  {
   "cell_type": "markdown",
   "id": "3aac7117",
   "metadata": {},
   "source": [
    "### 2.3 c - `collapsed_dict2.pkl` -chatGPT generated dictionary\n",
    "Load the object from the file -chatGPT generated dictionary to simplifify the colors returned by ASOS"
   ]
  },
  {
   "cell_type": "code",
   "execution_count": 186,
   "id": "9c31bba7",
   "metadata": {},
   "outputs": [],
   "source": [
    "def color_dict_simplify(x):\n",
    "    x = x.lower()\n",
    "    theval=\"\"\n",
    "    for KKK, VVV in collapsed_dict2.items():\n",
    "        for VAL in VVV:\n",
    "            if VAL in x:\n",
    "                theval = KKK\n",
    "            \n",
    "    return theval\n",
    "\n",
    "####\n",
    "\n",
    "def update_colour_simp(row):\n",
    "    if row['colour_simp'] == \"\":\n",
    "        return row['colour_simp2']\n",
    "    else:\n",
    "        return row['colour_simp']"
   ]
  },
  {
   "cell_type": "code",
   "execution_count": 187,
   "id": "2c0d74ee",
   "metadata": {},
   "outputs": [],
   "source": [
    "ASOS_df3=ASOS_df2.copy()\n",
    "ASOS_df3['colour_simp2'] = ASOS_df3['colour'].apply(color_dict_simplify)"
   ]
  },
  {
   "cell_type": "markdown",
   "id": "3b64d820",
   "metadata": {},
   "source": [
    "### 2.3 d- Unify colors in `colour_simp` and keep only one column"
   ]
  },
  {
   "cell_type": "code",
   "execution_count": 188,
   "id": "7321908b",
   "metadata": {},
   "outputs": [],
   "source": [
    "ASOS_df3['colour_simp'] = ASOS_df3.apply(update_colour_simp, axis=1)"
   ]
  },
  {
   "cell_type": "markdown",
   "id": "af508fba",
   "metadata": {},
   "source": [
    "#### There still a crazy ASOS names \n",
    "\n",
    "We have still 269 rows without simple nomenclature. <br/>\n",
    "I could Use fuzzywuzzy to clean it but -for the moment-, I prefer just to drop them"
   ]
  },
  {
   "cell_type": "code",
   "execution_count": 189,
   "id": "a1adda1f",
   "metadata": {},
   "outputs": [
    {
     "name": "stdout",
     "output_type": "stream",
     "text": [
      "269\n"
     ]
    },
    {
     "data": {
      "text/html": [
       "<div>\n",
       "<style scoped>\n",
       "    .dataframe tbody tr th:only-of-type {\n",
       "        vertical-align: middle;\n",
       "    }\n",
       "\n",
       "    .dataframe tbody tr th {\n",
       "        vertical-align: top;\n",
       "    }\n",
       "\n",
       "    .dataframe thead th {\n",
       "        text-align: right;\n",
       "    }\n",
       "</style>\n",
       "<table border=\"1\" class=\"dataframe\">\n",
       "  <thead>\n",
       "    <tr style=\"text-align: right;\">\n",
       "      <th></th>\n",
       "      <th>brand</th>\n",
       "      <th>description</th>\n",
       "      <th>price</th>\n",
       "      <th>colour</th>\n",
       "      <th>colour_simp</th>\n",
       "      <th>colour_simp2</th>\n",
       "    </tr>\n",
       "  </thead>\n",
       "  <tbody>\n",
       "    <tr>\n",
       "      <th>9316</th>\n",
       "      <td>Topshop</td>\n",
       "      <td>Vestido vaquero descolorido con cuello halter ...</td>\n",
       "      <td>27,50 €</td>\n",
       "      <td>descolorido</td>\n",
       "      <td></td>\n",
       "      <td></td>\n",
       "    </tr>\n",
       "    <tr>\n",
       "      <th>4018</th>\n",
       "      <td>Levi's</td>\n",
       "      <td>Vestido corto verde estilo polo con ribetes en...</td>\n",
       "      <td>47,00 €</td>\n",
       "      <td>eden</td>\n",
       "      <td></td>\n",
       "      <td></td>\n",
       "    </tr>\n",
       "    <tr>\n",
       "      <th>9236</th>\n",
       "      <td>Edited</td>\n",
       "      <td>Vestido amplio de manga corta con estampado fl...</td>\n",
       "      <td>30,00 €</td>\n",
       "      <td>floral retro</td>\n",
       "      <td></td>\n",
       "      <td></td>\n",
       "    </tr>\n",
       "    <tr>\n",
       "      <th>8147</th>\n",
       "      <td>ASOS Curve</td>\n",
       "      <td>Vestido veraniego midi color pastel con estamp...</td>\n",
       "      <td>18,89 €</td>\n",
       "      <td>flores tono pastel</td>\n",
       "      <td></td>\n",
       "      <td></td>\n",
       "    </tr>\n",
       "    <tr>\n",
       "      <th>9298</th>\n",
       "      <td>Pieces Tall</td>\n",
       "      <td>Vestido amplio con estampado de florecitas y c...</td>\n",
       "      <td>16,19 €</td>\n",
       "      <td>floral</td>\n",
       "      <td></td>\n",
       "      <td></td>\n",
       "    </tr>\n",
       "    <tr>\n",
       "      <th>6197</th>\n",
       "      <td>JDY</td>\n",
       "      <td>Vestido corto gris con lazada en la cintura de...</td>\n",
       "      <td>24,99 €</td>\n",
       "      <td>lgm</td>\n",
       "      <td></td>\n",
       "      <td></td>\n",
       "    </tr>\n",
       "  </tbody>\n",
       "</table>\n",
       "</div>"
      ],
      "text/plain": [
       "            brand                                        description    price  \\\n",
       "9316      Topshop  Vestido vaquero descolorido con cuello halter ...  27,50 €   \n",
       "4018       Levi's  Vestido corto verde estilo polo con ribetes en...  47,00 €   \n",
       "9236       Edited  Vestido amplio de manga corta con estampado fl...  30,00 €   \n",
       "8147   ASOS Curve  Vestido veraniego midi color pastel con estamp...  18,89 €   \n",
       "9298  Pieces Tall  Vestido amplio con estampado de florecitas y c...  16,19 €   \n",
       "6197          JDY  Vestido corto gris con lazada en la cintura de...  24,99 €   \n",
       "\n",
       "                  colour colour_simp colour_simp2  \n",
       "9316         descolorido                           \n",
       "4018                eden                           \n",
       "9236        floral retro                           \n",
       "8147  flores tono pastel                           \n",
       "9298              floral                           \n",
       "6197                 lgm                           "
      ]
     },
     "metadata": {},
     "output_type": "display_data"
    }
   ],
   "source": [
    "crazy_ASOS_women=ASOS_df3[ASOS_df3[\"colour_simp\"]==\"\"]\n",
    "\n",
    "print(len(crazy_ASOS_women))\n",
    "display(crazy_ASOS_women.sample(6))\n",
    "\n",
    "#crazy_ASOS_women.to_csv('../data/clean/crazy_ASOS_women.csv', index=False)  # Change 'output.csv' to your desired file name"
   ]
  },
  {
   "cell_type": "markdown",
   "id": "264b4d91",
   "metadata": {},
   "source": [
    "### 2.3 e- Drop rows with crazy names and keep only simplified color"
   ]
  },
  {
   "cell_type": "code",
   "execution_count": 190,
   "id": "ab6471d6",
   "metadata": {
    "scrolled": true
   },
   "outputs": [],
   "source": [
    "ASOS_df4 = ASOS_df3.copy()\n",
    "ASOS_df4 = ASOS_df4.loc[:, ['brand', 'description', 'price', \"colour_simp\"]]\n",
    "ASOS_df4 = ASOS_df4.rename(columns={'colour_simp': 'colour'})\n",
    "ASOS_df4.colour =[row.lstrip() for row in ASOS_df4.colour]"
   ]
  },
  {
   "cell_type": "code",
   "execution_count": 191,
   "id": "7dde33cf",
   "metadata": {},
   "outputs": [
    {
     "name": "stdout",
     "output_type": "stream",
     "text": [
      "136\n"
     ]
    }
   ],
   "source": [
    "temp_yes=ASOS_df4[ASOS_df4[\"colour\"]!=\"\"]\n",
    "temp_no=ASOS_df4[ASOS_df4[\"colour\"]==\"\"]\n",
    "\n",
    "for i in range(len(collapsed_dict2)):\n",
    "    keyword = list(collapsed_dict2.keys())[i]\n",
    "    temp_no.loc[temp_no[\"description\"].str.contains(keyword), \"colour\"] = keyword\n",
    "\n",
    "ASOS_df4 = pd.concat([temp_yes, temp_no], axis=0)\n",
    "print(len(ASOS_df4[ASOS_df4[\"colour\"]==\"\"]))\n",
    "ASOS_df4=ASOS_df4[ASOS_df4[\"colour\"]!=\"\"]"
   ]
  },
  {
   "cell_type": "markdown",
   "id": "f1bea88e",
   "metadata": {},
   "source": [
    "#### Simplify ` turquesa` for `azul` and `marfil` for `beis`"
   ]
  },
  {
   "cell_type": "code",
   "execution_count": 192,
   "id": "795b39ba",
   "metadata": {},
   "outputs": [],
   "source": [
    "ASOS_df4[\"colour\"][ASOS_df4[\"colour\"]==\"turquesa\"]=\"azul\"\n",
    "ASOS_df4[\"colour\"][ASOS_df4[\"colour\"]==\"marfil\"]=\"beis\""
   ]
  },
  {
   "cell_type": "markdown",
   "id": "df4831f9",
   "metadata": {},
   "source": [
    "## 2.4 Clean `price` column"
   ]
  },
  {
   "cell_type": "code",
   "execution_count": 193,
   "id": "b4945afe",
   "metadata": {},
   "outputs": [],
   "source": [
    "ASOS_df4[\"price\"]=[VAL.replace(\",\", \".\") for VAL in ASOS_df4[\"price\"]]\n",
    "ASOS_df4[\"price\"]=[VAL.replace(\"€\", \"\") for VAL in ASOS_df4[\"price\"]]\n",
    "ASOS_df4[\"price\"]=[float(VAL) for VAL in ASOS_df4[\"price\"]]"
   ]
  },
  {
   "cell_type": "markdown",
   "id": "93522c15",
   "metadata": {},
   "source": [
    "## 2.5 Normalize `brand` names"
   ]
  },
  {
   "cell_type": "code",
   "execution_count": 194,
   "id": "ac2ff676",
   "metadata": {},
   "outputs": [],
   "source": [
    "ASOS_df5=ASOS_df4.copy()\n",
    "ASOS_df5.brand = [row.replace(\".\", \"\") for row in ASOS_df5.brand]"
   ]
  },
  {
   "cell_type": "markdown",
   "id": "ac181d6f",
   "metadata": {},
   "source": [
    "## 3. Save cleaned data"
   ]
  },
  {
   "cell_type": "code",
   "execution_count": 195,
   "id": "a52e5b4a",
   "metadata": {},
   "outputs": [],
   "source": [
    "#asos_women_clothes_clean=ASOS_df5.copy()\n",
    "#asos_women_clothes_clean.to_csv('../data/clean/asos_women_clothes_clean.csv', index=False)"
   ]
  },
  {
   "cell_type": "markdown",
   "id": "9b618252",
   "metadata": {},
   "source": [
    "## For men"
   ]
  },
  {
   "cell_type": "code",
   "execution_count": 158,
   "id": "38377fbd",
   "metadata": {},
   "outputs": [],
   "source": [
    "asos_raw_list=asos_men_list"
   ]
  },
  {
   "cell_type": "code",
   "execution_count": 159,
   "id": "82fbdcb1",
   "metadata": {},
   "outputs": [
    {
     "data": {
      "text/html": [
       "<div>\n",
       "<style scoped>\n",
       "    .dataframe tbody tr th:only-of-type {\n",
       "        vertical-align: middle;\n",
       "    }\n",
       "\n",
       "    .dataframe tbody tr th {\n",
       "        vertical-align: top;\n",
       "    }\n",
       "\n",
       "    .dataframe thead th {\n",
       "        text-align: right;\n",
       "    }\n",
       "</style>\n",
       "<table border=\"1\" class=\"dataframe\">\n",
       "  <thead>\n",
       "    <tr style=\"text-align: right;\">\n",
       "      <th></th>\n",
       "      <th>index</th>\n",
       "      <th>brand</th>\n",
       "      <th>description</th>\n",
       "      <th>price</th>\n",
       "      <th>colour</th>\n",
       "    </tr>\n",
       "  </thead>\n",
       "  <tbody>\n",
       "    <tr>\n",
       "      <th>0</th>\n",
       "      <td>0</td>\n",
       "      <td>French Connection</td>\n",
       "      <td>Camisa de vestir blanca de manga larga con cue...</td>\n",
       "      <td>39,99 €</td>\n",
       "      <td>Blanco</td>\n",
       "    </tr>\n",
       "    <tr>\n",
       "      <th>1</th>\n",
       "      <td>1</td>\n",
       "      <td>ASOS DESIGN</td>\n",
       "      <td>Pack de 2 camisas de oficina blancas elásticas...</td>\n",
       "      <td>17,50 €</td>\n",
       "      <td>Blanco</td>\n",
       "    </tr>\n",
       "    <tr>\n",
       "      <th>2</th>\n",
       "      <td>2</td>\n",
       "      <td>ASOS DESIGN</td>\n",
       "      <td>Camisa Oxford negra entallada con cuello itali...</td>\n",
       "      <td>34,99 €</td>\n",
       "      <td>Negro</td>\n",
       "    </tr>\n",
       "    <tr>\n",
       "      <th>3</th>\n",
       "      <td>3</td>\n",
       "      <td>ASOS DESIGN</td>\n",
       "      <td>Camisa de vestir negra entallada con detalle d...</td>\n",
       "      <td>21,00 €</td>\n",
       "      <td>Negro</td>\n",
       "    </tr>\n",
       "    <tr>\n",
       "      <th>4</th>\n",
       "      <td>4</td>\n",
       "      <td>Topman</td>\n",
       "      <td>Camisa de vestir blanca de corte slim y manga ...</td>\n",
       "      <td>25,00 €</td>\n",
       "      <td>Blanco</td>\n",
       "    </tr>\n",
       "    <tr>\n",
       "      <th>...</th>\n",
       "      <td>...</td>\n",
       "      <td>...</td>\n",
       "      <td>...</td>\n",
       "      <td>...</td>\n",
       "      <td>...</td>\n",
       "    </tr>\n",
       "    <tr>\n",
       "      <th>1912</th>\n",
       "      <td>2411</td>\n",
       "      <td>Labelrail</td>\n",
       "      <td>Polo negro y naranja unisex de manga larga de ...</td>\n",
       "      <td>37,00 €</td>\n",
       "      <td>Negro/naranja</td>\n",
       "    </tr>\n",
       "    <tr>\n",
       "      <th>1913</th>\n",
       "      <td>2412</td>\n",
       "      <td>Lacoste</td>\n",
       "      <td>Polo rojo liso de Lacoste</td>\n",
       "      <td>70,00 €</td>\n",
       "      <td>rojo</td>\n",
       "    </tr>\n",
       "    <tr>\n",
       "      <th>1914</th>\n",
       "      <td>2413</td>\n",
       "      <td>Champion</td>\n",
       "      <td>Camiseta negra con logo vintage de Champion</td>\n",
       "      <td>29,50 €</td>\n",
       "      <td>Negro</td>\n",
       "    </tr>\n",
       "    <tr>\n",
       "      <th>1915</th>\n",
       "      <td>2414</td>\n",
       "      <td>ASOS DESIGN</td>\n",
       "      <td>Camiseta corta negra ajustada unisex con estam...</td>\n",
       "      <td>16,00 €</td>\n",
       "      <td>Negro</td>\n",
       "    </tr>\n",
       "    <tr>\n",
       "      <th>1916</th>\n",
       "      <td>2415</td>\n",
       "      <td>ASOS DESIGN</td>\n",
       "      <td>Camiseta negra extragrande con estampado Grate...</td>\n",
       "      <td>23,50 €</td>\n",
       "      <td>Negro</td>\n",
       "    </tr>\n",
       "  </tbody>\n",
       "</table>\n",
       "<p>1917 rows × 5 columns</p>\n",
       "</div>"
      ],
      "text/plain": [
       "      index              brand  \\\n",
       "0         0  French Connection   \n",
       "1         1        ASOS DESIGN   \n",
       "2         2        ASOS DESIGN   \n",
       "3         3        ASOS DESIGN   \n",
       "4         4             Topman   \n",
       "...     ...                ...   \n",
       "1912   2411          Labelrail   \n",
       "1913   2412            Lacoste   \n",
       "1914   2413           Champion   \n",
       "1915   2414        ASOS DESIGN   \n",
       "1916   2415        ASOS DESIGN   \n",
       "\n",
       "                                            description    price  \\\n",
       "0     Camisa de vestir blanca de manga larga con cue...  39,99 €   \n",
       "1     Pack de 2 camisas de oficina blancas elásticas...  17,50 €   \n",
       "2     Camisa Oxford negra entallada con cuello itali...  34,99 €   \n",
       "3     Camisa de vestir negra entallada con detalle d...  21,00 €   \n",
       "4     Camisa de vestir blanca de corte slim y manga ...  25,00 €   \n",
       "...                                                 ...      ...   \n",
       "1912  Polo negro y naranja unisex de manga larga de ...  37,00 €   \n",
       "1913                          Polo rojo liso de Lacoste  70,00 €   \n",
       "1914        Camiseta negra con logo vintage de Champion  29,50 €   \n",
       "1915  Camiseta corta negra ajustada unisex con estam...  16,00 €   \n",
       "1916  Camiseta negra extragrande con estampado Grate...  23,50 €   \n",
       "\n",
       "             colour  \n",
       "0            Blanco  \n",
       "1            Blanco  \n",
       "2             Negro  \n",
       "3             Negro  \n",
       "4            Blanco  \n",
       "...             ...  \n",
       "1912  Negro/naranja  \n",
       "1913           rojo  \n",
       "1914          Negro  \n",
       "1915          Negro  \n",
       "1916          Negro  \n",
       "\n",
       "[1917 rows x 5 columns]"
      ]
     },
     "execution_count": 159,
     "metadata": {},
     "output_type": "execute_result"
    }
   ],
   "source": [
    "color_df_list=[]\n",
    "for ASOS in asos_raw_list:\n",
    "    thedf1=[[row[\"brandName\"], row[\"name\"],  row[\"price\"][\"current\"][\"text\"], row[\"colour\"]] for row in ASOS]\n",
    "    color_df=pd.DataFrame(thedf1,columns=[\"brand\", \"description\", \"price\", \"colour\"])\n",
    "    color_df_list.append(color_df)\n",
    "    \n",
    "ASOS_df = pd.concat(color_df_list, ignore_index=True)\n",
    "\n",
    "# delete duplicated rows \n",
    "ASOS_df1=ASOS_df[~ASOS_df[\"description\"].duplicated()]\n",
    "ASOS_df1.reset_index()"
   ]
  },
  {
   "cell_type": "code",
   "execution_count": 160,
   "id": "639ad5ea",
   "metadata": {},
   "outputs": [],
   "source": [
    "ASOS_df1=ASOS_df1.copy()\n",
    "ASOS_df1[\"colour\"]=eda.namvector_clean(ASOS_df1[\"colour\"])\n",
    "ASOS_df1[\"colour\"]=[col.replace(\"_\", \" \") for col in ASOS_df1[\"colour\"]]"
   ]
  },
  {
   "cell_type": "code",
   "execution_count": 161,
   "id": "95ff1861",
   "metadata": {},
   "outputs": [
    {
     "name": "stdout",
     "output_type": "stream",
     "text": [
      "{'black': 'negro', 'gray': 'gris', 'white': 'blanco', 'brown': 'marron', 'beige': 'beis', 'red': 'rojo', 'pink': 'rosa', 'orange': 'naranja', 'yellow': 'amarillo', 'ivory': 'marfil', 'green': 'verde', 'turquoise': 'turquesa', 'blue': 'azul', 'purple': 'morado', 'gold': 'dorado'}\n"
     ]
    }
   ],
   "source": [
    "amz_colors=['negro', 'gris', 'blanco', 'marron', 'beis', 'rojo', 'rosa',\n",
    "       'naranja', 'amarillo', 'marfil', 'verde', 'turquesa', 'azul',\n",
    "       'morado', 'dorado']\n",
    "\n",
    "english_colors = ['black', 'gray', 'white', 'brown', 'beige', 'red', 'pink', 'orange', 'yellow', 'ivory', 'green', 'turquoise', 'blue', 'purple', 'gold']\n",
    "amz_colors_dict = dict(zip(english_colors, amz_colors))\n",
    "\n",
    "print(amz_colors_dict)"
   ]
  },
  {
   "cell_type": "code",
   "execution_count": 162,
   "id": "a7c74307",
   "metadata": {},
   "outputs": [],
   "source": [
    "ASOS_df2=ASOS_df1.copy()\n",
    "ASOS_df2[\"colour_simp\"]=\"\"\n",
    "\n",
    "for color in amz_colors:\n",
    "    '''\n",
    "    check in original color nomenclature if a simplest color is present\n",
    "    some nomenclatures contain multiple words, i need doble comprehension to eval all the words by cell\n",
    "    '''\n",
    "    matches = [any(word in color for word in cell.split())\n",
    "               for cell in ASOS_df2[\"colour\"].values]\n",
    "    \n",
    "    ASOS_df2.loc[matches, \"colour_simp\"] = color"
   ]
  },
  {
   "cell_type": "code",
   "execution_count": 94,
   "id": "d6e9a51a",
   "metadata": {},
   "outputs": [],
   "source": [
    "ASOS_df2.head()\n",
    "\n",
    "for dict_key, dict_value in amz_colors_dict.items(): \n",
    "    matches = [cell in dict_key for cell in ASOS_df2[\"colour\"].values]\n",
    "    \n",
    "    '''\n",
    "    check in original color nomenclature if a simplest color is present\n",
    "    some nomenclatures contain multiple words, i need doble comprehension to eval all the words by cell\n",
    "    '''\n",
    "    matches = [any(word in dict_key for word in cell.split())\n",
    "               for cell in ASOS_df2[\"colour\"].values]\n",
    "    \n",
    "    ASOS_df2.loc[matches, \"colour_simp\"] = dict_value\n"
   ]
  },
  {
   "cell_type": "code",
   "execution_count": 163,
   "id": "3a7f7633",
   "metadata": {},
   "outputs": [],
   "source": [
    "ASOS_df3=ASOS_df2.copy()\n",
    "ASOS_df3['colour_simp2'] = ASOS_df3['colour'].apply(color_dict_simplify)"
   ]
  },
  {
   "cell_type": "code",
   "execution_count": 164,
   "id": "a86c85b7",
   "metadata": {},
   "outputs": [],
   "source": [
    "ASOS_df3['colour_simp'] = ASOS_df3.apply(update_colour_simp, axis=1)"
   ]
  },
  {
   "cell_type": "code",
   "execution_count": 165,
   "id": "36355eef",
   "metadata": {},
   "outputs": [
    {
     "name": "stdout",
     "output_type": "stream",
     "text": [
      "55\n"
     ]
    },
    {
     "data": {
      "text/html": [
       "<div>\n",
       "<style scoped>\n",
       "    .dataframe tbody tr th:only-of-type {\n",
       "        vertical-align: middle;\n",
       "    }\n",
       "\n",
       "    .dataframe tbody tr th {\n",
       "        vertical-align: top;\n",
       "    }\n",
       "\n",
       "    .dataframe thead th {\n",
       "        text-align: right;\n",
       "    }\n",
       "</style>\n",
       "<table border=\"1\" class=\"dataframe\">\n",
       "  <thead>\n",
       "    <tr style=\"text-align: right;\">\n",
       "      <th></th>\n",
       "      <th>brand</th>\n",
       "      <th>description</th>\n",
       "      <th>price</th>\n",
       "      <th>colour</th>\n",
       "      <th>colour_simp</th>\n",
       "      <th>colour_simp2</th>\n",
       "    </tr>\n",
       "  </thead>\n",
       "  <tbody>\n",
       "    <tr>\n",
       "      <th>1506</th>\n",
       "      <td>ASOS DESIGN</td>\n",
       "      <td>Camiseta gris extragrande con estampado de dib...</td>\n",
       "      <td>23,50 €</td>\n",
       "      <td>griffin</td>\n",
       "      <td></td>\n",
       "      <td></td>\n",
       "    </tr>\n",
       "    <tr>\n",
       "      <th>1584</th>\n",
       "      <td>Timberland</td>\n",
       "      <td>Camiseta marrón de corte slim con logo pequeño...</td>\n",
       "      <td>21,00 €</td>\n",
       "      <td>caoba claro</td>\n",
       "      <td></td>\n",
       "      <td></td>\n",
       "    </tr>\n",
       "    <tr>\n",
       "      <th>886</th>\n",
       "      <td>Timberland</td>\n",
       "      <td>Camiseta azul cielo con logo pequeño de Timber...</td>\n",
       "      <td>17,50 €</td>\n",
       "      <td>skyway</td>\n",
       "      <td></td>\n",
       "      <td></td>\n",
       "    </tr>\n",
       "    <tr>\n",
       "      <th>1398</th>\n",
       "      <td>ASOS DESIGN</td>\n",
       "      <td>Top beis de tirantes holgado con cuello de pic...</td>\n",
       "      <td>13,00 €</td>\n",
       "      <td>grava</td>\n",
       "      <td></td>\n",
       "      <td></td>\n",
       "    </tr>\n",
       "    <tr>\n",
       "      <th>1250</th>\n",
       "      <td>Berghaus</td>\n",
       "      <td>Camiseta color arena con estampado de montaña ...</td>\n",
       "      <td>20,50 €</td>\n",
       "      <td>sand dune</td>\n",
       "      <td></td>\n",
       "      <td></td>\n",
       "    </tr>\n",
       "    <tr>\n",
       "      <th>391</th>\n",
       "      <td>ADPT</td>\n",
       "      <td>Camiseta beis lavado extragrande sin mangas de...</td>\n",
       "      <td>7,00 €</td>\n",
       "      <td>loza</td>\n",
       "      <td></td>\n",
       "      <td></td>\n",
       "    </tr>\n",
       "  </tbody>\n",
       "</table>\n",
       "</div>"
      ],
      "text/plain": [
       "            brand                                        description    price  \\\n",
       "1506  ASOS DESIGN  Camiseta gris extragrande con estampado de dib...  23,50 €   \n",
       "1584   Timberland  Camiseta marrón de corte slim con logo pequeño...  21,00 €   \n",
       "886    Timberland  Camiseta azul cielo con logo pequeño de Timber...  17,50 €   \n",
       "1398  ASOS DESIGN  Top beis de tirantes holgado con cuello de pic...  13,00 €   \n",
       "1250     Berghaus  Camiseta color arena con estampado de montaña ...  20,50 €   \n",
       "391          ADPT  Camiseta beis lavado extragrande sin mangas de...   7,00 €   \n",
       "\n",
       "           colour colour_simp colour_simp2  \n",
       "1506      griffin                           \n",
       "1584  caoba claro                           \n",
       "886        skyway                           \n",
       "1398        grava                           \n",
       "1250    sand dune                           \n",
       "391          loza                           "
      ]
     },
     "metadata": {},
     "output_type": "display_data"
    }
   ],
   "source": [
    "crazy_ASOS_men=ASOS_df3[ASOS_df3[\"colour_simp\"]==\"\"]\n",
    "\n",
    "print(len(crazy_ASOS_men))\n",
    "display(crazy_ASOS_men.sample(6))\n",
    "\n",
    "#crazy_ASOS_men.to_csv('../data/clean/crazy_ASOS_men.csv', index=False)  # Change 'output.csv' to your desired file name"
   ]
  },
  {
   "cell_type": "code",
   "execution_count": 166,
   "id": "7429e8ef",
   "metadata": {
    "scrolled": true
   },
   "outputs": [],
   "source": [
    "ASOS_df4 = ASOS_df3.copy()\n",
    "ASOS_df4 = ASOS_df4.loc[:, ['brand', 'description', 'price', \"colour_simp\"]]\n",
    "ASOS_df4 = ASOS_df4.rename(columns={'colour_simp': 'colour'})\n",
    "ASOS_df4.colour =[row.lstrip() for row in ASOS_df4.colour]"
   ]
  },
  {
   "cell_type": "code",
   "execution_count": 167,
   "id": "67477fb7",
   "metadata": {},
   "outputs": [
    {
     "name": "stdout",
     "output_type": "stream",
     "text": [
      "22\n"
     ]
    }
   ],
   "source": [
    "temp_yes=ASOS_df4[ASOS_df4[\"colour\"]!=\"\"]\n",
    "temp_no=ASOS_df4[ASOS_df4[\"colour\"]==\"\"]\n",
    "\n",
    "for i in range(len(collapsed_dict2)):\n",
    "    keyword = list(collapsed_dict2.keys())[i]\n",
    "    temp_no.loc[temp_no[\"description\"].str.contains(keyword), \"colour\"] = keyword\n",
    "\n",
    "ASOS_df4 = pd.concat([temp_yes, temp_no], axis=0)\n",
    "print(len(ASOS_df4[ASOS_df4[\"colour\"]==\"\"]))\n",
    "ASOS_df4=ASOS_df4[ASOS_df4[\"colour\"]!=\"\"]"
   ]
  },
  {
   "cell_type": "code",
   "execution_count": 170,
   "id": "789e6478",
   "metadata": {},
   "outputs": [],
   "source": [
    "ASOS_df4[\"colour\"][ASOS_df4[\"colour\"]==\"turquesa\"]=\"azul\"\n",
    "ASOS_df4[\"colour\"][ASOS_df4[\"colour\"]==\"marfil\"]=\"beis\""
   ]
  },
  {
   "cell_type": "code",
   "execution_count": 171,
   "id": "54ae72fe",
   "metadata": {},
   "outputs": [],
   "source": [
    "ASOS_df4[\"price\"]=[VAL.replace(\",\", \".\") for VAL in ASOS_df4[\"price\"]]\n",
    "ASOS_df4[\"price\"]=[VAL.replace(\"€\", \"\") for VAL in ASOS_df4[\"price\"]]\n",
    "ASOS_df4[\"price\"]=[float(VAL) for VAL in ASOS_df4[\"price\"]]"
   ]
  },
  {
   "cell_type": "code",
   "execution_count": 172,
   "id": "6a712376",
   "metadata": {},
   "outputs": [],
   "source": [
    "ASOS_df5=ASOS_df4.copy()\n",
    "ASOS_df5.brand = [row.replace(\".\", \"\") for row in ASOS_df5.brand]"
   ]
  },
  {
   "cell_type": "code",
   "execution_count": 173,
   "id": "18f3d03f",
   "metadata": {},
   "outputs": [],
   "source": [
    "#asos_men_clothes_clean=ASOS_df5.copy()\n",
    "#asos_men_clothes_clean.to_csv('../data/clean/asos_men_clothes_clean.csv', index=False)"
   ]
  }
 ],
 "metadata": {
  "kernelspec": {
   "display_name": "env37",
   "language": "python",
   "name": "env37"
  },
  "language_info": {
   "codemirror_mode": {
    "name": "ipython",
    "version": 3
   },
   "file_extension": ".py",
   "mimetype": "text/x-python",
   "name": "python",
   "nbconvert_exporter": "python",
   "pygments_lexer": "ipython3",
   "version": "3.7.16"
  }
 },
 "nbformat": 4,
 "nbformat_minor": 5
}
