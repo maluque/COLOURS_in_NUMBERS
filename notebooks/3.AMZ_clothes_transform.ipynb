{
 "cells": [
  {
   "cell_type": "markdown",
   "id": "efb2e93a",
   "metadata": {},
   "source": [
    "# TRANSFORM\n",
    "# Cleaning raw data from Amazon.es\n",
    "\n",
    "Amazon data was scraped on 2023-10-04 using `selenium` python module. <br/> \n",
    "Now the data must be cleaned and transformed to comply with the DDBB standards.\n",
    "\n",
    "The raw datasets have the following **structure**: <br/>\n",
    "\n",
    "* Dictionary of lists - Each key divides the clothes by colors <br/>\n",
    "* Color list of lists - Each list divides the clothes by amazon search page <br/>\n",
    "* Each element of the list collects the data relative to one product <br/>\n",
    "\n",
    "The raw datasets have the following **issues to amend**:\n",
    "\n",
    "1. Normalize the colors names using `mlg.namvector_clean` function <br/>\n",
    "2. Keep only **brand, product description and price €**  <br/>\n",
    "     Functions to filter data: `prod_clean_amz1`, `complete_price_amz1` and `relev_inf_amz1` <br/>\n",
    "3. Clean `price` column. Clean this kind of cells: \n",
    "    * 30.00 €(1 nueva oferta)\n",
    "    * 24.29,99€ --- > 29.99€\n",
    "    * Take out € sign and transform to float <br/>\n",
    "    <br/>\n",
    "4. Drop rows with wrong `price/description` and/or `brand/description`\n"
   ]
  },
  {
   "cell_type": "markdown",
   "id": "bfa6e61b",
   "metadata": {},
   "source": [
    "### 0. Import modules"
   ]
  },
  {
   "cell_type": "code",
   "execution_count": 9,
   "id": "257c0ef2",
   "metadata": {},
   "outputs": [],
   "source": [
    "import pickle\n",
    "import pandas as pd\n",
    "import warnings\n",
    "\n",
    "#import pylab as plt   # import matplotlib.pyplot as plt#\n",
    "import matplotlib.pyplot as plt\n",
    "\n",
    "# print the plot in the jupyter output\n",
    "%matplotlib inline \n",
    "\n",
    "from src import ETL_functions as etl\n",
    "from src import dataanalysis_fun1 as eda"
   ]
  },
  {
   "cell_type": "markdown",
   "id": "2fa9fd22",
   "metadata": {},
   "source": [
    "Reload my module if neccessary"
   ]
  },
  {
   "cell_type": "code",
   "execution_count": null,
   "id": "1cab0944",
   "metadata": {},
   "outputs": [],
   "source": [
    "import importlib\n",
    "from src import dataanalysis_fun1 as eda # Import the module\n",
    "#importlib.reload(mlg)  # Reload the module\n",
    "\n",
    "# Suppress warning when reloading the module\n",
    "with warnings.catch_warnings():\n",
    "    warnings.simplefilter(\"ignore\") \n",
    "    importlib.reload(mlg)  # Reload the module"
   ]
  },
  {
   "cell_type": "markdown",
   "id": "5fa003fc",
   "metadata": {},
   "source": [
    "## 1. Load the data using pickle"
   ]
  },
  {
   "cell_type": "code",
   "execution_count": 8,
   "id": "80c3e73d",
   "metadata": {},
   "outputs": [],
   "source": [
    "with open('../data/raw/amz_men_tshirt_data.pkl', 'rb') as file:\n",
    "    amz_men_tshirt_data = pickle.load(file)\n",
    "    \n",
    "with open('../data/raw/amz1_womentshirt_data.pkl', 'rb') as file:\n",
    "    amz1_womentshirt_data = pickle.load(file)"
   ]
  },
  {
   "cell_type": "markdown",
   "id": "71850d84",
   "metadata": {},
   "source": [
    "## 2. Transform/clean the data \n",
    "\n",
    "First for women clothes, then for men dataset"
   ]
  },
  {
   "cell_type": "markdown",
   "id": "58fe20c5",
   "metadata": {},
   "source": [
    "### 2.1 Normalize the key names (colors)"
   ]
  },
  {
   "cell_type": "code",
   "execution_count": 12,
   "id": "adae5f42",
   "metadata": {},
   "outputs": [
    {
     "data": {
      "text/plain": [
       "dict_keys(['negro', 'gris', 'blanco', 'marron', 'beis', 'rojo', 'rosa', 'naranja', 'amarillo', 'marfil', 'verde', 'turquesa', 'azul', 'morado', 'dorado'])"
      ]
     },
     "execution_count": 12,
     "metadata": {},
     "output_type": "execute_result"
    }
   ],
   "source": [
    "### fisrt for women\n",
    "amz1_raw=amz1_womentshirt_data\n",
    "\n",
    "## \n",
    "keys_list=amz1_raw.keys() # get the original keys\n",
    "keys_list2=eda.namvector_clean(keys_list) # use the edited keys\n",
    "key_changes = dict(zip(keys_list, keys_list2))\n",
    "amz1_raw2 = {key_changes.get(key, key): value for key, value in amz1_raw.items()} # change the keys"
   ]
  },
  {
   "cell_type": "markdown",
   "id": "f6277a9c",
   "metadata": {},
   "source": [
    "### 2.2 Filter out irrelevant data\n",
    "\n",
    "Run the cleaning functions -available in `src/ETL_functions.py`- along pages and colors"
   ]
  },
  {
   "cell_type": "code",
   "execution_count": 13,
   "id": "4b27a8c4",
   "metadata": {},
   "outputs": [],
   "source": [
    "color_list=list(amz1_raw2.keys())\n",
    "\n",
    "keys_discard=[\"+\", \"Entrega\", \"Prime\", \"PVPR\", \"Patrocinado\", \"stock\", \"PROMO\",\"Personalizarlo\",\n",
    "              \"Oferta\", \"Ahorra\", \"Envío\", \"opción\", \"vendido\", \"Antes\"]\n",
    "\n",
    "color_df=pd.DataFrame(columns=[\"brand\", \"description\", \"price\", \"colour\"])\n",
    "\n",
    "for j in range(len(color_list)):\n",
    "    test_color=amz1_raw2[color_list[j]]\n",
    "    test_color1=[etl.prod_clean_amz1(test,keys_discard) for test in test_color]\n",
    "    test_color2=[etl.complete_price_amz1(test) for test in test_color1]\n",
    "    test_color3=[etl.relev_inf_amz1(test, color_list[j]) for test in test_color2]\n",
    "\n",
    "    for pag in range(len(test_color3)): #by pages\n",
    "        # print(color_list[j], \"page:\", pag)   \n",
    "        \n",
    "        # check the content of elements with size not equal 4\n",
    "        ## [print((test)) for test in test_color3[pag] if len(test)!=4]\n",
    "\n",
    "        test_color4=[test for test in test_color3[pag] if len(test)==4]\n",
    "\n",
    "        for row in test_color4:\n",
    "            row_df = pd.DataFrame([row], columns=color_df.columns)\n",
    "            color_df = pd.concat([color_df, row_df], ignore_index=True)\n"
   ]
  },
  {
   "cell_type": "markdown",
   "id": "a34404e7",
   "metadata": {},
   "source": [
    "### 2.3 Clean `price` column\n"
   ]
  },
  {
   "cell_type": "code",
   "execution_count": 30,
   "id": "d79f8b5c",
   "metadata": {},
   "outputs": [],
   "source": [
    "color_df1=color_df.copy()\n",
    "color_df1[\"price\"]=[VAL.split(\"(\")[0] for VAL in color_df1[\"price\"]]\n",
    "color_df1[\"price\"]=[VAL.replace(\" \", \"\") for VAL in color_df1[\"price\"]]\n",
    "color_df1[\"price\"]=[VAL.replace(\"€\", \"\") for VAL in color_df1[\"price\"]]"
   ]
  },
  {
   "cell_type": "code",
   "execution_count": 31,
   "id": "a4048ace",
   "metadata": {},
   "outputs": [],
   "source": [
    "for i in range(len(color_df1[\"price\"])):\n",
    "    if len(color_df1[\"price\"][i].split(\".\")) > 3:\n",
    "        #print(color_df1[\"price\"][i].split(\".\"))  # Drop rows with price > 3 elements\n",
    "        color_df1['price'][i] = \"\"\n",
    "    elif len(color_df1[\"price\"][i].split(\",\")) == 2:\n",
    "        try:\n",
    "            #print(color_df1['price'][i].split(\".\")[-1])\n",
    "            color_df1['price'][i] = color_df1['price'][i].split(\".\")[-1]\n",
    "        except:\n",
    "            row_todel+=i\n",
    "\n",
    "color_df1 = color_df1[color_df1.price != \"\"]"
   ]
  },
  {
   "cell_type": "markdown",
   "id": "b703d783",
   "metadata": {},
   "source": [
    "### 2.4 Drop rows with wrong `price/description`"
   ]
  },
  {
   "cell_type": "code",
   "execution_count": 32,
   "id": "b88240ba",
   "metadata": {},
   "outputs": [],
   "source": [
    "color_df1=color_df1[color_df1[\"price\"].apply(len)<10]\n",
    "color_df1 = color_df1[color_df1[\"price\"] != \"\"]\n",
    "color_df1[\"price\"]= color_df1['price'].str.replace(',', '.', regex=True)\n",
    "color_df1['price'] = color_df1['price'].astype(float)\n",
    "color_df1=color_df1[color_df1[\"brand\"].apply(len)<30]"
   ]
  },
  {
   "cell_type": "markdown",
   "id": "7c346e16",
   "metadata": {},
   "source": [
    "## 3. Save cleaned data\n",
    "\n",
    "Comment lines to avoid overwriting"
   ]
  },
  {
   "cell_type": "code",
   "execution_count": 34,
   "id": "0d792bf6",
   "metadata": {},
   "outputs": [],
   "source": [
    "#amz1_women_clothes_clean=color_df1.copy()\n",
    "#amz1_women_clothes_clean.to_csv('../data/clean/amz1_women_clothes_clean.csv', index=False)"
   ]
  },
  {
   "cell_type": "markdown",
   "id": "3578d269",
   "metadata": {},
   "source": [
    "## Men clothes dataset"
   ]
  },
  {
   "cell_type": "code",
   "execution_count": 35,
   "id": "a1723c88",
   "metadata": {},
   "outputs": [],
   "source": [
    "### for men\n",
    "amz1_raw=amz_men_tshirt_data\n",
    "\n",
    "## \n",
    "keys_list=amz1_raw.keys() # get the original keys\n",
    "keys_list2=eda.namvector_clean(keys_list) # use the edited keys\n",
    "key_changes = dict(zip(keys_list, keys_list2))\n",
    "amz1_raw2 = {key_changes.get(key, key): value for key, value in amz1_raw.items()} # change the keys"
   ]
  },
  {
   "cell_type": "code",
   "execution_count": 36,
   "id": "1699f6ef",
   "metadata": {},
   "outputs": [],
   "source": [
    "color_list=list(amz1_raw2.keys())\n",
    "\n",
    "keys_discard=[\"+\", \"Entrega\", \"Prime\", \"PVPR\", \"Patrocinado\", \"stock\", \"PROMO\",\"Personalizarlo\",\n",
    "              \"Oferta\", \"Ahorra\", \"Envío\", \"opción\", \"vendido\", \"Antes\"]\n",
    "\n",
    "color_df=pd.DataFrame(columns=[\"brand\", \"description\", \"price\", \"colour\"])\n",
    "\n",
    "for j in range(len(color_list)):\n",
    "    test_color=amz1_raw2[color_list[j]]\n",
    "    test_color1=[etl.prod_clean_amz1(test,keys_discard) for test in test_color]\n",
    "    test_color2=[etl.complete_price_amz1(test) for test in test_color1]\n",
    "    test_color3=[etl.relev_inf_amz1(test, color_list[j]) for test in test_color2]\n",
    "\n",
    "    for pag in range(len(test_color3)): #by pages\n",
    "        # print(color_list[j], \"page:\", pag)   \n",
    "        \n",
    "        # check the content of elements with size not equal 4\n",
    "        ## [print((test)) for test in test_color3[pag] if len(test)!=4]\n",
    "\n",
    "        test_color4=[test for test in test_color3[pag] if len(test)==4]\n",
    "\n",
    "        for row in test_color4:\n",
    "            row_df = pd.DataFrame([row], columns=color_df.columns)\n",
    "            color_df = pd.concat([color_df, row_df], ignore_index=True)\n"
   ]
  },
  {
   "cell_type": "code",
   "execution_count": 37,
   "id": "9e68b5d9",
   "metadata": {},
   "outputs": [],
   "source": [
    "color_df1=color_df.copy()\n",
    "color_df1[\"price\"]=[VAL.split(\"(\")[0] for VAL in color_df1[\"price\"]]\n",
    "color_df1[\"price\"]=[VAL.replace(\" \", \"\") for VAL in color_df1[\"price\"]]\n",
    "color_df1[\"price\"]=[VAL.replace(\"€\", \"\") for VAL in color_df1[\"price\"]]"
   ]
  },
  {
   "cell_type": "code",
   "execution_count": 38,
   "id": "7d6545de",
   "metadata": {},
   "outputs": [],
   "source": [
    "for i in range(len(color_df1[\"price\"])):\n",
    "    if len(color_df1[\"price\"][i].split(\".\")) > 3:\n",
    "        #print(color_df1[\"price\"][i].split(\".\"))  # Drop rows with price > 3 elements\n",
    "        color_df1['price'][i] = \"\"\n",
    "    elif len(color_df1[\"price\"][i].split(\",\")) == 2:\n",
    "        try:\n",
    "            #print(color_df1['price'][i].split(\".\")[-1])\n",
    "            color_df1['price'][i] = color_df1['price'][i].split(\".\")[-1]\n",
    "        except:\n",
    "            row_todel+=i\n",
    "\n",
    "color_df1 = color_df1[color_df1.price != \"\"]"
   ]
  },
  {
   "cell_type": "code",
   "execution_count": 39,
   "id": "0053e0f3",
   "metadata": {},
   "outputs": [],
   "source": [
    "color_df1=color_df1[color_df1[\"price\"].apply(len)<10]\n",
    "color_df1 = color_df1[color_df1[\"price\"] != \"\"]\n",
    "color_df1[\"price\"]= color_df1['price'].str.replace(',', '.', regex=True)\n",
    "color_df1['price'] = color_df1['price'].astype(float)\n",
    "color_df1=color_df1[color_df1[\"brand\"].apply(len)<30]"
   ]
  },
  {
   "cell_type": "code",
   "execution_count": 41,
   "id": "82dfe4d7",
   "metadata": {},
   "outputs": [],
   "source": [
    "#amz1_men_clothes_clean=color_df1.copy()\n",
    "#amz1_men_clothes_clean.to_csv('../data/clean/amz1_men_clothes_clean.csv', index=False)"
   ]
  },
  {
   "cell_type": "code",
   "execution_count": 44,
   "id": "e1f98e71",
   "metadata": {},
   "outputs": [
    {
     "data": {
      "text/html": [
       "<div>\n",
       "<style scoped>\n",
       "    .dataframe tbody tr th:only-of-type {\n",
       "        vertical-align: middle;\n",
       "    }\n",
       "\n",
       "    .dataframe tbody tr th {\n",
       "        vertical-align: top;\n",
       "    }\n",
       "\n",
       "    .dataframe thead th {\n",
       "        text-align: right;\n",
       "    }\n",
       "</style>\n",
       "<table border=\"1\" class=\"dataframe\">\n",
       "  <thead>\n",
       "    <tr style=\"text-align: right;\">\n",
       "      <th></th>\n",
       "      <th>brand</th>\n",
       "      <th>description</th>\n",
       "      <th>price</th>\n",
       "      <th>colour</th>\n",
       "    </tr>\n",
       "  </thead>\n",
       "  <tbody>\n",
       "    <tr>\n",
       "      <th>0</th>\n",
       "      <td>Ranphee</td>\n",
       "      <td>Camisetas Túnica de Manga Larga para Mujer Blu...</td>\n",
       "      <td>25.99</td>\n",
       "      <td>negro</td>\n",
       "    </tr>\n",
       "    <tr>\n",
       "      <th>1</th>\n",
       "      <td>ANGGREK</td>\n",
       "      <td>Mujer Verano Tops Casual Encaje Cuello en V Ca...</td>\n",
       "      <td>31.19</td>\n",
       "      <td>negro</td>\n",
       "    </tr>\n",
       "    <tr>\n",
       "      <th>2</th>\n",
       "      <td>GRMLRPT</td>\n",
       "      <td>2023 Camiseta de Manga 3/4 Mujer Moda Cuello e...</td>\n",
       "      <td>25.99</td>\n",
       "      <td>negro</td>\n",
       "    </tr>\n",
       "    <tr>\n",
       "      <th>3</th>\n",
       "      <td>Urban Classics</td>\n",
       "      <td>Ladies Extended Shoulder tee Camiseta para Mujer</td>\n",
       "      <td>11.90</td>\n",
       "      <td>negro</td>\n",
       "    </tr>\n",
       "    <tr>\n",
       "      <th>4</th>\n",
       "      <td>Only</td>\n",
       "      <td>Printed 3/4 Sleeved Top Suéter, Nero (Black/AO...</td>\n",
       "      <td>19.99</td>\n",
       "      <td>negro</td>\n",
       "    </tr>\n",
       "  </tbody>\n",
       "</table>\n",
       "</div>"
      ],
      "text/plain": [
       "            brand                                        description  price  \\\n",
       "0         Ranphee  Camisetas Túnica de Manga Larga para Mujer Blu...  25.99   \n",
       "1         ANGGREK  Mujer Verano Tops Casual Encaje Cuello en V Ca...  31.19   \n",
       "2         GRMLRPT  2023 Camiseta de Manga 3/4 Mujer Moda Cuello e...  25.99   \n",
       "3  Urban Classics   Ladies Extended Shoulder tee Camiseta para Mujer  11.90   \n",
       "4            Only  Printed 3/4 Sleeved Top Suéter, Nero (Black/AO...  19.99   \n",
       "\n",
       "  colour  \n",
       "0  negro  \n",
       "1  negro  \n",
       "2  negro  \n",
       "3  negro  \n",
       "4  negro  "
      ]
     },
     "metadata": {},
     "output_type": "display_data"
    },
    {
     "data": {
      "text/html": [
       "<div>\n",
       "<style scoped>\n",
       "    .dataframe tbody tr th:only-of-type {\n",
       "        vertical-align: middle;\n",
       "    }\n",
       "\n",
       "    .dataframe tbody tr th {\n",
       "        vertical-align: top;\n",
       "    }\n",
       "\n",
       "    .dataframe thead th {\n",
       "        text-align: right;\n",
       "    }\n",
       "</style>\n",
       "<table border=\"1\" class=\"dataframe\">\n",
       "  <thead>\n",
       "    <tr style=\"text-align: right;\">\n",
       "      <th></th>\n",
       "      <th>brand</th>\n",
       "      <th>description</th>\n",
       "      <th>price</th>\n",
       "      <th>colour</th>\n",
       "    </tr>\n",
       "  </thead>\n",
       "  <tbody>\n",
       "    <tr>\n",
       "      <th>0</th>\n",
       "      <td>Jack &amp; Jones</td>\n",
       "      <td>Hombres Sudaderas jjeCorp Logo</td>\n",
       "      <td>34.99</td>\n",
       "      <td>negro</td>\n",
       "    </tr>\n",
       "    <tr>\n",
       "      <th>1</th>\n",
       "      <td>Mister Tee</td>\n",
       "      <td>sudadera con capucha, manga larga, de hombre, ...</td>\n",
       "      <td>39.90</td>\n",
       "      <td>negro</td>\n",
       "    </tr>\n",
       "    <tr>\n",
       "      <th>2</th>\n",
       "      <td>Joma</td>\n",
       "      <td>Academy IV Sudadera con Capucha, Hombre</td>\n",
       "      <td>26.50</td>\n",
       "      <td>negro</td>\n",
       "    </tr>\n",
       "    <tr>\n",
       "      <th>3</th>\n",
       "      <td>Geographical Norway</td>\n",
       "      <td>Gymclass Sudadera para Hombre</td>\n",
       "      <td>39.90</td>\n",
       "      <td>negro</td>\n",
       "    </tr>\n",
       "    <tr>\n",
       "      <th>4</th>\n",
       "      <td>Joma</td>\n",
       "      <td>Sudadera Faraon para Hombre</td>\n",
       "      <td>21.50</td>\n",
       "      <td>negro</td>\n",
       "    </tr>\n",
       "  </tbody>\n",
       "</table>\n",
       "</div>"
      ],
      "text/plain": [
       "                 brand                                        description  \\\n",
       "0         Jack & Jones                     Hombres Sudaderas jjeCorp Logo   \n",
       "1           Mister Tee  sudadera con capucha, manga larga, de hombre, ...   \n",
       "2                 Joma            Academy IV Sudadera con Capucha, Hombre   \n",
       "3  Geographical Norway                      Gymclass Sudadera para Hombre   \n",
       "4                 Joma                        Sudadera Faraon para Hombre   \n",
       "\n",
       "   price colour  \n",
       "0  34.99  negro  \n",
       "1  39.90  negro  \n",
       "2  26.50  negro  \n",
       "3  39.90  negro  \n",
       "4  21.50  negro  "
      ]
     },
     "metadata": {},
     "output_type": "display_data"
    },
    {
     "data": {
      "text/plain": [
       "(None, None)"
      ]
     },
     "execution_count": 44,
     "metadata": {},
     "output_type": "execute_result"
    }
   ],
   "source": [
    "display(amz1_women_clothes_clean.head()), display(amz1_men_clothes_clean.head())"
   ]
  }
 ],
 "metadata": {
  "kernelspec": {
   "display_name": "env37",
   "language": "python",
   "name": "env37"
  },
  "language_info": {
   "codemirror_mode": {
    "name": "ipython",
    "version": 3
   },
   "file_extension": ".py",
   "mimetype": "text/x-python",
   "name": "python",
   "nbconvert_exporter": "python",
   "pygments_lexer": "ipython3",
   "version": "3.7.16"
  }
 },
 "nbformat": 4,
 "nbformat_minor": 5
}
