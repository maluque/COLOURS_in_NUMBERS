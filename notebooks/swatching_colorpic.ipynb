{
 "cells": [
  {
   "cell_type": "markdown",
   "id": "ad86658c",
   "metadata": {},
   "source": [
    "\n",
    "## @ankitshekhawat\n",
    "### ankitshekhawat/swatching.py\n",
    "\n",
    "\n",
    "https://gist.github.com/ankitshekhawat/b743d69d6c69b28f10d2\n",
    "\n",
    "\n",
    "#### color tab from\n",
    "https://www.rapidtables.com/web/color/RGB_Color.html\n"
   ]
  },
  {
   "cell_type": "markdown",
   "id": "b8d06fb3",
   "metadata": {},
   "source": [
    "### get color classification tables"
   ]
  },
  {
   "cell_type": "code",
   "execution_count": 11,
   "id": "6bbf9b31",
   "metadata": {},
   "outputs": [],
   "source": [
    "import pandas as pd\n",
    "from PIL import Image # pillow\n",
    "import time\n",
    "from collections import Counter\n",
    "import seaborn as sns\n",
    "import webcolors\n",
    "import os\n",
    "import warnings\n",
    "warnings.filterwarnings('ignore') # ignorar warnings\n"
   ]
  },
  {
   "cell_type": "code",
   "execution_count": 4,
   "id": "57b34fe0",
   "metadata": {},
   "outputs": [
    {
     "name": "stderr",
     "output_type": "stream",
     "text": [
      "/Users/Marina/anaconda3/envs/env37/lib/python3.7/site-packages/openpyxl/worksheet/_read_only.py:79: UserWarning: Unknown extension is not supported and will be removed\n",
      "  for idx, row in parser.parse():\n"
     ]
    }
   ],
   "source": [
    "file_path = '../data/clean/color_tab.xlsx'\n",
    "color_tab = pd.read_excel(file_path)\n"
   ]
  },
  {
   "cell_type": "code",
   "execution_count": 6,
   "id": "cff6393f",
   "metadata": {},
   "outputs": [
    {
     "data": {
      "text/html": [
       "<div>\n",
       "<style scoped>\n",
       "    .dataframe tbody tr th:only-of-type {\n",
       "        vertical-align: middle;\n",
       "    }\n",
       "\n",
       "    .dataframe tbody tr th {\n",
       "        vertical-align: top;\n",
       "    }\n",
       "\n",
       "    .dataframe thead th {\n",
       "        text-align: right;\n",
       "    }\n",
       "</style>\n",
       "<table border=\"1\" class=\"dataframe\">\n",
       "  <thead>\n",
       "    <tr style=\"text-align: right;\">\n",
       "      <th></th>\n",
       "      <th>Color</th>\n",
       "      <th>Hex Code</th>\n",
       "      <th>Decimal Code</th>\n",
       "    </tr>\n",
       "  </thead>\n",
       "  <tbody>\n",
       "    <tr>\n",
       "      <th>0</th>\n",
       "      <td>Black</td>\n",
       "      <td>#000000</td>\n",
       "      <td>(0,0,0)</td>\n",
       "    </tr>\n",
       "    <tr>\n",
       "      <th>1</th>\n",
       "      <td>White</td>\n",
       "      <td>#FFFFFF</td>\n",
       "      <td>(255,255,255)</td>\n",
       "    </tr>\n",
       "    <tr>\n",
       "      <th>2</th>\n",
       "      <td>Red</td>\n",
       "      <td>#FF0000</td>\n",
       "      <td>(255,0,0)</td>\n",
       "    </tr>\n",
       "    <tr>\n",
       "      <th>3</th>\n",
       "      <td>Lime</td>\n",
       "      <td>#00FF00</td>\n",
       "      <td>(0,255,0)</td>\n",
       "    </tr>\n",
       "    <tr>\n",
       "      <th>4</th>\n",
       "      <td>Blue</td>\n",
       "      <td>#0000FF</td>\n",
       "      <td>(0,0,255)</td>\n",
       "    </tr>\n",
       "    <tr>\n",
       "      <th>...</th>\n",
       "      <td>...</td>\n",
       "      <td>...</td>\n",
       "      <td>...</td>\n",
       "    </tr>\n",
       "    <tr>\n",
       "      <th>150</th>\n",
       "      <td>silver</td>\n",
       "      <td>#C0C0C0</td>\n",
       "      <td>(192,192,192)</td>\n",
       "    </tr>\n",
       "    <tr>\n",
       "      <th>151</th>\n",
       "      <td>light gray / light grey</td>\n",
       "      <td>#D3D3D3</td>\n",
       "      <td>(211,211,211)</td>\n",
       "    </tr>\n",
       "    <tr>\n",
       "      <th>152</th>\n",
       "      <td>gainsboro</td>\n",
       "      <td>#DCDCDC</td>\n",
       "      <td>(220,220,220)</td>\n",
       "    </tr>\n",
       "    <tr>\n",
       "      <th>153</th>\n",
       "      <td>white smoke</td>\n",
       "      <td>#F5F5F5</td>\n",
       "      <td>(245,245,245)</td>\n",
       "    </tr>\n",
       "    <tr>\n",
       "      <th>154</th>\n",
       "      <td>white</td>\n",
       "      <td>#FFFFFF</td>\n",
       "      <td>(255,255,255)</td>\n",
       "    </tr>\n",
       "  </tbody>\n",
       "</table>\n",
       "<p>155 rows × 3 columns</p>\n",
       "</div>"
      ],
      "text/plain": [
       "                       Color Hex Code   Decimal Code\n",
       "0                      Black  #000000        (0,0,0)\n",
       "1                      White  #FFFFFF  (255,255,255)\n",
       "2                        Red  #FF0000      (255,0,0)\n",
       "3                       Lime  #00FF00      (0,255,0)\n",
       "4                       Blue  #0000FF      (0,0,255)\n",
       "..                       ...      ...            ...\n",
       "150                   silver  #C0C0C0  (192,192,192)\n",
       "151  light gray / light grey  #D3D3D3  (211,211,211)\n",
       "152                gainsboro  #DCDCDC  (220,220,220)\n",
       "153              white smoke  #F5F5F5  (245,245,245)\n",
       "154                    white  #FFFFFF  (255,255,255)\n",
       "\n",
       "[155 rows x 3 columns]"
      ]
     },
     "execution_count": 6,
     "metadata": {},
     "output_type": "execute_result"
    }
   ],
   "source": [
    "color_tab\n"
   ]
  },
  {
   "cell_type": "code",
   "execution_count": 9,
   "id": "639e6276",
   "metadata": {},
   "outputs": [
    {
     "name": "stdout",
     "output_type": "stream",
     "text": [
      "['.DS_Store', '.ipynb_checkpoints', '1.amz1_womentshirt_extract.ipynb', '2.API_ASOS_extract.ipynb', '3.kaggle_extract_transform.ipynb', '4.amz1_womentshirt_transform.ipynb', '5.API_ASOS_transform.ipynb', '6.transform_load.ipynb', 'amz_past_extract.ipynb', 'asos_womentshirt_data.pkl', 'colors_simplific.ipynb', 'geckodriver.log', 'src', 'swatching_colorpic.ipynb', 'temp']\n"
     ]
    }
   ],
   "source": [
    "print(os.listdir())"
   ]
  },
  {
   "cell_type": "code",
   "execution_count": 10,
   "id": "1daa6155",
   "metadata": {
    "scrolled": true
   },
   "outputs": [
    {
     "name": "stdout",
     "output_type": "stream",
     "text": [
      "(3264, 4912)\n"
     ]
    }
   ],
   "source": [
    "\n",
    "im = Image.open('../images/intro.jpg') # Can be many different formats.\n",
    "pix = im.load()\n",
    "print(im.size)\n",
    "\n"
   ]
  },
  {
   "cell_type": "code",
   "execution_count": 12,
   "id": "0920b2c5",
   "metadata": {},
   "outputs": [
    {
     "name": "stdout",
     "output_type": "stream",
     "text": [
      "CPU times: user 11 s, sys: 2.54 s, total: 13.5 s\n",
      "Wall time: 14.2 s\n"
     ]
    }
   ],
   "source": [
    "%%time\n",
    "RGBA=list()\n",
    "for i in range(1,im.size[0]):\n",
    "    for j in range(1,im.size[1]):\n",
    "        RGBA.append(pix[i,j])\n",
    "        \n",
    "# returns a dict of counts for each list within the list\n",
    "counts = Counter(RGBA)"
   ]
  },
  {
   "cell_type": "markdown",
   "id": "5077d44e",
   "metadata": {},
   "source": [
    "## shorter dictionary to test"
   ]
  },
  {
   "cell_type": "code",
   "execution_count": 16,
   "id": "0297b3fd",
   "metadata": {},
   "outputs": [
    {
     "name": "stdout",
     "output_type": "stream",
     "text": [
      "CPU times: user 566 ms, sys: 490 ms, total: 1.06 s\n",
      "Wall time: 1.18 s\n"
     ]
    }
   ],
   "source": [
    "%%time\n",
    "RGBA=list()\n",
    "for i in range(1,100):\n",
    "    for j in range(1,100):\n",
    "        RGBA.append(pix[i,j])\n",
    "        \n",
    "# returns a dict of counts for each list within the list\n",
    "counts = Counter(RGBA)"
   ]
  },
  {
   "cell_type": "code",
   "execution_count": 38,
   "id": "2d8692d3",
   "metadata": {},
   "outputs": [
    {
     "data": {
      "text/plain": [
       "('(0,0,0)', (2, 2, 2))"
      ]
     },
     "execution_count": 38,
     "metadata": {},
     "output_type": "execute_result"
    }
   ],
   "source": [
    "color_tab[\"Decimal Code\"][0].replace(\"\\\\'\", \"\") , list(counts.keys())[3]\n",
    "#color_tab[color_tab[\"Decimal Code\"]==list(counts.keys())[3]]\n",
    "\n",
    "#color_tab[\"Decimal Code\"][0].replace(\"(\", \"\")"
   ]
  },
  {
   "cell_type": "code",
   "execution_count": 16,
   "id": "d93cbbb9",
   "metadata": {},
   "outputs": [
    {
     "ename": "ValueError",
     "evalue": "\"#010101\" has no defined color name in css3.",
     "output_type": "error",
     "traceback": [
      "\u001b[0;31m---------------------------------------------------------------------------\u001b[0m",
      "\u001b[0;31mValueError\u001b[0m                                Traceback (most recent call last)",
      "\u001b[0;32m/var/folders/_2/56h_hw1n3bd79mkhskq2r__40000gn/T/ipykernel_16179/2655213497.py\u001b[0m in \u001b[0;36m<module>\u001b[0;34m\u001b[0m\n\u001b[1;32m      1\u001b[0m \u001b[0mrgb\u001b[0m\u001b[0;34m=\u001b[0m\u001b[0mlist\u001b[0m\u001b[0;34m(\u001b[0m\u001b[0mcounts\u001b[0m\u001b[0;34m.\u001b[0m\u001b[0mkeys\u001b[0m\u001b[0;34m(\u001b[0m\u001b[0;34m)\u001b[0m\u001b[0;34m)\u001b[0m\u001b[0;34m[\u001b[0m\u001b[0;36m0\u001b[0m\u001b[0;34m]\u001b[0m\u001b[0;34m\u001b[0m\u001b[0;34m\u001b[0m\u001b[0m\n\u001b[0;32m----> 2\u001b[0;31m \u001b[0mclosest_name\u001b[0m \u001b[0;34m=\u001b[0m \u001b[0mwebcolors\u001b[0m\u001b[0;34m.\u001b[0m\u001b[0mrgb_to_name\u001b[0m\u001b[0;34m(\u001b[0m\u001b[0mrgb\u001b[0m\u001b[0;34m)\u001b[0m\u001b[0;34m\u001b[0m\u001b[0;34m\u001b[0m\u001b[0m\n\u001b[0m",
      "\u001b[0;32m~/anaconda3/envs/env37/lib/python3.7/site-packages/webcolors/conversion.py\u001b[0m in \u001b[0;36mrgb_to_name\u001b[0;34m(rgb_triplet, spec)\u001b[0m\n\u001b[1;32m    238\u001b[0m     \"\"\"\n\u001b[1;32m    239\u001b[0m     return hex_to_name(\n\u001b[0;32m--> 240\u001b[0;31m         \u001b[0mrgb_to_hex\u001b[0m\u001b[0;34m(\u001b[0m\u001b[0mnormalization\u001b[0m\u001b[0;34m.\u001b[0m\u001b[0mnormalize_integer_triplet\u001b[0m\u001b[0;34m(\u001b[0m\u001b[0mrgb_triplet\u001b[0m\u001b[0;34m)\u001b[0m\u001b[0;34m)\u001b[0m\u001b[0;34m,\u001b[0m \u001b[0mspec\u001b[0m\u001b[0;34m=\u001b[0m\u001b[0mspec\u001b[0m\u001b[0;34m\u001b[0m\u001b[0;34m\u001b[0m\u001b[0m\n\u001b[0m\u001b[1;32m    241\u001b[0m     )\n\u001b[1;32m    242\u001b[0m \u001b[0;34m\u001b[0m\u001b[0m\n",
      "\u001b[0;32m~/anaconda3/envs/env37/lib/python3.7/site-packages/webcolors/conversion.py\u001b[0m in \u001b[0;36mhex_to_name\u001b[0;34m(hex_value, spec)\u001b[0m\n\u001b[1;32m    150\u001b[0m     )\n\u001b[1;32m    151\u001b[0m     \u001b[0;32mif\u001b[0m \u001b[0mname\u001b[0m \u001b[0;32mis\u001b[0m \u001b[0;32mNone\u001b[0m\u001b[0;34m:\u001b[0m\u001b[0;34m\u001b[0m\u001b[0;34m\u001b[0m\u001b[0m\n\u001b[0;32m--> 152\u001b[0;31m         \u001b[0;32mraise\u001b[0m \u001b[0mValueError\u001b[0m\u001b[0;34m(\u001b[0m\u001b[0;34mf'\"{hex_value}\" has no defined color name in {spec}.'\u001b[0m\u001b[0;34m)\u001b[0m\u001b[0;34m\u001b[0m\u001b[0;34m\u001b[0m\u001b[0m\n\u001b[0m\u001b[1;32m    153\u001b[0m     \u001b[0;32mreturn\u001b[0m \u001b[0mname\u001b[0m\u001b[0;34m\u001b[0m\u001b[0;34m\u001b[0m\u001b[0m\n\u001b[1;32m    154\u001b[0m \u001b[0;34m\u001b[0m\u001b[0m\n",
      "\u001b[0;31mValueError\u001b[0m: \"#010101\" has no defined color name in css3."
     ]
    }
   ],
   "source": [
    "\n",
    "\n",
    "rgb=list(counts.keys())[0]\n",
    "closest_name = webcolors.rgb_to_name(rgb)\n"
   ]
  },
  {
   "cell_type": "code",
   "execution_count": 55,
   "id": "0870edf1",
   "metadata": {},
   "outputs": [
    {
     "ename": "AttributeError",
     "evalue": "'Counter' object has no attribute 'less_common'",
     "output_type": "error",
     "traceback": [
      "\u001b[0;31m---------------------------------------------------------------------------\u001b[0m",
      "\u001b[0;31mAttributeError\u001b[0m                            Traceback (most recent call last)",
      "\u001b[0;32m/var/folders/_2/56h_hw1n3bd79mkhskq2r__40000gn/T/ipykernel_15504/2992313367.py\u001b[0m in \u001b[0;36m<module>\u001b[0;34m\u001b[0m\n\u001b[0;32m----> 1\u001b[0;31m \u001b[0mmost_common_list\u001b[0m\u001b[0;34m,\u001b[0m \u001b[0mfrequency\u001b[0m \u001b[0;34m=\u001b[0m \u001b[0mcounts\u001b[0m\u001b[0;34m.\u001b[0m\u001b[0mless_common\u001b[0m\u001b[0;34m(\u001b[0m\u001b[0;36m1\u001b[0m\u001b[0;34m)\u001b[0m\u001b[0;34m[\u001b[0m\u001b[0;36m0\u001b[0m\u001b[0;34m]\u001b[0m\u001b[0;34m\u001b[0m\u001b[0;34m\u001b[0m\u001b[0m\n\u001b[0m",
      "\u001b[0;31mAttributeError\u001b[0m: 'Counter' object has no attribute 'less_common'"
     ]
    }
   ],
   "source": [
    "counts = Counter(RGBA)\n",
    "most_common_list, frequency = counts.most_common(1)[0]"
   ]
  },
  {
   "cell_type": "code",
   "execution_count": null,
   "id": "9588d4dd",
   "metadata": {},
   "outputs": [],
   "source": [
    "len(list(counts.values())"
   ]
  },
  {
   "cell_type": "code",
   "execution_count": 35,
   "id": "90a94121",
   "metadata": {},
   "outputs": [
    {
     "ename": "NameError",
     "evalue": "name 'x' is not defined",
     "output_type": "error",
     "traceback": [
      "\u001b[0;31m---------------------------------------------------------------------------\u001b[0m",
      "\u001b[0;31mNameError\u001b[0m                                 Traceback (most recent call last)",
      "\u001b[0;32m/var/folders/_2/56h_hw1n3bd79mkhskq2r__40000gn/T/ipykernel_15504/388481121.py\u001b[0m in \u001b[0;36m<module>\u001b[0;34m\u001b[0m\n\u001b[0;32m----> 1\u001b[0;31m \u001b[0mprint\u001b[0m\u001b[0;34m(\u001b[0m\u001b[0mpix\u001b[0m\u001b[0;34m[\u001b[0m\u001b[0mx\u001b[0m\u001b[0;34m,\u001b[0m\u001b[0my\u001b[0m\u001b[0;34m]\u001b[0m\u001b[0;34m)\u001b[0m  \u001b[0;31m# Get the RGBA Value of the a pixel of an image\u001b[0m\u001b[0;34m\u001b[0m\u001b[0;34m\u001b[0m\u001b[0m\n\u001b[0m\u001b[1;32m      2\u001b[0m \u001b[0;31m#pix[x,y] = value  # Set the RGBA Value of the image (tuple)\u001b[0m\u001b[0;34m\u001b[0m\u001b[0;34m\u001b[0m\u001b[0;34m\u001b[0m\u001b[0m\n\u001b[1;32m      3\u001b[0m \u001b[0;31m#im.save('alive_parrot.png')  # Save the modified pixels as .png\u001b[0m\u001b[0;34m\u001b[0m\u001b[0;34m\u001b[0m\u001b[0;34m\u001b[0m\u001b[0m\n",
      "\u001b[0;31mNameError\u001b[0m: name 'x' is not defined"
     ]
    }
   ],
   "source": [
    "print(pix[x,y])  # Get the RGBA Value of the a pixel of an image\n",
    "#pix[x,y] = value  # Set the RGBA Value of the image (tuple)\n",
    "#im.save('alive_parrot.png')  # Save the modified pixels as .png"
   ]
  },
  {
   "cell_type": "code",
   "execution_count": 1,
   "id": "630b061e",
   "metadata": {},
   "outputs": [],
   "source": [
    "import numpy as np\n",
    "from PIL import Image, ImageDraw\n",
    "import colorsys, random\n",
    "from pylab import plot,show\n",
    "from numpy import vstack,array\n",
    "from numpy.random import rand\n",
    "from scipy.cluster.vq import kmeans,vq\n",
    "from mpl_toolkits.mplot3d import Axes3D\n",
    "import matplotlib.pyplot as plt\n",
    "import matplotlib.image as mpimg"
   ]
  },
  {
   "cell_type": "code",
   "execution_count": 22,
   "id": "8bbd5f3d",
   "metadata": {},
   "outputs": [
    {
     "name": "stdout",
     "output_type": "stream",
     "text": [
      "['.debris', '.DS_Store', 'ACCUPRED', 'cytogplot.pdf', 'gallery_picsPDF', 'githubpages1', 'githubpages1 bicol', 'githubpages1_backup', 'html5up-ethereal', 'html5up-ethereal.zip', 'html5up-strata', 'Icon\\r', 'maluque.github.io_backup', 'PY_PROJECTS', 'web_pics', 'zoocanica1']\n",
      "[[]]\n"
     ]
    }
   ],
   "source": [
    "\n",
    "os.chdir(\"..\")\n",
    "\n",
    "print(os.listdir())\n",
    "print(files)\n"
   ]
  },
  {
   "cell_type": "code",
   "execution_count": 23,
   "id": "90a7dacb",
   "metadata": {},
   "outputs": [],
   "source": [
    "os.chdir(\"..\")"
   ]
  },
  {
   "cell_type": "code",
   "execution_count": 24,
   "id": "c9519608",
   "metadata": {},
   "outputs": [
    {
     "name": "stdout",
     "output_type": "stream",
     "text": [
      "[[]]\n"
     ]
    }
   ],
   "source": [
    "print(files)"
   ]
  },
  {
   "cell_type": "code",
   "execution_count": 21,
   "id": "031eb133",
   "metadata": {},
   "outputs": [
    {
     "ename": "FileNotFoundError",
     "evalue": "[Errno 2] No such file or directory: './images'",
     "output_type": "error",
     "traceback": [
      "\u001b[0;31m---------------------------------------------------------------------------\u001b[0m",
      "\u001b[0;31mFileNotFoundError\u001b[0m                         Traceback (most recent call last)",
      "\u001b[0;32m/var/folders/_2/56h_hw1n3bd79mkhskq2r__40000gn/T/ipykernel_15504/422916365.py\u001b[0m in \u001b[0;36m<module>\u001b[0;34m\u001b[0m\n\u001b[1;32m      5\u001b[0m \u001b[0;34m\u001b[0m\u001b[0m\n\u001b[1;32m      6\u001b[0m \u001b[0;31m# Change the current working directory to the 'images' directory\u001b[0m\u001b[0;34m\u001b[0m\u001b[0;34m\u001b[0m\u001b[0;34m\u001b[0m\u001b[0m\n\u001b[0;32m----> 7\u001b[0;31m \u001b[0mos\u001b[0m\u001b[0;34m.\u001b[0m\u001b[0mchdir\u001b[0m\u001b[0;34m(\u001b[0m\u001b[0;34m\"./images\"\u001b[0m\u001b[0;34m)\u001b[0m\u001b[0;34m\u001b[0m\u001b[0;34m\u001b[0m\u001b[0m\n\u001b[0m\u001b[1;32m      8\u001b[0m \u001b[0;34m\u001b[0m\u001b[0m\n\u001b[1;32m      9\u001b[0m \u001b[0;31m# Now you are in the 'images' directory\u001b[0m\u001b[0;34m\u001b[0m\u001b[0;34m\u001b[0m\u001b[0;34m\u001b[0m\u001b[0m\n",
      "\u001b[0;31mFileNotFoundError\u001b[0m: [Errno 2] No such file or directory: './images'"
     ]
    }
   ],
   "source": [
    "res = 2 # Resolution\n",
    "clusters = 4\n",
    "\n",
    "import glob, os\n",
    "\n",
    "# Change the current working directory to the 'images' directory\n",
    "os.chdir(\"./images\")\n",
    "\n",
    "# Now you are in the 'images' directory\n",
    "# You can perform operations in this directory, such as listing files or reading files using glob\n",
    "files = glob.glob(\"*.jpg\")  # This will find all JPG files in the 'images' directory\n"
   ]
  },
  {
   "cell_type": "code",
   "execution_count": 29,
   "id": "fc121ec3",
   "metadata": {},
   "outputs": [
    {
     "data": {
      "text/plain": [
       "tuple"
      ]
     },
     "execution_count": 29,
     "metadata": {},
     "output_type": "execute_result"
    }
   ],
   "source": [
    "rgb=(0,0, 187)\n",
    "type(rgb)"
   ]
  },
  {
   "cell_type": "code",
   "execution_count": null,
   "id": "7aae45ab",
   "metadata": {},
   "outputs": [],
   "source": []
  },
  {
   "cell_type": "code",
   "execution_count": null,
   "id": "4e0d7b3a",
   "metadata": {},
   "outputs": [],
   "source": []
  },
  {
   "cell_type": "code",
   "execution_count": 22,
   "id": "899fad78",
   "metadata": {},
   "outputs": [],
   "source": []
  },
  {
   "cell_type": "code",
   "execution_count": null,
   "id": "2bb11fbb",
   "metadata": {},
   "outputs": [],
   "source": []
  },
  {
   "cell_type": "code",
   "execution_count": null,
   "id": "0961a9f5",
   "metadata": {},
   "outputs": [],
   "source": []
  }
 ],
 "metadata": {
  "kernelspec": {
   "display_name": "env37",
   "language": "python",
   "name": "env37"
  },
  "language_info": {
   "codemirror_mode": {
    "name": "ipython",
    "version": 3
   },
   "file_extension": ".py",
   "mimetype": "text/x-python",
   "name": "python",
   "nbconvert_exporter": "python",
   "pygments_lexer": "ipython3",
   "version": "3.7.16"
  }
 },
 "nbformat": 4,
 "nbformat_minor": 5
}
