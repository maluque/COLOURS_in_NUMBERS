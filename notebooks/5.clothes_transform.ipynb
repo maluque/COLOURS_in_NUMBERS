{
 "cells": [
  {
   "cell_type": "markdown",
   "id": "5cabd69d",
   "metadata": {},
   "source": [
    "# TRANSFORM (II)\n",
    "\n",
    "These transformations were performed in parallel with data exploration\n",
    "\n",
    "0. Import modules\n",
    "1. Load clean dataframes\n",
    "2. Merge all dataframes (amz, asos, men and women)\n",
    "\n",
    "\n",
    "3. **Classify according to \"type\"** of clothing\n",
    "4. Filter out **irrelevant types**: \"zapatos\", \"mallas\", \"falda\", \"pantalones\"\n",
    "5. Divide **price by pack** when necessary\n",
    "\n",
    "\n",
    "\n",
    "6. Divide the set in **\"complete\" and \"simple\" df versions** to continue with a more deep EDA\n",
    "**simple_df** will include: `brand, color, type, gender, and price` divided by pack. <br/>\n",
    "\n",
    "`shop` was excluded because we had **twice as much products from Amazon than ASOS**. <br/>\n",
    "It was expected since we reached the max limit of requests in the ASOS API. <br/>"
   ]
  },
  {
   "cell_type": "markdown",
   "id": "14f1cff2",
   "metadata": {},
   "source": [
    "### 0. Import modules"
   ]
  },
  {
   "cell_type": "code",
   "execution_count": 4,
   "id": "fded50a6",
   "metadata": {},
   "outputs": [],
   "source": [
    "# Import modules etc\n",
    "\n",
    "import pandas as pd\n",
    "import numpy as np\n",
    "import re\n",
    "import random\n",
    "from unidecode import unidecode\n",
    "import re\n",
    "\n",
    "np.random.seed(42)\n",
    "pd.set_option('display.max_columns', None) # show all the columns\n",
    "\n",
    "import warnings\n",
    "warnings.filterwarnings('ignore') # ignorar warnings\n",
    "\n",
    "from src import dataanalysis_fun1 as eda # Import my module\n",
    "\n",
    "# plotting\n",
    "import seaborn as sns  # esta basada en matplotlib\n",
    "import pylab as plt  # libreria basica para pintar\n",
    "#import matplotlib.pyplot as plt\n",
    "from matplotlib_venn import venn2\n",
    "\n",
    "plt.rcParams['figure.figsize']=(8, 6)  # tamaño por defecto, decenas de pixeles\n",
    "\n",
    "%matplotlib inline"
   ]
  },
  {
   "cell_type": "markdown",
   "id": "e62b2e3a",
   "metadata": {},
   "source": [
    "### 1. Load clean dataframes"
   ]
  },
  {
   "cell_type": "code",
   "execution_count": 5,
   "id": "6815210e",
   "metadata": {},
   "outputs": [],
   "source": [
    "amz_men=pd.read_csv(\"../data/clean/amz1_men_clothes_clean.csv\")\n",
    "amz_wom=pd.read_csv(\"../data/clean/amz1_women_clothes_clean.csv\")\n",
    "\n",
    "aso_men=pd.read_csv(\"../data/clean/asos_men_clothes_clean.csv\")\n",
    "aso_wom=pd.read_csv(\"../data/clean/asos_women_clothes_clean.csv\")"
   ]
  },
  {
   "cell_type": "code",
   "execution_count": 6,
   "id": "940f647e",
   "metadata": {},
   "outputs": [],
   "source": [
    "amz_men[[\"shop\", \"gender\"]]=[\"amz\", \"men\"]\n",
    "amz_wom[[\"shop\", \"gender\"]]=[\"amz\", \"women\"]\n",
    "aso_men[[\"shop\", \"gender\"]]=[\"asos\", \"men\"]\n",
    "aso_wom[[\"shop\", \"gender\"]]=[\"asos\", \"women\"]\n",
    "\n",
    "clothes_df=pd.concat([amz_men, amz_wom, aso_men, aso_wom], axis=0, ignore_index=True)\n",
    "clothes_df=clothes_df.sort_values(by=['brand', \"colour\", \"gender\", \"price\"], ascending=True)"
   ]
  },
  {
   "cell_type": "markdown",
   "id": "ee44736c",
   "metadata": {},
   "source": [
    "### 2. Classify products according to their description\n",
    "\n",
    "* Join \"ivory\" and beige\"\n",
    "* Normalize categories to English\n",
    "* Drop Nas in coloir column"
   ]
  },
  {
   "cell_type": "code",
   "execution_count": 7,
   "id": "602190a3",
   "metadata": {},
   "outputs": [],
   "source": [
    "colors_transl = {\n",
    "    'marfil': 'beige',\n",
    "    'marron': 'brown',\n",
    "    'rojo': 'red',\n",
    "    'amarillo': 'yellow',\n",
    "    'azul': 'blue',\n",
    "    'beis': 'beige',\n",
    "    'blanco': 'white',\n",
    "    'gris': 'gray',\n",
    "    'morado': 'purple',\n",
    "    'multicolor': 'multicolor',\n",
    "    'naranja': 'orange',\n",
    "    'negro': 'black',\n",
    "    'rosa': 'pink',\n",
    "    'verde': 'green',\n",
    "    'turquesa': 'turquoise',\n",
    "    'dorado': 'gold'\n",
    "}\n",
    "\n",
    "clothes_df['colour'] = clothes_df['colour'].map(colors_transl)\n",
    "clothes_df = clothes_df.dropna(subset=[\"colour\"])"
   ]
  },
  {
   "cell_type": "code",
   "execution_count": 8,
   "id": "d46b10b9",
   "metadata": {},
   "outputs": [],
   "source": [
    "type_dict={\"tshirt\":[\"camiseta\", \"shirt\", \"polo\", \"Camicetta\", \"manga larga\", \"camisola\", \"manica lunga\"],\n",
    "           \"top\": [\"top\"],\n",
    "           \"jacket\":[\"Cazadora\", \"casaca\", \"chaqueta\", \"Jacket\", \"Poncho\", \"Abrigo\"],\n",
    "           \"sweatshirt\":[\"Hoodie\",\"sudadera\",\"polar\",\"Hoody\", \"Sweater\", \"Sueter\", \"Suter\", \"chaleco\"],\n",
    "           \"sweater\":[\"jersey\",\"jersei\", \"pulover\", \"pullover\", \"cardigan\", \"Jumper\"],\n",
    "           \"dress\":[\"vestido\", \"tunica\", \"camison\"],\n",
    "           \"shirt\": [\"camisa\", \"blusa\", \"blouse\", \"bluse\"],\n",
    "           \"underwear\":[\"lenceria\", \"sujetador\", \"corse\", \"interior\", \"Sock\"],\n",
    "           \"pants\": [\"pantalones\",  \"jeans\", \"vaqueros\"],\n",
    "           \"leggings\": [ \"legging\", \"mallas\", \"jogger\", \"mallot\", \"leotardo\"],\n",
    "           \"skirt\": [ \"falda\"],\n",
    "           \"shoes\": [ \"zapatos\"]\n",
    "          }"
   ]
  },
  {
   "cell_type": "code",
   "execution_count": 9,
   "id": "5ca736f2",
   "metadata": {},
   "outputs": [
    {
     "data": {
      "text/plain": [
       "39053    camiseta roja sin mangas con espalda de nadado...\n",
       "27501    camiseta azul a rayas con cuello redondo de pi...\n",
       "Name: description2, dtype: object"
      ]
     },
     "execution_count": 9,
     "metadata": {},
     "output_type": "execute_result"
    }
   ],
   "source": [
    "def remove_plural_last_word(text):\n",
    "    '''\n",
    "    Modify description to improve key word match (take out the last s in plural words)\n",
    "    '''\n",
    "    words = text.split()\n",
    "    # Check if the last word in the phrase ends with 's'\n",
    "    if words and words[-1].lower().endswith('s'):\n",
    "        # Remove the last word\n",
    "        return ' '.join(words[:-1])\n",
    "    return text\n",
    "\n",
    "\n",
    "clothes_df[\"description2\"]=[remove_plural_last_word(unidecode(des.lower())) for des in clothes_df[\"description\"]]\n",
    "clothes_df[\"description2\"].sample(2)"
   ]
  },
  {
   "cell_type": "code",
   "execution_count": 10,
   "id": "0626b57b",
   "metadata": {},
   "outputs": [],
   "source": [
    "def check_key_terms(dataframe, colnam, key_terms):\n",
    "    '''\n",
    "    Eval if any of the keywords is present in the description\n",
    "    '''\n",
    "    results = pd.DataFrame()\n",
    "    for term in key_terms:\n",
    "        results[term] = dataframe[colnam].str.contains(term.lower())\n",
    "    output = results.any(axis=1)  # Check if any key term is present in a row\n",
    "    return output\n",
    "\n",
    "\n",
    "for key, value in type_dict.items():\n",
    "    key_terms_results = check_key_terms(clothes_df,\"description2\", value)\n",
    "    clothes_df.loc[key_terms_results, 'type']=key"
   ]
  },
  {
   "cell_type": "code",
   "execution_count": 11,
   "id": "aba45234",
   "metadata": {},
   "outputs": [
    {
     "data": {
      "text/plain": [
       "type\n",
       "tshirt        8525\n",
       "shirt         7797\n",
       "sweatshirt    7640\n",
       "dress         7372\n",
       "sweater       3616\n",
       "top           2833\n",
       "underwear      407\n",
       "jacket         392\n",
       "pants          154\n",
       "skirt          144\n",
       "leggings        23\n",
       "shoes            6\n",
       "dtype: int64"
      ]
     },
     "metadata": {},
     "output_type": "display_data"
    },
    {
     "data": {
      "text/plain": [
       "357"
      ]
     },
     "execution_count": 11,
     "metadata": {},
     "output_type": "execute_result"
    }
   ],
   "source": [
    "display(clothes_df.value_counts(\"type\"))\n",
    "sum(clothes_df[\"type\"].isna())"
   ]
  },
  {
   "cell_type": "markdown",
   "id": "563f9139",
   "metadata": {},
   "source": [
    "#### Filter out \"shoes\", \"leggings\", \"skirt\", \"pants\", \"jacket\", \"underwear\", and drop NAs"
   ]
  },
  {
   "cell_type": "code",
   "execution_count": 12,
   "id": "357889ea",
   "metadata": {},
   "outputs": [],
   "source": [
    "clothes_df = clothes_df[~clothes_df[\"type\"].isin([\"\", \"shoes\", \"leggings\", \"skirt\", \"pants\", \"jacket\", \"underwear\"])]\n",
    "clothes_df = clothes_df.dropna(subset=[\"type\"])"
   ]
  },
  {
   "cell_type": "code",
   "execution_count": 13,
   "id": "9cc24843",
   "metadata": {},
   "outputs": [
    {
     "data": {
      "text/plain": [
       "type\n",
       "tshirt        8525\n",
       "shirt         7797\n",
       "sweatshirt    7640\n",
       "dress         7372\n",
       "sweater       3616\n",
       "top           2833\n",
       "dtype: int64"
      ]
     },
     "metadata": {},
     "output_type": "display_data"
    },
    {
     "data": {
      "text/plain": [
       "0"
      ]
     },
     "execution_count": 13,
     "metadata": {},
     "output_type": "execute_result"
    }
   ],
   "source": [
    "display(clothes_df.value_counts(\"type\"))\n",
    "sum(clothes_df[\"type\"].isna())"
   ]
  },
  {
   "cell_type": "markdown",
   "id": "081ed215",
   "metadata": {},
   "source": [
    "### 3.  Divide price of Packs\n",
    "\n",
    "There are 2 rows including the term \"pack\" but actually being only a single product.<br/>\n",
    "These have a price_pack = 0, what returns and inf. Thus, Manually modify them to original price."
   ]
  },
  {
   "cell_type": "code",
   "execution_count": 14,
   "id": "a1df87ac",
   "metadata": {},
   "outputs": [],
   "source": [
    "pack_dict={\"pack\":[\"pack\", \"packs\"]}\n",
    "\n",
    "def subset_pack(x):\n",
    "    x = x.lower()\n",
    "    x=unidecode(x)\n",
    "    theval=1\n",
    "    for KKK, VVV in pack_dict.items():\n",
    "        for VAL in VVV:\n",
    "            if VAL.lower() in x: # the item is actually a pack\n",
    "                #find the number of elements and divide the price\n",
    "                digits_list = re.findall(r'\\b\\d\\b', x)\n",
    "\n",
    "                numeric_values = [int(digit) for digit in digits_list]\n",
    "                if numeric_values:\n",
    "                    theval = min(numeric_values)\n",
    "                    #if theval == 0:\n",
    "                    #    print(digits_only, x)\n",
    "                else:\n",
    "                    theval=1\n",
    "\n",
    "    return theval\n",
    "\n",
    "##\n",
    "\n",
    "clothes_df[\"price_pack\"]=clothes_df['description'].apply(subset_pack)\n",
    "\n",
    "zeroval=clothes_df[\"price_pack\"]==0\n",
    "clothes_df.loc[zeroval, 'price_pack'] = 1\n",
    "clothes_df[\"price_pack\"]=clothes_df[\"price\"]/clothes_df[\"price_pack\"]\n",
    "nan_inf_mask = clothes_df[\"price_pack\"].isin([np.nan, np.inf, -np.inf])"
   ]
  },
  {
   "cell_type": "markdown",
   "id": "cf71cfb8",
   "metadata": {},
   "source": [
    "### 4. Remove brand names with less than 10 products --> \"other\"\n",
    "\n",
    "1874 brand have less than 10 products, <br/>\n",
    "616 brands have more or 10 products"
   ]
  },
  {
   "cell_type": "code",
   "execution_count": 15,
   "id": "bbe10b58",
   "metadata": {},
   "outputs": [],
   "source": [
    "frec_df=pd.DataFrame(clothes_df[\"brand\"].value_counts())\n",
    "frec_df[\"brand\"].describe()\n",
    "lowfreq_brands=frec_df[\"brand\"][frec_df[\"brand\"]<10].index\n",
    "highfreq_brands=frec_df[\"brand\"][frec_df[\"brand\"]>=10].index\n",
    "clothes_df[\"brand\"][clothes_df[\"brand\"].isin(lowfreq_brands)]=\"other\""
   ]
  },
  {
   "cell_type": "markdown",
   "id": "4d921490",
   "metadata": {},
   "source": [
    "## Decisions maked after EDA analysis:\n",
    "### 5. Divide brands in 3 groups according to their average price"
   ]
  },
  {
   "cell_type": "code",
   "execution_count": 16,
   "id": "cf136f8c",
   "metadata": {},
   "outputs": [],
   "source": [
    "brand_price_col_df=clothes_df.pivot_table(columns=\"colour\", index=\"brand\", aggfunc=\"size\", fill_value=0)\n",
    "brand_price_col_df[\"mean_price\"]=clothes_df.groupby(\"brand\").mean()[\"price_pack\"]\n",
    "\n",
    "cut_param=\"mean_price\"\n",
    "A=list(brand_price_col_df[brand_price_col_df[cut_param]<26].index)\n",
    "B=list(brand_price_col_df[(brand_price_col_df[cut_param]>=26)&(brand_price_col_df[cut_param]<35)].index)\n",
    "C=list(brand_price_col_df[brand_price_col_df[cut_param]>=35].index)\n",
    "\n",
    "brand_price_col_df=brand_price_col_df.sort_values(cut_param)"
   ]
  },
  {
   "cell_type": "code",
   "execution_count": 17,
   "id": "aef2c48b",
   "metadata": {},
   "outputs": [
    {
     "data": {
      "text/plain": [
       "low       16498\n",
       "middle    13478\n",
       "high       7807\n",
       "Name: brand_class, dtype: int64"
      ]
     },
     "execution_count": 17,
     "metadata": {},
     "output_type": "execute_result"
    }
   ],
   "source": [
    "clothes_df=clothes_df.copy()\n",
    "\n",
    "clothes_df[\"brand_class\"]=0\n",
    "clothes_df[\"brand_class\"][clothes_df[\"brand\"].isin(A)]=\"low\"\n",
    "clothes_df[\"brand_class\"][clothes_df[\"brand\"].isin(B)]=\"middle\"\n",
    "clothes_df[\"brand_class\"][clothes_df[\"brand\"].isin(C)]=\"high\"\n",
    "clothes_df[\"brand_class\"].value_counts()"
   ]
  },
  {
   "cell_type": "code",
   "execution_count": 18,
   "id": "534ca027",
   "metadata": {},
   "outputs": [
    {
     "data": {
      "text/html": [
       "<div>\n",
       "<style scoped>\n",
       "    .dataframe tbody tr th:only-of-type {\n",
       "        vertical-align: middle;\n",
       "    }\n",
       "\n",
       "    .dataframe tbody tr th {\n",
       "        vertical-align: top;\n",
       "    }\n",
       "\n",
       "    .dataframe thead th {\n",
       "        text-align: right;\n",
       "    }\n",
       "</style>\n",
       "<table border=\"1\" class=\"dataframe\">\n",
       "  <thead>\n",
       "    <tr style=\"text-align: right;\">\n",
       "      <th></th>\n",
       "      <th>brand</th>\n",
       "      <th>description</th>\n",
       "      <th>price</th>\n",
       "      <th>colour</th>\n",
       "      <th>shop</th>\n",
       "      <th>gender</th>\n",
       "      <th>description2</th>\n",
       "      <th>type</th>\n",
       "      <th>price_pack</th>\n",
       "      <th>brand_class</th>\n",
       "    </tr>\n",
       "  </thead>\n",
       "  <tbody>\n",
       "    <tr>\n",
       "      <th>7792</th>\n",
       "      <td>other</td>\n",
       "      <td>SDBrice LS2 - Jersey de punto fino para hombre...</td>\n",
       "      <td>36.19</td>\n",
       "      <td>beige</td>\n",
       "      <td>amz</td>\n",
       "      <td>men</td>\n",
       "      <td>sdbrice ls2 - jersey de punto fino para hombre...</td>\n",
       "      <td>sweater</td>\n",
       "      <td>36.19</td>\n",
       "      <td>middle</td>\n",
       "    </tr>\n",
       "    <tr>\n",
       "      <th>7966</th>\n",
       "      <td>other</td>\n",
       "      <td>SDGibril - Jersey - 21107899</td>\n",
       "      <td>45.40</td>\n",
       "      <td>beige</td>\n",
       "      <td>amz</td>\n",
       "      <td>men</td>\n",
       "      <td>sdgibril - jersey - 21107899</td>\n",
       "      <td>sweater</td>\n",
       "      <td>45.40</td>\n",
       "      <td>middle</td>\n",
       "    </tr>\n",
       "    <tr>\n",
       "      <th>8187</th>\n",
       "      <td>other</td>\n",
       "      <td>SDElijah 21107501 - Jersey de punto grueso par...</td>\n",
       "      <td>49.94</td>\n",
       "      <td>beige</td>\n",
       "      <td>amz</td>\n",
       "      <td>men</td>\n",
       "      <td>sdelijah 21107501 - jersey de punto grueso par...</td>\n",
       "      <td>sweater</td>\n",
       "      <td>49.94</td>\n",
       "      <td>middle</td>\n",
       "    </tr>\n",
       "    <tr>\n",
       "      <th>8166</th>\n",
       "      <td>other</td>\n",
       "      <td>SDLenz Zipper SW - Sudadera - 21107421</td>\n",
       "      <td>62.44</td>\n",
       "      <td>beige</td>\n",
       "      <td>amz</td>\n",
       "      <td>men</td>\n",
       "      <td>sdlenz zipper sw - sudadera - 21107421</td>\n",
       "      <td>sweatshirt</td>\n",
       "      <td>62.44</td>\n",
       "      <td>middle</td>\n",
       "    </tr>\n",
       "    <tr>\n",
       "      <th>3064</th>\n",
       "      <td>other</td>\n",
       "      <td>Norwin Jersey De Punto Troyer Suéter Sudadera ...</td>\n",
       "      <td>62.44</td>\n",
       "      <td>brown</td>\n",
       "      <td>amz</td>\n",
       "      <td>men</td>\n",
       "      <td>norwin jersey de punto troyer sueter sudadera ...</td>\n",
       "      <td>sweater</td>\n",
       "      <td>62.44</td>\n",
       "      <td>middle</td>\n",
       "    </tr>\n",
       "  </tbody>\n",
       "</table>\n",
       "</div>"
      ],
      "text/plain": [
       "      brand                                        description  price colour  \\\n",
       "7792  other  SDBrice LS2 - Jersey de punto fino para hombre...  36.19  beige   \n",
       "7966  other                       SDGibril - Jersey - 21107899  45.40  beige   \n",
       "8187  other  SDElijah 21107501 - Jersey de punto grueso par...  49.94  beige   \n",
       "8166  other             SDLenz Zipper SW - Sudadera - 21107421  62.44  beige   \n",
       "3064  other  Norwin Jersey De Punto Troyer Suéter Sudadera ...  62.44  brown   \n",
       "\n",
       "     shop gender                                       description2  \\\n",
       "7792  amz    men  sdbrice ls2 - jersey de punto fino para hombre...   \n",
       "7966  amz    men                       sdgibril - jersey - 21107899   \n",
       "8187  amz    men  sdelijah 21107501 - jersey de punto grueso par...   \n",
       "8166  amz    men             sdlenz zipper sw - sudadera - 21107421   \n",
       "3064  amz    men  norwin jersey de punto troyer sueter sudadera ...   \n",
       "\n",
       "            type  price_pack brand_class  \n",
       "7792     sweater       36.19      middle  \n",
       "7966     sweater       45.40      middle  \n",
       "8187     sweater       49.94      middle  \n",
       "8166  sweatshirt       62.44      middle  \n",
       "3064     sweater       62.44      middle  "
      ]
     },
     "execution_count": 18,
     "metadata": {},
     "output_type": "execute_result"
    }
   ],
   "source": [
    "clothes_df.head()"
   ]
  },
  {
   "cell_type": "code",
   "execution_count": 19,
   "id": "5cf923a1",
   "metadata": {},
   "outputs": [
    {
     "data": {
      "image/png": "[encoded data removed]",
      "text/plain": [
       "<Figure size 800x400 with 2 Axes>"
      ]
     },
     "metadata": {},
     "output_type": "display_data"
    }
   ],
   "source": [
    "plt.rcParams['figure.figsize'] = (8, 4)\n",
    "\n",
    "custom_palette = {'low': 'orange', 'middle': 'red', 'high': 'black'}\n",
    "\n",
    "# Crear una figura con dos ejes (subplots)\n",
    "fig, axes = plt.subplots(1, 2)\n",
    "\n",
    "# Gráfico con regplot en el primer eje (izquierda)\n",
    "sns.regplot(x=brand_price_col_df.index, y=brand_price_col_df[cut_param],\n",
    "            scatter_kws={\"s\": 10, \"alpha\": 0.5, \"color\": \"grey\"},\n",
    "            fit_reg=False, ax=axes[0])\n",
    "\n",
    "axes[0].set_xticks([]) \n",
    "axes[0].set_xlabel('Ranked brands')\n",
    "axes[0].set_ylabel(cut_param)\n",
    "axes[0].axhline(y=25, color='black', linestyle='--')  \n",
    "axes[0].axhline(y=35, color='black', linestyle='--') \n",
    "\n",
    "\n",
    "####\n",
    "\n",
    "sns.histplot(data=clothes_df[clothes_df[\"brand_class\"]==\"low\"], x=\"price_pack\", color=\"orange\", label=\"low\", kde=True, ax=axes[1]).set_xlim(0, 200)\n",
    "sns.histplot(data=clothes_df[clothes_df[\"brand_class\"]==\"middle\"],x=\"price_pack\", color=\"red\", label=\"middle\", kde=True, ax=axes[1]).set_xlim(0, 200)\n",
    "sns.histplot(data=clothes_df[clothes_df[\"brand_class\"]==\"high\"], x=\"price_pack\", color=\"black\", label=\"high\", kde=True, ax=axes[1]).set_xlim(0, 200)\n",
    "\n",
    "axes[1].legend();\n"
   ]
  },
  {
   "cell_type": "markdown",
   "id": "a0117cf8",
   "metadata": {},
   "source": [
    "### 8. Get dummy variables to construct a machine learning model"
   ]
  },
  {
   "cell_type": "code",
   "execution_count": 20,
   "id": "09256d3d",
   "metadata": {},
   "outputs": [],
   "source": [
    "clothes_df=clothes_df.reset_index(drop=True)"
   ]
  },
  {
   "cell_type": "code",
   "execution_count": 21,
   "id": "2bb367b0",
   "metadata": {},
   "outputs": [
    {
     "data": {
      "text/plain": [
       "Index(['price_pack', 'women', 'shirt', 'sweater', 'sweatshirt', 'top',\n",
       "       'tshirt', 'black', 'blue', 'brown', 'gold', 'gray', 'green',\n",
       "       'multicolor', 'orange', 'pink', 'purple', 'red', 'turquoise', 'white',\n",
       "       'yellow', 'low', 'middle'],\n",
       "      dtype='object')"
      ]
     },
     "metadata": {},
     "output_type": "display_data"
    },
    {
     "data": {
      "text/html": [
       "<div>\n",
       "<style scoped>\n",
       "    .dataframe tbody tr th:only-of-type {\n",
       "        vertical-align: middle;\n",
       "    }\n",
       "\n",
       "    .dataframe tbody tr th {\n",
       "        vertical-align: top;\n",
       "    }\n",
       "\n",
       "    .dataframe thead th {\n",
       "        text-align: right;\n",
       "    }\n",
       "</style>\n",
       "<table border=\"1\" class=\"dataframe\">\n",
       "  <thead>\n",
       "    <tr style=\"text-align: right;\">\n",
       "      <th></th>\n",
       "      <th>price_pack</th>\n",
       "      <th>women</th>\n",
       "      <th>shirt</th>\n",
       "      <th>sweater</th>\n",
       "      <th>sweatshirt</th>\n",
       "      <th>top</th>\n",
       "      <th>tshirt</th>\n",
       "      <th>black</th>\n",
       "      <th>blue</th>\n",
       "      <th>brown</th>\n",
       "      <th>gold</th>\n",
       "      <th>gray</th>\n",
       "      <th>green</th>\n",
       "      <th>multicolor</th>\n",
       "      <th>orange</th>\n",
       "      <th>pink</th>\n",
       "      <th>purple</th>\n",
       "      <th>red</th>\n",
       "      <th>turquoise</th>\n",
       "      <th>white</th>\n",
       "      <th>yellow</th>\n",
       "      <th>low</th>\n",
       "      <th>middle</th>\n",
       "    </tr>\n",
       "  </thead>\n",
       "  <tbody>\n",
       "    <tr>\n",
       "      <th>0</th>\n",
       "      <td>36.19</td>\n",
       "      <td>0</td>\n",
       "      <td>0</td>\n",
       "      <td>1</td>\n",
       "      <td>0</td>\n",
       "      <td>0</td>\n",
       "      <td>0</td>\n",
       "      <td>0</td>\n",
       "      <td>0</td>\n",
       "      <td>0</td>\n",
       "      <td>0</td>\n",
       "      <td>0</td>\n",
       "      <td>0</td>\n",
       "      <td>0</td>\n",
       "      <td>0</td>\n",
       "      <td>0</td>\n",
       "      <td>0</td>\n",
       "      <td>0</td>\n",
       "      <td>0</td>\n",
       "      <td>0</td>\n",
       "      <td>0</td>\n",
       "      <td>0</td>\n",
       "      <td>1</td>\n",
       "    </tr>\n",
       "    <tr>\n",
       "      <th>1</th>\n",
       "      <td>45.40</td>\n",
       "      <td>0</td>\n",
       "      <td>0</td>\n",
       "      <td>1</td>\n",
       "      <td>0</td>\n",
       "      <td>0</td>\n",
       "      <td>0</td>\n",
       "      <td>0</td>\n",
       "      <td>0</td>\n",
       "      <td>0</td>\n",
       "      <td>0</td>\n",
       "      <td>0</td>\n",
       "      <td>0</td>\n",
       "      <td>0</td>\n",
       "      <td>0</td>\n",
       "      <td>0</td>\n",
       "      <td>0</td>\n",
       "      <td>0</td>\n",
       "      <td>0</td>\n",
       "      <td>0</td>\n",
       "      <td>0</td>\n",
       "      <td>0</td>\n",
       "      <td>1</td>\n",
       "    </tr>\n",
       "    <tr>\n",
       "      <th>2</th>\n",
       "      <td>49.94</td>\n",
       "      <td>0</td>\n",
       "      <td>0</td>\n",
       "      <td>1</td>\n",
       "      <td>0</td>\n",
       "      <td>0</td>\n",
       "      <td>0</td>\n",
       "      <td>0</td>\n",
       "      <td>0</td>\n",
       "      <td>0</td>\n",
       "      <td>0</td>\n",
       "      <td>0</td>\n",
       "      <td>0</td>\n",
       "      <td>0</td>\n",
       "      <td>0</td>\n",
       "      <td>0</td>\n",
       "      <td>0</td>\n",
       "      <td>0</td>\n",
       "      <td>0</td>\n",
       "      <td>0</td>\n",
       "      <td>0</td>\n",
       "      <td>0</td>\n",
       "      <td>1</td>\n",
       "    </tr>\n",
       "    <tr>\n",
       "      <th>3</th>\n",
       "      <td>62.44</td>\n",
       "      <td>0</td>\n",
       "      <td>0</td>\n",
       "      <td>0</td>\n",
       "      <td>1</td>\n",
       "      <td>0</td>\n",
       "      <td>0</td>\n",
       "      <td>0</td>\n",
       "      <td>0</td>\n",
       "      <td>0</td>\n",
       "      <td>0</td>\n",
       "      <td>0</td>\n",
       "      <td>0</td>\n",
       "      <td>0</td>\n",
       "      <td>0</td>\n",
       "      <td>0</td>\n",
       "      <td>0</td>\n",
       "      <td>0</td>\n",
       "      <td>0</td>\n",
       "      <td>0</td>\n",
       "      <td>0</td>\n",
       "      <td>0</td>\n",
       "      <td>1</td>\n",
       "    </tr>\n",
       "    <tr>\n",
       "      <th>4</th>\n",
       "      <td>62.44</td>\n",
       "      <td>0</td>\n",
       "      <td>0</td>\n",
       "      <td>1</td>\n",
       "      <td>0</td>\n",
       "      <td>0</td>\n",
       "      <td>0</td>\n",
       "      <td>0</td>\n",
       "      <td>0</td>\n",
       "      <td>1</td>\n",
       "      <td>0</td>\n",
       "      <td>0</td>\n",
       "      <td>0</td>\n",
       "      <td>0</td>\n",
       "      <td>0</td>\n",
       "      <td>0</td>\n",
       "      <td>0</td>\n",
       "      <td>0</td>\n",
       "      <td>0</td>\n",
       "      <td>0</td>\n",
       "      <td>0</td>\n",
       "      <td>0</td>\n",
       "      <td>1</td>\n",
       "    </tr>\n",
       "  </tbody>\n",
       "</table>\n",
       "</div>"
      ],
      "text/plain": [
       "   price_pack  women  shirt  sweater  sweatshirt  top  tshirt  black  blue  \\\n",
       "0       36.19      0      0        1           0    0       0      0     0   \n",
       "1       45.40      0      0        1           0    0       0      0     0   \n",
       "2       49.94      0      0        1           0    0       0      0     0   \n",
       "3       62.44      0      0        0           1    0       0      0     0   \n",
       "4       62.44      0      0        1           0    0       0      0     0   \n",
       "\n",
       "   brown  gold  gray  green  multicolor  orange  pink  purple  red  turquoise  \\\n",
       "0      0     0     0      0           0       0     0       0    0          0   \n",
       "1      0     0     0      0           0       0     0       0    0          0   \n",
       "2      0     0     0      0           0       0     0       0    0          0   \n",
       "3      0     0     0      0           0       0     0       0    0          0   \n",
       "4      1     0     0      0           0       0     0       0    0          0   \n",
       "\n",
       "   white  yellow  low  middle  \n",
       "0      0       0    0       1  \n",
       "1      0       0    0       1  \n",
       "2      0       0    0       1  \n",
       "3      0       0    0       1  \n",
       "4      0       0    0       1  "
      ]
     },
     "execution_count": 21,
     "metadata": {},
     "output_type": "execute_result"
    }
   ],
   "source": [
    "clothes_dum = clothes_df[[\"gender\", \"type\", \"colour\", \"brand_class\", \"price_pack\"]]\n",
    "dum_vars=[\"gender\", \"type\", \"colour\", \"brand_class\"]\n",
    "\n",
    "for col_dum in dum_vars:\n",
    "    dummies_temp = pd.get_dummies(clothes_dum[col_dum], drop_first=True)\n",
    "    clothes_dum = pd.concat([clothes_dum, dummies_temp], axis=1) # Concatenate the dummies \n",
    "    clothes_dum.drop(col_dum, axis=1, inplace=True) # Drop the original column \n",
    "\n",
    "display(clothes_dum.columns)\n",
    "clothes_dum.head()"
   ]
  },
  {
   "cell_type": "markdown",
   "id": "370faf86",
   "metadata": {},
   "source": [
    "## 3. Save `clothes` dataframe [dummies, simple, complete]\n",
    "The lines are commented to avoid overwriting"
   ]
  },
  {
   "cell_type": "code",
   "execution_count": 22,
   "id": "03bcf8e7",
   "metadata": {},
   "outputs": [],
   "source": [
    "clothes_complete=clothes_df.copy()\n",
    "clothes_complete[\"product_id\"]=clothes_complete.index+1\n",
    "clothes_simple=clothes_complete[[\"product_id\", \"brand_class\", \"colour\", \"gender\", \"type\", \"price_pack\"]]"
   ]
  },
  {
   "cell_type": "code",
   "execution_count": 221,
   "id": "7c1a6309",
   "metadata": {},
   "outputs": [
    {
     "data": {
      "text/html": [
       "<div>\n",
       "<style scoped>\n",
       "    .dataframe tbody tr th:only-of-type {\n",
       "        vertical-align: middle;\n",
       "    }\n",
       "\n",
       "    .dataframe tbody tr th {\n",
       "        vertical-align: top;\n",
       "    }\n",
       "\n",
       "    .dataframe thead th {\n",
       "        text-align: right;\n",
       "    }\n",
       "</style>\n",
       "<table border=\"1\" class=\"dataframe\">\n",
       "  <thead>\n",
       "    <tr style=\"text-align: right;\">\n",
       "      <th></th>\n",
       "      <th>product_id</th>\n",
       "      <th>brand_class</th>\n",
       "      <th>colour</th>\n",
       "      <th>gender</th>\n",
       "      <th>type</th>\n",
       "      <th>price_pack</th>\n",
       "    </tr>\n",
       "  </thead>\n",
       "  <tbody>\n",
       "    <tr>\n",
       "      <th>0</th>\n",
       "      <td>1</td>\n",
       "      <td>middle</td>\n",
       "      <td>beige</td>\n",
       "      <td>men</td>\n",
       "      <td>sweater</td>\n",
       "      <td>36.19</td>\n",
       "    </tr>\n",
       "    <tr>\n",
       "      <th>1</th>\n",
       "      <td>2</td>\n",
       "      <td>middle</td>\n",
       "      <td>beige</td>\n",
       "      <td>men</td>\n",
       "      <td>sweater</td>\n",
       "      <td>45.40</td>\n",
       "    </tr>\n",
       "    <tr>\n",
       "      <th>2</th>\n",
       "      <td>3</td>\n",
       "      <td>middle</td>\n",
       "      <td>beige</td>\n",
       "      <td>men</td>\n",
       "      <td>sweater</td>\n",
       "      <td>49.94</td>\n",
       "    </tr>\n",
       "    <tr>\n",
       "      <th>3</th>\n",
       "      <td>4</td>\n",
       "      <td>middle</td>\n",
       "      <td>beige</td>\n",
       "      <td>men</td>\n",
       "      <td>sweatshirt</td>\n",
       "      <td>62.44</td>\n",
       "    </tr>\n",
       "    <tr>\n",
       "      <th>4</th>\n",
       "      <td>5</td>\n",
       "      <td>middle</td>\n",
       "      <td>brown</td>\n",
       "      <td>men</td>\n",
       "      <td>sweater</td>\n",
       "      <td>62.44</td>\n",
       "    </tr>\n",
       "  </tbody>\n",
       "</table>\n",
       "</div>"
      ],
      "text/plain": [
       "   product_id brand_class colour gender        type  price_pack\n",
       "0           1      middle  beige    men     sweater       36.19\n",
       "1           2      middle  beige    men     sweater       45.40\n",
       "2           3      middle  beige    men     sweater       49.94\n",
       "3           4      middle  beige    men  sweatshirt       62.44\n",
       "4           5      middle  brown    men     sweater       62.44"
      ]
     },
     "execution_count": 221,
     "metadata": {},
     "output_type": "execute_result"
    }
   ],
   "source": [
    "clothes_simple.head()"
   ]
  },
  {
   "cell_type": "code",
   "execution_count": 23,
   "id": "099c6602",
   "metadata": {},
   "outputs": [],
   "source": [
    "#clothes_simple.to_csv('../data/clean/clothes_simple.csv', index=False)\n",
    "#clothes_complete.to_csv('../data/clean/clothes_complete.csv', index=False)\n",
    "#clothes_dum.to_csv('../data/clean/clothes_dum.csv', index=False)\n",
    "\n",
    "#clothes_simple.to_excel('../data/clean/clothes_simple.xlsx', index=False) \n",
    "#clothes_complete.to_excel('../data/clean/clothes_complete.xlsx', index=False) "
   ]
  }
 ],
 "metadata": {
  "kernelspec": {
   "display_name": "env37",
   "language": "python",
   "name": "env37"
  },
  "language_info": {
   "codemirror_mode": {
    "name": "ipython",
    "version": 3
   },
   "file_extension": ".py",
   "mimetype": "text/x-python",
   "name": "python",
   "nbconvert_exporter": "python",
   "pygments_lexer": "ipython3",
   "version": "3.7.16"
  }
 },
 "nbformat": 4,
 "nbformat_minor": 5
}
